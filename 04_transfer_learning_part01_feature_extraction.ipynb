{
  "nbformat": 4,
  "nbformat_minor": 0,
  "metadata": {
    "colab": {
      "provenance": [],
      "collapsed_sections": [],
      "authorship_tag": "ABX9TyMc93OJGI4cKhtHuafR+2Wp",
      "include_colab_link": true
    },
    "kernelspec": {
      "name": "python3",
      "display_name": "Python 3"
    },
    "language_info": {
      "name": "python"
    },
    "accelerator": "GPU"
  },
  "cells": [
    {
      "cell_type": "markdown",
      "metadata": {
        "id": "view-in-github",
        "colab_type": "text"
      },
      "source": [
        "<a href=\"https://colab.research.google.com/github/AtriSaxena/Tensorflow-2.X-Zero2Mastery/blob/main/04_transfer_learning_part01_feature_extraction.ipynb\" target=\"_parent\"><img src=\"https://colab.research.google.com/assets/colab-badge.svg\" alt=\"Open In Colab\"/></a>"
      ]
    },
    {
      "cell_type": "markdown",
      "metadata": {
        "id": "V4VjfpqOPjDx"
      },
      "source": [
        "# Transfer Learning with Tensorflow Part1: Feature Extraction \n",
        "\n",
        "Transfer learning is leveraging a working models existing architecture and learned patterns for our own problem. \n",
        "\n",
        "There are tow main benefits: \n",
        "1. Can leverage an existing neural network architecture proven to work on the problems similar to our own. \n",
        "2. Can leverage a working neural network which has already learned patterns on similar data to our own, then we can adapt those patterns to our own data. "
      ]
    },
    {
      "cell_type": "code",
      "metadata": {
        "colab": {
          "base_uri": "https://localhost:8080/"
        },
        "id": "OzXXU6mXQuLv",
        "outputId": "cdbe8cf1-033f-43a5-84de-6ff24632759f"
      },
      "source": [
        "\n",
        "!nvidia-smi"
      ],
      "execution_count": null,
      "outputs": [
        {
          "output_type": "stream",
          "name": "stdout",
          "text": [
            "Sun Nov 14 15:50:36 2021       \n",
            "+-----------------------------------------------------------------------------+\n",
            "| NVIDIA-SMI 495.44       Driver Version: 460.32.03    CUDA Version: 11.2     |\n",
            "|-------------------------------+----------------------+----------------------+\n",
            "| GPU  Name        Persistence-M| Bus-Id        Disp.A | Volatile Uncorr. ECC |\n",
            "| Fan  Temp  Perf  Pwr:Usage/Cap|         Memory-Usage | GPU-Util  Compute M. |\n",
            "|                               |                      |               MIG M. |\n",
            "|===============================+======================+======================|\n",
            "|   0  Tesla K80           Off  | 00000000:00:04.0 Off |                    0 |\n",
            "| N/A   34C    P8    28W / 149W |      0MiB / 11441MiB |      0%      Default |\n",
            "|                               |                      |                  N/A |\n",
            "+-------------------------------+----------------------+----------------------+\n",
            "                                                                               \n",
            "+-----------------------------------------------------------------------------+\n",
            "| Processes:                                                                  |\n",
            "|  GPU   GI   CI        PID   Type   Process name                  GPU Memory |\n",
            "|        ID   ID                                                   Usage      |\n",
            "|=============================================================================|\n",
            "|  No running processes found                                                 |\n",
            "+-----------------------------------------------------------------------------+\n"
          ]
        }
      ]
    },
    {
      "cell_type": "markdown",
      "metadata": {
        "id": "PoGgf_SwRHpe"
      },
      "source": [
        "# Downloading and become one with data"
      ]
    },
    {
      "cell_type": "code",
      "metadata": {
        "colab": {
          "base_uri": "https://localhost:8080/"
        },
        "id": "MVHPzyfHRPEJ",
        "outputId": "12bcc783-6ad1-4eed-8432-47b9a4e1590a"
      },
      "source": [
        "#Download the data (10% of 10 food classes from Food101)\n",
        "\n",
        "!wget https://storage.googleapis.com/ztm_tf_course/food_vision/10_food_classes_10_percent.zip \n",
        "\n",
        "import zipfile \n",
        "\n",
        "#unzip the file \n",
        "\n",
        "zip_ref = zipfile.ZipFile(\"10_food_classes_10_percent.zip\")\n",
        "zip_ref.extractall() \n",
        "zip_ref.close()"
      ],
      "execution_count": null,
      "outputs": [
        {
          "output_type": "stream",
          "name": "stdout",
          "text": [
            "--2021-11-14 15:50:37--  https://storage.googleapis.com/ztm_tf_course/food_vision/10_food_classes_10_percent.zip\n",
            "Resolving storage.googleapis.com (storage.googleapis.com)... 173.194.193.128, 173.194.194.128, 173.194.197.128, ...\n",
            "Connecting to storage.googleapis.com (storage.googleapis.com)|173.194.193.128|:443... connected.\n",
            "HTTP request sent, awaiting response... 200 OK\n",
            "Length: 168546183 (161M) [application/zip]\n",
            "Saving to: ‘10_food_classes_10_percent.zip’\n",
            "\n",
            "10_food_classes_10_ 100%[===================>] 160.74M  83.1MB/s    in 1.9s    \n",
            "\n",
            "2021-11-14 15:50:39 (83.1 MB/s) - ‘10_food_classes_10_percent.zip’ saved [168546183/168546183]\n",
            "\n"
          ]
        }
      ]
    },
    {
      "cell_type": "code",
      "metadata": {
        "colab": {
          "base_uri": "https://localhost:8080/"
        },
        "id": "MtfUih1sRuLQ",
        "outputId": "30609553-dbf0-4003-cd73-696834d7507a"
      },
      "source": [
        "#How many images in each folder \n",
        "import os \n",
        "\n",
        "for dirpath, dirnames, filenames in os.walk(\"10_food_classes_10_percent\"): \n",
        "  print(f\"There are {len(dirnames)} directories and {len(filenames)} images in '{dirpath}'.\")"
      ],
      "execution_count": null,
      "outputs": [
        {
          "output_type": "stream",
          "name": "stdout",
          "text": [
            "There are 2 directories and 0 images in '10_food_classes_10_percent'.\n",
            "There are 10 directories and 0 images in '10_food_classes_10_percent/train'.\n",
            "There are 0 directories and 75 images in '10_food_classes_10_percent/train/hamburger'.\n",
            "There are 0 directories and 75 images in '10_food_classes_10_percent/train/grilled_salmon'.\n",
            "There are 0 directories and 75 images in '10_food_classes_10_percent/train/pizza'.\n",
            "There are 0 directories and 75 images in '10_food_classes_10_percent/train/ramen'.\n",
            "There are 0 directories and 75 images in '10_food_classes_10_percent/train/sushi'.\n",
            "There are 0 directories and 75 images in '10_food_classes_10_percent/train/steak'.\n",
            "There are 0 directories and 75 images in '10_food_classes_10_percent/train/chicken_wings'.\n",
            "There are 0 directories and 75 images in '10_food_classes_10_percent/train/chicken_curry'.\n",
            "There are 0 directories and 75 images in '10_food_classes_10_percent/train/fried_rice'.\n",
            "There are 0 directories and 75 images in '10_food_classes_10_percent/train/ice_cream'.\n",
            "There are 10 directories and 0 images in '10_food_classes_10_percent/test'.\n",
            "There are 0 directories and 250 images in '10_food_classes_10_percent/test/hamburger'.\n",
            "There are 0 directories and 250 images in '10_food_classes_10_percent/test/grilled_salmon'.\n",
            "There are 0 directories and 250 images in '10_food_classes_10_percent/test/pizza'.\n",
            "There are 0 directories and 250 images in '10_food_classes_10_percent/test/ramen'.\n",
            "There are 0 directories and 250 images in '10_food_classes_10_percent/test/sushi'.\n",
            "There are 0 directories and 250 images in '10_food_classes_10_percent/test/steak'.\n",
            "There are 0 directories and 250 images in '10_food_classes_10_percent/test/chicken_wings'.\n",
            "There are 0 directories and 250 images in '10_food_classes_10_percent/test/chicken_curry'.\n",
            "There are 0 directories and 250 images in '10_food_classes_10_percent/test/fried_rice'.\n",
            "There are 0 directories and 250 images in '10_food_classes_10_percent/test/ice_cream'.\n"
          ]
        }
      ]
    },
    {
      "cell_type": "markdown",
      "metadata": {
        "id": "BA_tlTyZSaHv"
      },
      "source": [
        "# Create data loaders(preparing the data) \n",
        "\n",
        "We will use the `ImageDataGenerators` class to load in our images in batches. "
      ]
    },
    {
      "cell_type": "code",
      "metadata": {
        "colab": {
          "base_uri": "https://localhost:8080/"
        },
        "id": "kv9AAUEPTHyw",
        "outputId": "96954f69-a7aa-413d-c897-c75b051c114b"
      },
      "source": [
        "#Setup data inputs \n",
        "\n",
        "from tensorflow.keras.preprocessing.image import ImageDataGenerator \n",
        "\n",
        "IMAGE_SHAPE = (224,224) \n",
        "BATCH_SIZE = 32 \n",
        "\n",
        "train_dir = \"10_food_classes_10_percent/train/\"\n",
        "test_dir = \"10_food_classes_10_percent/test/\" \n",
        "\n",
        "train_datagen = ImageDataGenerator(rescale=1/255.) \n",
        "test_datagen = ImageDataGenerator(rescale = 1/255.)\n",
        "\n",
        "print(\"Training Images: \")\n",
        "\n",
        "train_data_10_percent = train_datagen.flow_from_directory(train_dir, \n",
        "                                                          batch_size = BATCH_SIZE, \n",
        "                                                          target_size = IMAGE_SHAPE,\n",
        "                                                          class_mode = \"categorical\")\n",
        "\n",
        "print(\"Test Images:\")\n",
        "\n",
        "test_data_10_percent = train_datagen.flow_from_directory(test_dir, \n",
        "                                                         batch_size = BATCH_SIZE, \n",
        "                                                          target_size = IMAGE_SHAPE,\n",
        "                                                          class_mode = \"categorical\")"
      ],
      "execution_count": null,
      "outputs": [
        {
          "output_type": "stream",
          "name": "stdout",
          "text": [
            "Training Images: \n",
            "Found 750 images belonging to 10 classes.\n",
            "Test Images:\n",
            "Found 2500 images belonging to 10 classes.\n"
          ]
        }
      ]
    },
    {
      "cell_type": "markdown",
      "metadata": {
        "id": "iY2IotnyUgrz"
      },
      "source": [
        "## Setting back callbacks \n",
        "\n",
        "* Tracking experiment with the Tensorboard callbacks. \n",
        "* Model checkpoint with the ModelCheckpoint callbacks. \n",
        "* Stopping a model from training (before it trains too long and overfits) with the EarlyStopping callback.\n",
        "\n",
        "`tf.keras.callbacks.Callback`"
      ]
    },
    {
      "cell_type": "code",
      "metadata": {
        "id": "-5uLNVQhU4PR"
      },
      "source": [
        "#Create Tensorflow callbacks (Functionized because we need to create a new one for each model) \n",
        "\n",
        "import datetime \n",
        "\n",
        "def create_tensorboard_callback(dir_name, experiment_name): \n",
        "  log_dir = dir_name + \"/\" + experiment_name + \"/\" + datetime.datetime.now().strftime(\"%Y%m%d-%H%M%S\")\n",
        "  tensorboard_callback = tf.keras.callbacks.TensorBoard(log_dir = log_dir)\n",
        "  print(f\"Saving Tensorboard log files to: {log_dir}\")\n",
        "  return tensorboard_callback\n"
      ],
      "execution_count": null,
      "outputs": []
    },
    {
      "cell_type": "markdown",
      "metadata": {
        "id": "TN-Ynmuqw58F"
      },
      "source": [
        "## Creating models using Tensorflow hub \n",
        "\n",
        "Tensorflow hub contains the pretrained models on certain data. \n",
        "\n",
        "We can access the pretrained models on https://tfhub.dev  \n",
        "\n",
        "From various models we found two models for our problem: \n",
        "1. EfficientNet: https://tfhub.dev/tensorflow/efficientnet/b0/feature-vector/1\n",
        "\n",
        "2. Resnet50: https://tfhub.dev/google/imagenet/resnet_v2_50/feature_vector/5"
      ]
    },
    {
      "cell_type": "code",
      "metadata": {
        "id": "URbmTmkRyEq5"
      },
      "source": [
        "resnet_url = \"https://tfhub.dev/google/imagenet/resnet_v2_50/feature_vector/5\"\n",
        "\n",
        "EfficientNet_url = \"https://tfhub.dev/tensorflow/efficientnet/b0/feature-vector/1\""
      ],
      "execution_count": null,
      "outputs": []
    },
    {
      "cell_type": "code",
      "metadata": {
        "id": "C7OlZspl6nrL"
      },
      "source": [
        "#Import dependencies \n",
        "import tensorflow as tf\n",
        "import tensorflow_hub as hub \n",
        "from tensorflow.keras import layers "
      ],
      "execution_count": null,
      "outputs": []
    },
    {
      "cell_type": "code",
      "metadata": {
        "id": "6mzlM_3y62EY"
      },
      "source": [
        "#Let's  make a create_model() function to create a model from a URL \n",
        "\n",
        "def create_model(model_url, num_classes=10): \n",
        "  \"\"\"\n",
        "  Takes a Tensorflow hub URL and creates a keras Sequential model with it\n",
        "\n",
        "  Args:  \n",
        "    model_url (str): A Tensorflow Hub feature extraction URL. \n",
        "    num_classes(int): Number of output neurons in the output layer, should be \n",
        "      equal to number of targer classes, default 10. \n",
        "  \n",
        "  Returns:\n",
        "    An uncompiled Keras Sequential model with model_url as feature extractor layer\n",
        "    and Dense output layer with num_classes output neurons.  \n",
        "  \"\"\"\n",
        "\n",
        "  #Download the pretrained model and save it as a Keras layer \n",
        "  feature_extractor_layer = hub.KerasLayer(model_url, \n",
        "                                           trainable = False, \n",
        "                                           name = \"feature_extraction_layer\",\n",
        "                                           input_shape = IMAGE_SHAPE + (3,))\n",
        "  \n",
        "  #create our own model \n",
        "  model = tf.keras.Sequential([\n",
        "                               feature_extractor_layer,\n",
        "                               layers.Dense(num_classes, activation = \"softmax\", name =\"output_layer\")\n",
        "  ])\n",
        "\n",
        "  return model\n"
      ],
      "execution_count": null,
      "outputs": []
    },
    {
      "cell_type": "markdown",
      "metadata": {
        "id": "Iuv0mms2IFNn"
      },
      "source": [
        "## Creating and testing ResNet Tensorflow Hub Feature extraction model \n",
        "\n"
      ]
    },
    {
      "cell_type": "code",
      "metadata": {
        "id": "D6c31ikUM4-M"
      },
      "source": [
        "#Create resnet model \n",
        "\n",
        "resnet_model = create_model(resnet_url, \n",
        "                              num_classes = train_data_10_percent.num_classes)"
      ],
      "execution_count": null,
      "outputs": []
    },
    {
      "cell_type": "code",
      "metadata": {
        "id": "9Fymx9lUPobt"
      },
      "source": [
        "#Compile our resnet model\n",
        "resnet_model.compile(loss= \"categorical_crossentropy\",\n",
        "                     optimizer = tf.keras.optimizers.Adam(), \n",
        "                     metrics=[\"accuracy\"]) \n"
      ],
      "execution_count": null,
      "outputs": []
    },
    {
      "cell_type": "code",
      "metadata": {
        "colab": {
          "base_uri": "https://localhost:8080/"
        },
        "id": "BYiyI5FkWojr",
        "outputId": "2e493914-9ba8-41ad-9d67-7e961072e550"
      },
      "source": [
        "resnet_model.summary()"
      ],
      "execution_count": null,
      "outputs": [
        {
          "output_type": "stream",
          "name": "stdout",
          "text": [
            "Model: \"sequential\"\n",
            "_________________________________________________________________\n",
            " Layer (type)                Output Shape              Param #   \n",
            "=================================================================\n",
            " feature_extraction_layer (K  (None, 2048)             23564800  \n",
            " erasLayer)                                                      \n",
            "                                                                 \n",
            " output_layer (Dense)        (None, 10)                20490     \n",
            "                                                                 \n",
            "=================================================================\n",
            "Total params: 23,585,290\n",
            "Trainable params: 20,490\n",
            "Non-trainable params: 23,564,800\n",
            "_________________________________________________________________\n"
          ]
        }
      ]
    },
    {
      "cell_type": "code",
      "metadata": {
        "colab": {
          "base_uri": "https://localhost:8080/"
        },
        "id": "g8rBzhCKQty1",
        "outputId": "151b83c8-c66e-46f4-e151-975f1836677f"
      },
      "source": [
        "#Let's fit our Resnet model to the data (10 percent of 10 classes)\n",
        "\n",
        "resnet_history = resnet_model.fit(train_data_10_percent, \n",
        "                                      epochs=5, \n",
        "                                      steps_per_epoch = len(train_data_10_percent),\n",
        "                                      validation_data= test_data_10_percent, \n",
        "                                      validation_steps = len(test_data_10_percent),\n",
        "                                      callbacks = [create_tensorboard_callback(dir_name = \"tensorflow_hub\", \n",
        "                                                                               experiment_name = \"resnet50V2\")])"
      ],
      "execution_count": null,
      "outputs": [
        {
          "output_type": "stream",
          "name": "stdout",
          "text": [
            "Saving Tensorboard log files to: tensorflow_hub/resnet50V2/20211114-155056\n",
            "Epoch 1/5\n",
            "24/24 [==============================] - 59s 1s/step - loss: 1.8389 - accuracy: 0.3987 - val_loss: 1.1334 - val_accuracy: 0.6372\n",
            "Epoch 2/5\n",
            "24/24 [==============================] - 22s 940ms/step - loss: 0.8592 - accuracy: 0.7627 - val_loss: 0.8035 - val_accuracy: 0.7484\n",
            "Epoch 3/5\n",
            "24/24 [==============================] - 22s 927ms/step - loss: 0.5970 - accuracy: 0.8387 - val_loss: 0.7327 - val_accuracy: 0.7720\n",
            "Epoch 4/5\n",
            "24/24 [==============================] - 26s 1s/step - loss: 0.4640 - accuracy: 0.8787 - val_loss: 0.6788 - val_accuracy: 0.7820\n",
            "Epoch 5/5\n",
            "24/24 [==============================] - 22s 930ms/step - loss: 0.3682 - accuracy: 0.9067 - val_loss: 0.6582 - val_accuracy: 0.7840\n"
          ]
        }
      ]
    },
    {
      "cell_type": "markdown",
      "metadata": {
        "id": "Ih3c7xBiYR5T"
      },
      "source": [
        "That is incredible. Our transfer learning feature extractor model out performed ALL of the previous models we built and in quicker training time and 10 % of training time."
      ]
    },
    {
      "cell_type": "code",
      "metadata": {
        "id": "H-pY3KOAYhEr"
      },
      "source": [
        "#Lets create a function to plot our loss curves. \n",
        "# Tidbit: you could put a function like this into a script called 'helper.py' and import it when you need it. \n",
        "\n",
        "import matplotlib.pyplot as plt \n",
        "\n",
        "#Plot the training and validation curves \n",
        "def plot_loss_curves(history): \n",
        "  \"\"\"\n",
        "  Returns seperate loss curves for training and validation metrics. \n",
        "\n",
        "  Args: \n",
        "    history: Tensorflow history object \n",
        "\n",
        "  Returns: \n",
        "    Plots of training/validation loss and accuracy metrics. \n",
        "  \"\"\" \n",
        "\n",
        "  #loss\n",
        "  loss = history.history[\"loss\"]\n",
        "  val_loss = history.history[\"val_loss\"]\n",
        "\n",
        "  #Accuracy\n",
        "  accuracy = history.history[\"accuracy\"]\n",
        "  val_accuracy = history.history[\"val_accuracy\"] \n",
        "\n",
        "  epochs = range(len(history.history[\"loss\"]))\n",
        "\n",
        "  #Plot loss\n",
        "  plt.plot(epochs, loss, label=\"training loss\")\n",
        "  plt.plot(epochs, val_loss, label=\"val_loss\")\n",
        "  plt.title(\"Loss\")\n",
        "  plt.xlabel(\"Epochs\")\n",
        "  plt.legend()\n",
        "\n",
        "  #Plot accuracy\n",
        "  plt.figure()\n",
        "  plt.plot(epochs, accuracy, label=\"training_accuracy\")\n",
        "  plt.plot(epochs, val_accuracy, label = \"val_accuracy\")\n",
        "  plt.title(\"Accuracy\")\n",
        "  plt.xlabel(\"Epochs\")\n",
        "  plt.legend();\n"
      ],
      "execution_count": null,
      "outputs": []
    },
    {
      "cell_type": "code",
      "metadata": {
        "colab": {
          "base_uri": "https://localhost:8080/",
          "height": 573
        },
        "id": "zcUe7DX8J4si",
        "outputId": "42e2e784-fa0e-48ee-b5b7-f46ba48eb3de"
      },
      "source": [
        "plot_loss_curves(resnet_history)"
      ],
      "execution_count": null,
      "outputs": [
        {
          "output_type": "display_data",
          "data": {
            "image/png": "[encoded data removed]",
            "text/plain": [
              "<Figure size 432x288 with 1 Axes>"
            ]
          },
          "metadata": {
            "needs_background": "light"
          }
        },
        {
          "output_type": "display_data",
          "data": {
            "image/png": "[encoded data removed]",
            "text/plain": [
              "<Figure size 432x288 with 1 Axes>"
            ]
          },
          "metadata": {
            "needs_background": "light"
          }
        }
      ]
    },
    {
      "cell_type": "markdown",
      "metadata": {
        "id": "vJH7DzXnKG7n"
      },
      "source": [
        "## Creating and testing EfficientB0 Tensorflow Hub Feature extraction model \n",
        "\n"
      ]
    },
    {
      "cell_type": "code",
      "metadata": {
        "id": "zOo-MM12J9wR"
      },
      "source": [
        "#Create efficientB0 feature extractor model\n",
        "efficientnet_model = create_model(EfficientNet_url, num_classes=10)"
      ],
      "execution_count": null,
      "outputs": []
    },
    {
      "cell_type": "code",
      "metadata": {
        "colab": {
          "base_uri": "https://localhost:8080/"
        },
        "id": "VKXdJe1XKgq8",
        "outputId": "a3b487e1-2cf5-4fc0-c736-b0803353d968"
      },
      "source": [
        "efficientnet_model.summary()"
      ],
      "execution_count": null,
      "outputs": [
        {
          "output_type": "stream",
          "name": "stdout",
          "text": [
            "Model: \"sequential_1\"\n",
            "_________________________________________________________________\n",
            " Layer (type)                Output Shape              Param #   \n",
            "=================================================================\n",
            " feature_extraction_layer (K  (None, 1280)             4049564   \n",
            " erasLayer)                                                      \n",
            "                                                                 \n",
            " output_layer (Dense)        (None, 10)                12810     \n",
            "                                                                 \n",
            "=================================================================\n",
            "Total params: 4,062,374\n",
            "Trainable params: 12,810\n",
            "Non-trainable params: 4,049,564\n",
            "_________________________________________________________________\n"
          ]
        }
      ]
    },
    {
      "cell_type": "code",
      "metadata": {
        "id": "RroIX2MrKlJy"
      },
      "source": [
        "#Compile our efficient model\n",
        "efficientnet_model.compile(loss= \"categorical_crossentropy\",\n",
        "                     optimizer = tf.keras.optimizers.Adam(), \n",
        "                     metrics=[\"accuracy\"]) "
      ],
      "execution_count": null,
      "outputs": []
    },
    {
      "cell_type": "code",
      "metadata": {
        "colab": {
          "base_uri": "https://localhost:8080/"
        },
        "id": "VdrOs82hKw14",
        "outputId": "a24201b3-eb59-4285-e27d-7630d58eabc6"
      },
      "source": [
        "#Let's fit our efficient model to the data (10 percent of 10 classes)\n",
        "\n",
        "efficientnet_history = efficientnet_model.fit(train_data_10_percent, \n",
        "                                      epochs=5, \n",
        "                                      steps_per_epoch = len(train_data_10_percent),\n",
        "                                      validation_data= test_data_10_percent, \n",
        "                                      validation_steps = len(test_data_10_percent),\n",
        "                                      callbacks = [create_tensorboard_callback(dir_name = \"tensorflow_hub\", \n",
        "                                                                               experiment_name = \"efficientnetb0\")])"
      ],
      "execution_count": null,
      "outputs": [
        {
          "output_type": "stream",
          "name": "stdout",
          "text": [
            "Saving Tensorboard log files to: tensorflow_hub/efficientnetb0/20211114-155903\n",
            "Epoch 1/5\n",
            "24/24 [==============================] - 34s 918ms/step - loss: 1.8439 - accuracy: 0.4333 - val_loss: 1.3195 - val_accuracy: 0.7156\n",
            "Epoch 2/5\n",
            "24/24 [==============================] - 19s 832ms/step - loss: 1.0689 - accuracy: 0.7867 - val_loss: 0.8864 - val_accuracy: 0.8088\n",
            "Epoch 3/5\n",
            "24/24 [==============================] - 19s 826ms/step - loss: 0.7650 - accuracy: 0.8427 - val_loss: 0.7093 - val_accuracy: 0.8372\n",
            "Epoch 4/5\n",
            "24/24 [==============================] - 19s 825ms/step - loss: 0.6145 - accuracy: 0.8707 - val_loss: 0.6211 - val_accuracy: 0.8512\n",
            "Epoch 5/5\n",
            "24/24 [==============================] - 19s 827ms/step - loss: 0.5209 - accuracy: 0.8867 - val_loss: 0.5668 - val_accuracy: 0.8560\n"
          ]
        }
      ]
    },
    {
      "cell_type": "code",
      "metadata": {
        "colab": {
          "base_uri": "https://localhost:8080/",
          "height": 573
        },
        "id": "qrf2B6uWLF_M",
        "outputId": "6b4b7a4f-6eac-410e-f2f5-50575735ebc8"
      },
      "source": [
        "plot_loss_curves(efficientnet_history)"
      ],
      "execution_count": null,
      "outputs": [
        {
          "output_type": "display_data",
          "data": {
            "image/png": "[encoded data removed]",
            "text/plain": [
              "<Figure size 432x288 with 1 Axes>"
            ]
          },
          "metadata": {
            "needs_background": "light"
          }
        },
        {
          "output_type": "display_data",
          "data": {
            "image/png": "[encoded data removed]",
            "text/plain": [
              "<Figure size 432x288 with 1 Axes>"
            ]
          },
          "metadata": {
            "needs_background": "light"
          }
        }
      ]
    },
    {
      "cell_type": "markdown",
      "metadata": {
        "id": "aTLYUXdTLlb_"
      },
      "source": [
        "## Different types of transfer learning \n",
        "\n",
        "* **\"As is\" transfer learning** using an existing model with no changes what so ever (e.g., using ImagenetModel on 1000 Imagenet classes, none of our own.) \n",
        "\n",
        "* **\"Feature extraction\"** transfer learning- use the prelearned patterns of an existing model(e.g EfficientNet trained on Imagenet) and adjust the output layers only for our own problem( e.g changing 1000 classes to -> 10 classes) \n",
        "\n",
        "* **\"Fine tuning\" transfer learning** - use the prelearned patterns of an existing model and \"fine tine\" ,many or all of the underlying layers(including new output layer) "
      ]
    },
    {
      "cell_type": "markdown",
      "metadata": {
        "id": "me_tFc8DyBx_"
      },
      "source": [
        "## Comparing our models results using Tensorboard \n"
      ]
    },
    {
      "cell_type": "code",
      "metadata": {
        "colab": {
          "base_uri": "https://localhost:8080/",
          "height": 132
        },
        "id": "q8r-uF0tymiB",
        "outputId": "ff4cab2c-eb61-4ef4-fa46-ce31b656e1e7"
      },
      "source": [
        "#Upload to tensorboard dev records\n",
        "!tensorboard dev upload --logdir ./tensorflow_hub/ \\ \n",
        "--name \"EfficientNetB0 vs Resnet50V2\" \\\n",
        "-- description \"analysis of model\" \\\n",
        "--one_shot "
      ],
      "execution_count": null,
      "outputs": [
        {
          "output_type": "error",
          "ename": "SyntaxError",
          "evalue": "ignored",
          "traceback": [
            "\u001b[0;36m  File \u001b[0;32m\"<ipython-input-4-7973ff44d3b8>\"\u001b[0;36m, line \u001b[0;32m3\u001b[0m\n\u001b[0;31m    --name \"EfficientNetB0 vs Resnet50V2\" -- description \"analysis of model\" --one_shot\u001b[0m\n\u001b[0m                                        ^\u001b[0m\n\u001b[0;31mSyntaxError\u001b[0m\u001b[0;31m:\u001b[0m invalid syntax\n"
          ]
        }
      ]
    },
    {
      "cell_type": "code",
      "metadata": {
        "id": "Pr6lP4AX1wW2"
      },
      "source": [
        "#Delete an experiment:\n",
        "# !tensorboard dev delete --experiement id some_id \n",
        " "
      ],
      "execution_count": null,
      "outputs": []
    },
    {
      "cell_type": "code",
      "metadata": {
        "id": "RBOU-Ijp1zCD"
      },
      "source": [
        "#confirm the deletion by re-checking what experiments you have left\n",
        "!tensorboard dev list"
      ],
      "execution_count": null,
      "outputs": []
    }
  ]
}