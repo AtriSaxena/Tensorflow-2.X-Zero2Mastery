{
  "nbformat": 4,
  "nbformat_minor": 0,
  "metadata": {
    "colab": {
      "name": "01_neural_network_regression_with_Tensorflow.ipynb",
      "provenance": [],
      "collapsed_sections": [],
      "authorship_tag": "ABX9TyMqrv4NyRTRiNjq2WGdPwhk",
      "include_colab_link": true
    },
    "kernelspec": {
      "name": "python3",
      "display_name": "Python 3"
    },
    "language_info": {
      "name": "python"
    }
  },
  "cells": [
    {
      "cell_type": "markdown",
      "metadata": {
        "id": "view-in-github",
        "colab_type": "text"
      },
      "source": [
        "<a href=\"https://colab.research.google.com/github/AtriSaxena/Tensorflow-2.X-Zero2Mastery/blob/main/01_neural_network_regression_with_Tensorflow.ipynb\" target=\"_parent\"><img src=\"https://colab.research.google.com/assets/colab-badge.svg\" alt=\"Open In Colab\"/></a>"
      ]
    },
    {
      "cell_type": "markdown",
      "metadata": {
        "id": "8Q5plfDx3pgu"
      },
      "source": [
        "### Introduction to regression with neural network in Tensorflow"
      ]
    },
    {
      "cell_type": "code",
      "metadata": {
        "colab": {
          "base_uri": "https://localhost:8080/",
          "height": 34
        },
        "id": "zyaJM2eX30cC",
        "outputId": "0b1765c3-23cf-4e44-a3a5-7f305a6b4d4c"
      },
      "source": [
        "#Import TEnsorflow\n",
        "import tensorflow as tf\n",
        "tf.__version__"
      ],
      "execution_count": null,
      "outputs": [
        {
          "output_type": "execute_result",
          "data": {
            "application/vnd.google.colaboratory.intrinsic+json": {
              "type": "string"
            },
            "text/plain": [
              "'2.5.0'"
            ]
          },
          "metadata": {
            "tags": []
          },
          "execution_count": 1
        }
      ]
    },
    {
      "cell_type": "code",
      "metadata": {
        "colab": {
          "base_uri": "https://localhost:8080/",
          "height": 269
        },
        "id": "iQSWVvTg4gt1",
        "outputId": "0f7feeec-ab89-41e9-8cfa-4e6522fa26e8"
      },
      "source": [
        "import numpy as np \n",
        "import matplotlib.pyplot as plt \n",
        "\n",
        "#Create features \n",
        "X = np.array([-7.0, -4.0,-1.0, 2.0, 5.0, 8.0, 11.0, 14.0])\n",
        "\n",
        "#Creating labels \n",
        "y = np.array([3.0, 6.0, 9.0, 12.0, 15.0, 18.0, 21.0, 24.0])\n",
        "\n",
        "#Visualize \n",
        "plt.scatter(X,y);"
      ],
      "execution_count": null,
      "outputs": [
        {
          "output_type": "display_data",
          "data": {
            "image/png": "[encoded data removed]",
            "text/plain": [
              "<Figure size 432x288 with 1 Axes>"
            ]
          },
          "metadata": {
            "tags": [],
            "needs_background": "light"
          }
        }
      ]
    },
    {
      "cell_type": "code",
      "metadata": {
        "colab": {
          "base_uri": "https://localhost:8080/"
        },
        "id": "JYlgWVOg6iNj",
        "outputId": "a8605897-c590-494b-c87c-1f2055733f75"
      },
      "source": [
        "#The relation\n",
        "y == X + 10 "
      ],
      "execution_count": null,
      "outputs": [
        {
          "output_type": "execute_result",
          "data": {
            "text/plain": [
              "array([ True,  True,  True,  True,  True,  True,  True,  True])"
            ]
          },
          "metadata": {
            "tags": []
          },
          "execution_count": 3
        }
      ]
    },
    {
      "cell_type": "code",
      "metadata": {
        "colab": {
          "base_uri": "https://localhost:8080/"
        },
        "id": "uqqIk7f77V4Z",
        "outputId": "7f2163ee-6c67-4b3e-8046-f3e18d9291e3"
      },
      "source": [
        "#Create a demo tensor for our housing price prediction problem \n",
        "house_info = tf.constant([\"bedroom\",\"bathroom\",\"garage\"])\n",
        "house_price = tf.constant([939700])\n",
        "house_info , house_price"
      ],
      "execution_count": null,
      "outputs": [
        {
          "output_type": "execute_result",
          "data": {
            "text/plain": [
              "(<tf.Tensor: shape=(3,), dtype=string, numpy=array([b'bedroom', b'bathroom', b'garage'], dtype=object)>,\n",
              " <tf.Tensor: shape=(1,), dtype=int32, numpy=array([939700], dtype=int32)>)"
            ]
          },
          "metadata": {
            "tags": []
          },
          "execution_count": 4
        }
      ]
    },
    {
      "cell_type": "code",
      "metadata": {
        "colab": {
          "base_uri": "https://localhost:8080/"
        },
        "id": "xXC6xLey75yB",
        "outputId": "9385c6af-dbfd-42e8-f316-179e75ab879c"
      },
      "source": [
        "X[0], y[0]"
      ],
      "execution_count": null,
      "outputs": [
        {
          "output_type": "execute_result",
          "data": {
            "text/plain": [
              "(-7.0, 3.0)"
            ]
          },
          "metadata": {
            "tags": []
          },
          "execution_count": 5
        }
      ]
    },
    {
      "cell_type": "code",
      "metadata": {
        "colab": {
          "base_uri": "https://localhost:8080/"
        },
        "id": "kiErW06n78-x",
        "outputId": "79115668-e10d-4e04-8796-76478287a93f"
      },
      "source": [
        "input_shape = X.shape \n",
        "output_shape = y.shape\n",
        "input_shape, output_shape "
      ],
      "execution_count": null,
      "outputs": [
        {
          "output_type": "execute_result",
          "data": {
            "text/plain": [
              "((8,), (8,))"
            ]
          },
          "metadata": {
            "tags": []
          },
          "execution_count": 6
        }
      ]
    },
    {
      "cell_type": "code",
      "metadata": {
        "colab": {
          "base_uri": "https://localhost:8080/"
        },
        "id": "zJikIiji8G9K",
        "outputId": "479e3ec6-74e5-4fde-ebd4-20acc0dba576"
      },
      "source": [
        "input_shape = X[0].shape \n",
        "output_shape = y[0].shape\n",
        "input_shape, output_shape "
      ],
      "execution_count": null,
      "outputs": [
        {
          "output_type": "execute_result",
          "data": {
            "text/plain": [
              "((), ())"
            ]
          },
          "metadata": {
            "tags": []
          },
          "execution_count": 7
        }
      ]
    },
    {
      "cell_type": "code",
      "metadata": {
        "colab": {
          "base_uri": "https://localhost:8080/"
        },
        "id": "bpoFwdR08wih",
        "outputId": "5d61cebd-0ebd-44c5-8649-c22b96a68bfd"
      },
      "source": [
        "#Turn our numpy array into tensor \n",
        "X = tf.constant(X)\n",
        "y = tf.constant(y)\n",
        "X, y"
      ],
      "execution_count": null,
      "outputs": [
        {
          "output_type": "execute_result",
          "data": {
            "text/plain": [
              "(<tf.Tensor: shape=(8,), dtype=float64, numpy=array([-7., -4., -1.,  2.,  5.,  8., 11., 14.])>,\n",
              " <tf.Tensor: shape=(8,), dtype=float64, numpy=array([ 3.,  6.,  9., 12., 15., 18., 21., 24.])>)"
            ]
          },
          "metadata": {
            "tags": []
          },
          "execution_count": 8
        }
      ]
    },
    {
      "cell_type": "code",
      "metadata": {
        "colab": {
          "base_uri": "https://localhost:8080/"
        },
        "id": "ADmDWa778-UJ",
        "outputId": "f427ec4b-f140-47de-84a3-730981896e13"
      },
      "source": [
        "input_shape = X[0].shape\n",
        "output_shape = y[0].shape\n",
        "input_shape, output_shape"
      ],
      "execution_count": null,
      "outputs": [
        {
          "output_type": "execute_result",
          "data": {
            "text/plain": [
              "(TensorShape([]), TensorShape([]))"
            ]
          },
          "metadata": {
            "tags": []
          },
          "execution_count": 9
        }
      ]
    },
    {
      "cell_type": "markdown",
      "metadata": {
        "id": "Yj21zK7F9aAA"
      },
      "source": [
        "### Steps in modelling with tensorflow\n",
        "\n",
        "1. Creating a model - define the input and output layer, as well as the hidden layers of a deep learning model. \n",
        "2. Compiling a model - define the loss function. optimizer, and evaluation metrics.\n",
        "3. Fitting a model "
      ]
    },
    {
      "cell_type": "code",
      "metadata": {
        "colab": {
          "base_uri": "https://localhost:8080/"
        },
        "id": "Fho93Wpo9JhR",
        "outputId": "befbfd4d-1a0a-451d-b1da-be82363c6c9b"
      },
      "source": [
        "#Set random seed \n",
        "tf.random.set_seed(42)\n",
        "\n",
        "#1. Create a model using the Sequential API \n",
        "model = tf.keras.Sequential([\n",
        "     tf.keras.layers.Dense(1)                        \n",
        "])\n",
        "\n",
        "#2. Compiling the model \n",
        "#MAE: Mean Absolute error\n",
        "model.compile(loss=tf.keras.losses.mae,\n",
        "              optimizer= tf.keras.optimizers.SGD(),\n",
        "              metrics = [\"mae\"])\n",
        "\n",
        "#3. Fit the model \n",
        "model.fit(X,y,epochs=5)\n",
        "\n"
      ],
      "execution_count": null,
      "outputs": [
        {
          "output_type": "stream",
          "text": [
            "Epoch 1/5\n",
            "1/1 [==============================] - 1s 651ms/step - loss: 11.5048 - mae: 11.5048\n",
            "Epoch 2/5\n",
            "1/1 [==============================] - 0s 4ms/step - loss: 11.3723 - mae: 11.3723\n",
            "Epoch 3/5\n",
            "1/1 [==============================] - 0s 3ms/step - loss: 11.2398 - mae: 11.2398\n",
            "Epoch 4/5\n",
            "1/1 [==============================] - 0s 4ms/step - loss: 11.1073 - mae: 11.1073\n",
            "Epoch 5/5\n",
            "1/1 [==============================] - 0s 5ms/step - loss: 10.9748 - mae: 10.9748\n"
          ],
          "name": "stdout"
        },
        {
          "output_type": "execute_result",
          "data": {
            "text/plain": [
              "<tensorflow.python.keras.callbacks.History at 0x7fe72ef5cd50>"
            ]
          },
          "metadata": {
            "tags": []
          },
          "execution_count": 10
        }
      ]
    },
    {
      "cell_type": "code",
      "metadata": {
        "colab": {
          "base_uri": "https://localhost:8080/"
        },
        "id": "jHGJDxzABgtU",
        "outputId": "635373de-b5fe-46a3-b9a6-f6aa7ce3e5cb"
      },
      "source": [
        "y_pred = model.predict([17.0]) #should be around 27 \n",
        "y_pred"
      ],
      "execution_count": null,
      "outputs": [
        {
          "output_type": "execute_result",
          "data": {
            "text/plain": [
              "array([[12.716021]], dtype=float32)"
            ]
          },
          "metadata": {
            "tags": []
          },
          "execution_count": 11
        }
      ]
    },
    {
      "cell_type": "markdown",
      "metadata": {
        "id": "U8vztR0HCvY7"
      },
      "source": [
        "### Improving our model."
      ]
    },
    {
      "cell_type": "code",
      "metadata": {
        "colab": {
          "base_uri": "https://localhost:8080/"
        },
        "id": "VEmY2ScrCk4U",
        "outputId": "99975ede-8ee1-4833-9d20-8e52588c7675"
      },
      "source": [
        "# Let's rebuilt our code\n",
        "\n",
        "#1. Create the model \n",
        "model = tf.keras.Sequential([\n",
        "        tf.keras.layers.Dense(1)\n",
        "])\n",
        "\n",
        "model.compile(loss=tf.losses.mae, \n",
        "              optimizer = tf.optimizers.SGD(),\n",
        "              metrics=[\"mae\"])\n",
        "\n",
        "model.fit(X,y, epochs=100)"
      ],
      "execution_count": null,
      "outputs": [
        {
          "output_type": "stream",
          "text": [
            "Epoch 1/100\n",
            "1/1 [==============================] - 0s 246ms/step - loss: 11.2219 - mae: 11.2219\n",
            "Epoch 2/100\n",
            "1/1 [==============================] - 0s 5ms/step - loss: 11.0894 - mae: 11.0894\n",
            "Epoch 3/100\n",
            "1/1 [==============================] - 0s 4ms/step - loss: 10.9569 - mae: 10.9569\n",
            "Epoch 4/100\n",
            "1/1 [==============================] - 0s 6ms/step - loss: 10.8244 - mae: 10.8244\n",
            "Epoch 5/100\n",
            "1/1 [==============================] - 0s 11ms/step - loss: 10.6919 - mae: 10.6919\n",
            "Epoch 6/100\n",
            "1/1 [==============================] - 0s 6ms/step - loss: 10.5594 - mae: 10.5594\n",
            "Epoch 7/100\n",
            "1/1 [==============================] - 0s 5ms/step - loss: 10.4269 - mae: 10.4269\n",
            "Epoch 8/100\n",
            "1/1 [==============================] - 0s 3ms/step - loss: 10.2944 - mae: 10.2944\n",
            "Epoch 9/100\n",
            "1/1 [==============================] - 0s 4ms/step - loss: 10.1619 - mae: 10.1619\n",
            "Epoch 10/100\n",
            "1/1 [==============================] - 0s 3ms/step - loss: 10.0294 - mae: 10.0294\n",
            "Epoch 11/100\n",
            "1/1 [==============================] - 0s 5ms/step - loss: 9.8969 - mae: 9.8969\n",
            "Epoch 12/100\n",
            "1/1 [==============================] - 0s 3ms/step - loss: 9.7644 - mae: 9.7644\n",
            "Epoch 13/100\n",
            "1/1 [==============================] - 0s 4ms/step - loss: 9.6319 - mae: 9.6319\n",
            "Epoch 14/100\n",
            "1/1 [==============================] - 0s 4ms/step - loss: 9.4994 - mae: 9.4994\n",
            "Epoch 15/100\n",
            "1/1 [==============================] - 0s 7ms/step - loss: 9.3669 - mae: 9.3669\n",
            "Epoch 16/100\n",
            "1/1 [==============================] - 0s 3ms/step - loss: 9.2344 - mae: 9.2344\n",
            "Epoch 17/100\n",
            "1/1 [==============================] - 0s 5ms/step - loss: 9.1019 - mae: 9.1019\n",
            "Epoch 18/100\n",
            "1/1 [==============================] - 0s 3ms/step - loss: 8.9694 - mae: 8.9694\n",
            "Epoch 19/100\n",
            "1/1 [==============================] - 0s 4ms/step - loss: 8.8369 - mae: 8.8369\n",
            "Epoch 20/100\n",
            "1/1 [==============================] - 0s 6ms/step - loss: 8.7044 - mae: 8.7044\n",
            "Epoch 21/100\n",
            "1/1 [==============================] - 0s 4ms/step - loss: 8.5719 - mae: 8.5719\n",
            "Epoch 22/100\n",
            "1/1 [==============================] - 0s 4ms/step - loss: 8.4394 - mae: 8.4394\n",
            "Epoch 23/100\n",
            "1/1 [==============================] - 0s 3ms/step - loss: 8.3069 - mae: 8.3069\n",
            "Epoch 24/100\n",
            "1/1 [==============================] - 0s 4ms/step - loss: 8.1744 - mae: 8.1744\n",
            "Epoch 25/100\n",
            "1/1 [==============================] - 0s 6ms/step - loss: 8.0419 - mae: 8.0419\n",
            "Epoch 26/100\n",
            "1/1 [==============================] - 0s 4ms/step - loss: 7.9094 - mae: 7.9094\n",
            "Epoch 27/100\n",
            "1/1 [==============================] - 0s 6ms/step - loss: 7.7769 - mae: 7.7769\n",
            "Epoch 28/100\n",
            "1/1 [==============================] - 0s 3ms/step - loss: 7.6444 - mae: 7.6444\n",
            "Epoch 29/100\n",
            "1/1 [==============================] - 0s 4ms/step - loss: 7.5119 - mae: 7.5119\n",
            "Epoch 30/100\n",
            "1/1 [==============================] - 0s 5ms/step - loss: 7.3794 - mae: 7.3794\n",
            "Epoch 31/100\n",
            "1/1 [==============================] - 0s 6ms/step - loss: 7.2750 - mae: 7.2750\n",
            "Epoch 32/100\n",
            "1/1 [==============================] - 0s 5ms/step - loss: 7.2694 - mae: 7.2694\n",
            "Epoch 33/100\n",
            "1/1 [==============================] - 0s 4ms/step - loss: 7.2638 - mae: 7.2638\n",
            "Epoch 34/100\n",
            "1/1 [==============================] - 0s 5ms/step - loss: 7.2581 - mae: 7.2581\n",
            "Epoch 35/100\n",
            "1/1 [==============================] - 0s 4ms/step - loss: 7.2525 - mae: 7.2525\n",
            "Epoch 36/100\n",
            "1/1 [==============================] - 0s 5ms/step - loss: 7.2469 - mae: 7.2469\n",
            "Epoch 37/100\n",
            "1/1 [==============================] - 0s 5ms/step - loss: 7.2412 - mae: 7.2412\n",
            "Epoch 38/100\n",
            "1/1 [==============================] - 0s 6ms/step - loss: 7.2356 - mae: 7.2356\n",
            "Epoch 39/100\n",
            "1/1 [==============================] - 0s 3ms/step - loss: 7.2300 - mae: 7.2300\n",
            "Epoch 40/100\n",
            "1/1 [==============================] - 0s 4ms/step - loss: 7.2244 - mae: 7.2244\n",
            "Epoch 41/100\n",
            "1/1 [==============================] - 0s 6ms/step - loss: 7.2188 - mae: 7.2188\n",
            "Epoch 42/100\n",
            "1/1 [==============================] - 0s 3ms/step - loss: 7.2131 - mae: 7.2131\n",
            "Epoch 43/100\n",
            "1/1 [==============================] - 0s 4ms/step - loss: 7.2075 - mae: 7.2075\n",
            "Epoch 44/100\n",
            "1/1 [==============================] - 0s 5ms/step - loss: 7.2019 - mae: 7.2019\n",
            "Epoch 45/100\n",
            "1/1 [==============================] - 0s 5ms/step - loss: 7.1962 - mae: 7.1962\n",
            "Epoch 46/100\n",
            "1/1 [==============================] - 0s 6ms/step - loss: 7.1906 - mae: 7.1906\n",
            "Epoch 47/100\n",
            "1/1 [==============================] - 0s 4ms/step - loss: 7.1850 - mae: 7.1850\n",
            "Epoch 48/100\n",
            "1/1 [==============================] - 0s 5ms/step - loss: 7.1794 - mae: 7.1794\n",
            "Epoch 49/100\n",
            "1/1 [==============================] - 0s 6ms/step - loss: 7.1737 - mae: 7.1737\n",
            "Epoch 50/100\n",
            "1/1 [==============================] - 0s 3ms/step - loss: 7.1681 - mae: 7.1681\n",
            "Epoch 51/100\n",
            "1/1 [==============================] - 0s 3ms/step - loss: 7.1625 - mae: 7.1625\n",
            "Epoch 52/100\n",
            "1/1 [==============================] - 0s 5ms/step - loss: 7.1569 - mae: 7.1569\n",
            "Epoch 53/100\n",
            "1/1 [==============================] - 0s 5ms/step - loss: 7.1512 - mae: 7.1512\n",
            "Epoch 54/100\n",
            "1/1 [==============================] - 0s 5ms/step - loss: 7.1456 - mae: 7.1456\n",
            "Epoch 55/100\n",
            "1/1 [==============================] - 0s 3ms/step - loss: 7.1400 - mae: 7.1400\n",
            "Epoch 56/100\n",
            "1/1 [==============================] - 0s 4ms/step - loss: 7.1344 - mae: 7.1344\n",
            "Epoch 57/100\n",
            "1/1 [==============================] - 0s 4ms/step - loss: 7.1287 - mae: 7.1287\n",
            "Epoch 58/100\n",
            "1/1 [==============================] - 0s 5ms/step - loss: 7.1231 - mae: 7.1231\n",
            "Epoch 59/100\n",
            "1/1 [==============================] - 0s 4ms/step - loss: 7.1175 - mae: 7.1175\n",
            "Epoch 60/100\n",
            "1/1 [==============================] - 0s 4ms/step - loss: 7.1119 - mae: 7.1119\n",
            "Epoch 61/100\n",
            "1/1 [==============================] - 0s 7ms/step - loss: 7.1062 - mae: 7.1062\n",
            "Epoch 62/100\n",
            "1/1 [==============================] - 0s 4ms/step - loss: 7.1006 - mae: 7.1006\n",
            "Epoch 63/100\n",
            "1/1 [==============================] - 0s 5ms/step - loss: 7.0950 - mae: 7.0950\n",
            "Epoch 64/100\n",
            "1/1 [==============================] - 0s 4ms/step - loss: 7.0894 - mae: 7.0894\n",
            "Epoch 65/100\n",
            "1/1 [==============================] - 0s 5ms/step - loss: 7.0838 - mae: 7.0838\n",
            "Epoch 66/100\n",
            "1/1 [==============================] - 0s 8ms/step - loss: 7.0781 - mae: 7.0781\n",
            "Epoch 67/100\n",
            "1/1 [==============================] - 0s 4ms/step - loss: 7.0725 - mae: 7.0725\n",
            "Epoch 68/100\n",
            "1/1 [==============================] - 0s 4ms/step - loss: 7.0669 - mae: 7.0669\n",
            "Epoch 69/100\n",
            "1/1 [==============================] - 0s 3ms/step - loss: 7.0613 - mae: 7.0613\n",
            "Epoch 70/100\n",
            "1/1 [==============================] - 0s 6ms/step - loss: 7.0556 - mae: 7.0556\n",
            "Epoch 71/100\n",
            "1/1 [==============================] - 0s 3ms/step - loss: 7.0500 - mae: 7.0500\n",
            "Epoch 72/100\n",
            "1/1 [==============================] - 0s 6ms/step - loss: 7.0444 - mae: 7.0444\n",
            "Epoch 73/100\n",
            "1/1 [==============================] - 0s 3ms/step - loss: 7.0388 - mae: 7.0388\n",
            "Epoch 74/100\n",
            "1/1 [==============================] - 0s 3ms/step - loss: 7.0331 - mae: 7.0331\n",
            "Epoch 75/100\n",
            "1/1 [==============================] - 0s 5ms/step - loss: 7.0275 - mae: 7.0275\n",
            "Epoch 76/100\n",
            "1/1 [==============================] - 0s 5ms/step - loss: 7.0219 - mae: 7.0219\n",
            "Epoch 77/100\n",
            "1/1 [==============================] - 0s 3ms/step - loss: 7.0163 - mae: 7.0163\n",
            "Epoch 78/100\n",
            "1/1 [==============================] - 0s 4ms/step - loss: 7.0106 - mae: 7.0106\n",
            "Epoch 79/100\n",
            "1/1 [==============================] - 0s 5ms/step - loss: 7.0050 - mae: 7.0050\n",
            "Epoch 80/100\n",
            "1/1 [==============================] - 0s 5ms/step - loss: 6.9994 - mae: 6.9994\n",
            "Epoch 81/100\n",
            "1/1 [==============================] - 0s 4ms/step - loss: 6.9938 - mae: 6.9938\n",
            "Epoch 82/100\n",
            "1/1 [==============================] - 0s 5ms/step - loss: 6.9881 - mae: 6.9881\n",
            "Epoch 83/100\n",
            "1/1 [==============================] - 0s 4ms/step - loss: 6.9825 - mae: 6.9825\n",
            "Epoch 84/100\n",
            "1/1 [==============================] - 0s 6ms/step - loss: 6.9769 - mae: 6.9769\n",
            "Epoch 85/100\n",
            "1/1 [==============================] - 0s 5ms/step - loss: 6.9713 - mae: 6.9713\n",
            "Epoch 86/100\n",
            "1/1 [==============================] - 0s 3ms/step - loss: 6.9656 - mae: 6.9656\n",
            "Epoch 87/100\n",
            "1/1 [==============================] - 0s 8ms/step - loss: 6.9600 - mae: 6.9600\n",
            "Epoch 88/100\n",
            "1/1 [==============================] - 0s 6ms/step - loss: 6.9544 - mae: 6.9544\n",
            "Epoch 89/100\n",
            "1/1 [==============================] - 0s 5ms/step - loss: 6.9488 - mae: 6.9488\n",
            "Epoch 90/100\n",
            "1/1 [==============================] - 0s 8ms/step - loss: 6.9431 - mae: 6.9431\n",
            "Epoch 91/100\n",
            "1/1 [==============================] - 0s 4ms/step - loss: 6.9375 - mae: 6.9375\n",
            "Epoch 92/100\n",
            "1/1 [==============================] - 0s 4ms/step - loss: 6.9319 - mae: 6.9319\n",
            "Epoch 93/100\n",
            "1/1 [==============================] - 0s 4ms/step - loss: 6.9263 - mae: 6.9263\n",
            "Epoch 94/100\n",
            "1/1 [==============================] - 0s 6ms/step - loss: 6.9206 - mae: 6.9206\n",
            "Epoch 95/100\n",
            "1/1 [==============================] - 0s 3ms/step - loss: 6.9150 - mae: 6.9150\n",
            "Epoch 96/100\n",
            "1/1 [==============================] - 0s 4ms/step - loss: 6.9094 - mae: 6.9094\n",
            "Epoch 97/100\n",
            "1/1 [==============================] - 0s 9ms/step - loss: 6.9038 - mae: 6.9038\n",
            "Epoch 98/100\n",
            "1/1 [==============================] - 0s 3ms/step - loss: 6.8981 - mae: 6.8981\n",
            "Epoch 99/100\n",
            "1/1 [==============================] - 0s 4ms/step - loss: 6.8925 - mae: 6.8925\n",
            "Epoch 100/100\n",
            "1/1 [==============================] - 0s 3ms/step - loss: 6.8869 - mae: 6.8869\n"
          ],
          "name": "stdout"
        },
        {
          "output_type": "execute_result",
          "data": {
            "text/plain": [
              "<tensorflow.python.keras.callbacks.History at 0x7fe6e078ce10>"
            ]
          },
          "metadata": {
            "tags": []
          },
          "execution_count": 12
        }
      ]
    },
    {
      "cell_type": "code",
      "metadata": {
        "colab": {
          "base_uri": "https://localhost:8080/"
        },
        "id": "euJVbaWlOmk7",
        "outputId": "810d8837-b7da-4b79-ce32-688e2f60ec45"
      },
      "source": [
        "#Prediction\n",
        "model.predict([17.0])"
      ],
      "execution_count": null,
      "outputs": [
        {
          "output_type": "execute_result",
          "data": {
            "text/plain": [
              "array([[29.739855]], dtype=float32)"
            ]
          },
          "metadata": {
            "tags": []
          },
          "execution_count": 13
        }
      ]
    },
    {
      "cell_type": "code",
      "metadata": {
        "colab": {
          "base_uri": "https://localhost:8080/"
        },
        "id": "-i1wZzQfPBHq",
        "outputId": "6b081367-0e44-49a3-e019-38c7cd1a00bd"
      },
      "source": [
        "#Lets see if we can imporve our model using the additional hidden layer. \n",
        "\n",
        "model = tf.keras.Sequential([\n",
        "            tf.keras.layers.Dense(10, activation=None),\n",
        "            tf.keras.layers.Dense(1)\n",
        "])\n",
        "\n",
        "model.compile(loss=tf.keras.losses.mae, optimizer = tf.keras.optimizers.Adam(learning_rate=0.01), metrics =[\"mae\"])\n",
        "\n",
        "model.fit(X,y,epochs=100)"
      ],
      "execution_count": null,
      "outputs": [
        {
          "output_type": "stream",
          "text": [
            "Epoch 1/100\n",
            "1/1 [==============================] - 0s 397ms/step - loss: 14.2508 - mae: 14.2508\n",
            "Epoch 2/100\n",
            "1/1 [==============================] - 0s 9ms/step - loss: 14.0100 - mae: 14.0100\n",
            "Epoch 3/100\n",
            "1/1 [==============================] - 0s 16ms/step - loss: 13.7709 - mae: 13.7709\n",
            "Epoch 4/100\n",
            "1/1 [==============================] - 0s 7ms/step - loss: 13.5330 - mae: 13.5330\n",
            "Epoch 5/100\n",
            "1/1 [==============================] - 0s 6ms/step - loss: 13.2955 - mae: 13.2955\n",
            "Epoch 6/100\n",
            "1/1 [==============================] - 0s 5ms/step - loss: 13.0577 - mae: 13.0577\n",
            "Epoch 7/100\n",
            "1/1 [==============================] - 0s 6ms/step - loss: 12.8192 - mae: 12.8192\n",
            "Epoch 8/100\n",
            "1/1 [==============================] - 0s 6ms/step - loss: 12.5794 - mae: 12.5794\n",
            "Epoch 9/100\n",
            "1/1 [==============================] - 0s 4ms/step - loss: 12.3378 - mae: 12.3378\n",
            "Epoch 10/100\n",
            "1/1 [==============================] - 0s 3ms/step - loss: 12.0940 - mae: 12.0940\n",
            "Epoch 11/100\n",
            "1/1 [==============================] - 0s 4ms/step - loss: 11.8476 - mae: 11.8476\n",
            "Epoch 12/100\n",
            "1/1 [==============================] - 0s 17ms/step - loss: 11.5985 - mae: 11.5985\n",
            "Epoch 13/100\n",
            "1/1 [==============================] - 0s 9ms/step - loss: 11.3462 - mae: 11.3462\n",
            "Epoch 14/100\n",
            "1/1 [==============================] - 0s 4ms/step - loss: 11.0903 - mae: 11.0903\n",
            "Epoch 15/100\n",
            "1/1 [==============================] - 0s 5ms/step - loss: 10.8305 - mae: 10.8305\n",
            "Epoch 16/100\n",
            "1/1 [==============================] - 0s 5ms/step - loss: 10.5662 - mae: 10.5662\n",
            "Epoch 17/100\n",
            "1/1 [==============================] - 0s 5ms/step - loss: 10.2970 - mae: 10.2970\n",
            "Epoch 18/100\n",
            "1/1 [==============================] - 0s 7ms/step - loss: 10.0224 - mae: 10.0224\n",
            "Epoch 19/100\n",
            "1/1 [==============================] - 0s 6ms/step - loss: 9.7418 - mae: 9.7418\n",
            "Epoch 20/100\n",
            "1/1 [==============================] - 0s 4ms/step - loss: 9.4548 - mae: 9.4548\n",
            "Epoch 21/100\n",
            "1/1 [==============================] - 0s 5ms/step - loss: 9.1608 - mae: 9.1608\n",
            "Epoch 22/100\n",
            "1/1 [==============================] - 0s 7ms/step - loss: 8.8593 - mae: 8.8593\n",
            "Epoch 23/100\n",
            "1/1 [==============================] - 0s 8ms/step - loss: 8.5498 - mae: 8.5498\n",
            "Epoch 24/100\n",
            "1/1 [==============================] - 0s 13ms/step - loss: 8.2319 - mae: 8.2319\n",
            "Epoch 25/100\n",
            "1/1 [==============================] - 0s 8ms/step - loss: 7.9050 - mae: 7.9050\n",
            "Epoch 26/100\n",
            "1/1 [==============================] - 0s 13ms/step - loss: 7.5688 - mae: 7.5688\n",
            "Epoch 27/100\n",
            "1/1 [==============================] - 0s 3ms/step - loss: 7.2227 - mae: 7.2227\n",
            "Epoch 28/100\n",
            "1/1 [==============================] - 0s 7ms/step - loss: 6.8664 - mae: 6.8664\n",
            "Epoch 29/100\n",
            "1/1 [==============================] - 0s 4ms/step - loss: 6.5638 - mae: 6.5638\n",
            "Epoch 30/100\n",
            "1/1 [==============================] - 0s 8ms/step - loss: 6.5139 - mae: 6.5139\n",
            "Epoch 31/100\n",
            "1/1 [==============================] - 0s 7ms/step - loss: 6.5058 - mae: 6.5058\n",
            "Epoch 32/100\n",
            "1/1 [==============================] - 0s 9ms/step - loss: 6.6369 - mae: 6.6369\n",
            "Epoch 33/100\n",
            "1/1 [==============================] - 0s 6ms/step - loss: 6.7294 - mae: 6.7294\n",
            "Epoch 34/100\n",
            "1/1 [==============================] - 0s 7ms/step - loss: 6.7865 - mae: 6.7865\n",
            "Epoch 35/100\n",
            "1/1 [==============================] - 0s 8ms/step - loss: 6.8115 - mae: 6.8115\n",
            "Epoch 36/100\n",
            "1/1 [==============================] - 0s 7ms/step - loss: 6.8076 - mae: 6.8076\n",
            "Epoch 37/100\n",
            "1/1 [==============================] - 0s 13ms/step - loss: 6.7780 - mae: 6.7780\n",
            "Epoch 38/100\n",
            "1/1 [==============================] - 0s 5ms/step - loss: 6.7257 - mae: 6.7257\n",
            "Epoch 39/100\n",
            "1/1 [==============================] - 0s 4ms/step - loss: 6.6535 - mae: 6.6535\n",
            "Epoch 40/100\n",
            "1/1 [==============================] - 0s 4ms/step - loss: 6.5642 - mae: 6.5642\n",
            "Epoch 41/100\n",
            "1/1 [==============================] - 0s 8ms/step - loss: 6.4602 - mae: 6.4602\n",
            "Epoch 42/100\n",
            "1/1 [==============================] - 0s 6ms/step - loss: 6.3436 - mae: 6.3436\n",
            "Epoch 43/100\n",
            "1/1 [==============================] - 0s 6ms/step - loss: 6.2166 - mae: 6.2166\n",
            "Epoch 44/100\n",
            "1/1 [==============================] - 0s 6ms/step - loss: 6.0810 - mae: 6.0810\n",
            "Epoch 45/100\n",
            "1/1 [==============================] - 0s 8ms/step - loss: 6.0001 - mae: 6.0001\n",
            "Epoch 46/100\n",
            "1/1 [==============================] - 0s 7ms/step - loss: 5.9770 - mae: 5.9770\n",
            "Epoch 47/100\n",
            "1/1 [==============================] - 0s 8ms/step - loss: 5.9519 - mae: 5.9519\n",
            "Epoch 48/100\n",
            "1/1 [==============================] - 0s 4ms/step - loss: 5.9248 - mae: 5.9248\n",
            "Epoch 49/100\n",
            "1/1 [==============================] - 0s 4ms/step - loss: 5.8960 - mae: 5.8960\n",
            "Epoch 50/100\n",
            "1/1 [==============================] - 0s 4ms/step - loss: 5.9194 - mae: 5.9194\n",
            "Epoch 51/100\n",
            "1/1 [==============================] - 0s 6ms/step - loss: 5.9078 - mae: 5.9078\n",
            "Epoch 52/100\n",
            "1/1 [==============================] - 0s 6ms/step - loss: 5.8470 - mae: 5.8470\n",
            "Epoch 53/100\n",
            "1/1 [==============================] - 0s 4ms/step - loss: 5.7423 - mae: 5.7423\n",
            "Epoch 54/100\n",
            "1/1 [==============================] - 0s 8ms/step - loss: 5.6881 - mae: 5.6881\n",
            "Epoch 55/100\n",
            "1/1 [==============================] - 0s 5ms/step - loss: 5.6359 - mae: 5.6359\n",
            "Epoch 56/100\n",
            "1/1 [==============================] - 0s 5ms/step - loss: 5.5831 - mae: 5.5831\n",
            "Epoch 57/100\n",
            "1/1 [==============================] - 0s 6ms/step - loss: 5.5298 - mae: 5.5298\n",
            "Epoch 58/100\n",
            "1/1 [==============================] - 0s 6ms/step - loss: 5.4759 - mae: 5.4759\n",
            "Epoch 59/100\n",
            "1/1 [==============================] - 0s 4ms/step - loss: 5.4363 - mae: 5.4363\n",
            "Epoch 60/100\n",
            "1/1 [==============================] - 0s 9ms/step - loss: 5.4248 - mae: 5.4248\n",
            "Epoch 61/100\n",
            "1/1 [==============================] - 0s 5ms/step - loss: 5.3918 - mae: 5.3918\n",
            "Epoch 62/100\n",
            "1/1 [==============================] - 0s 7ms/step - loss: 5.3393 - mae: 5.3393\n",
            "Epoch 63/100\n",
            "1/1 [==============================] - 0s 9ms/step - loss: 5.2695 - mae: 5.2695\n",
            "Epoch 64/100\n",
            "1/1 [==============================] - 0s 9ms/step - loss: 5.2022 - mae: 5.2022\n",
            "Epoch 65/100\n",
            "1/1 [==============================] - 0s 5ms/step - loss: 5.1623 - mae: 5.1623\n",
            "Epoch 66/100\n",
            "1/1 [==============================] - 0s 6ms/step - loss: 5.1201 - mae: 5.1201\n",
            "Epoch 67/100\n",
            "1/1 [==============================] - 0s 6ms/step - loss: 5.0758 - mae: 5.0758\n",
            "Epoch 68/100\n",
            "1/1 [==============================] - 0s 5ms/step - loss: 5.0293 - mae: 5.0293\n",
            "Epoch 69/100\n",
            "1/1 [==============================] - 0s 6ms/step - loss: 4.9808 - mae: 4.9808\n",
            "Epoch 70/100\n",
            "1/1 [==============================] - 0s 7ms/step - loss: 4.9302 - mae: 4.9302\n",
            "Epoch 71/100\n",
            "1/1 [==============================] - 0s 5ms/step - loss: 4.8777 - mae: 4.8777\n",
            "Epoch 72/100\n",
            "1/1 [==============================] - 0s 6ms/step - loss: 4.8232 - mae: 4.8232\n",
            "Epoch 73/100\n",
            "1/1 [==============================] - 0s 7ms/step - loss: 4.7668 - mae: 4.7668\n",
            "Epoch 74/100\n",
            "1/1 [==============================] - 0s 6ms/step - loss: 4.7084 - mae: 4.7084\n",
            "Epoch 75/100\n",
            "1/1 [==============================] - 0s 5ms/step - loss: 4.6482 - mae: 4.6482\n",
            "Epoch 76/100\n",
            "1/1 [==============================] - 0s 6ms/step - loss: 4.5861 - mae: 4.5861\n",
            "Epoch 77/100\n",
            "1/1 [==============================] - 0s 4ms/step - loss: 4.5221 - mae: 4.5221\n",
            "Epoch 78/100\n",
            "1/1 [==============================] - 0s 6ms/step - loss: 4.4690 - mae: 4.4690\n",
            "Epoch 79/100\n",
            "1/1 [==============================] - 0s 9ms/step - loss: 4.4112 - mae: 4.4112\n",
            "Epoch 80/100\n",
            "1/1 [==============================] - 0s 4ms/step - loss: 4.3368 - mae: 4.3368\n",
            "Epoch 81/100\n",
            "1/1 [==============================] - 0s 4ms/step - loss: 4.2762 - mae: 4.2762\n",
            "Epoch 82/100\n",
            "1/1 [==============================] - 0s 4ms/step - loss: 4.2129 - mae: 4.2129\n",
            "Epoch 83/100\n",
            "1/1 [==============================] - 0s 5ms/step - loss: 4.1470 - mae: 4.1470\n",
            "Epoch 84/100\n",
            "1/1 [==============================] - 0s 6ms/step - loss: 4.0784 - mae: 4.0784\n",
            "Epoch 85/100\n",
            "1/1 [==============================] - 0s 7ms/step - loss: 4.0073 - mae: 4.0073\n",
            "Epoch 86/100\n",
            "1/1 [==============================] - 0s 6ms/step - loss: 3.9444 - mae: 3.9444\n",
            "Epoch 87/100\n",
            "1/1 [==============================] - 0s 6ms/step - loss: 3.8643 - mae: 3.8643\n",
            "Epoch 88/100\n",
            "1/1 [==============================] - 0s 4ms/step - loss: 3.7920 - mae: 3.7920\n",
            "Epoch 89/100\n",
            "1/1 [==============================] - 0s 5ms/step - loss: 3.7167 - mae: 3.7167\n",
            "Epoch 90/100\n",
            "1/1 [==============================] - 0s 5ms/step - loss: 3.6433 - mae: 3.6433\n",
            "Epoch 91/100\n",
            "1/1 [==============================] - 0s 4ms/step - loss: 3.5646 - mae: 3.5646\n",
            "Epoch 92/100\n",
            "1/1 [==============================] - 0s 5ms/step - loss: 3.4874 - mae: 3.4874\n",
            "Epoch 93/100\n",
            "1/1 [==============================] - 0s 5ms/step - loss: 3.4069 - mae: 3.4069\n",
            "Epoch 94/100\n",
            "1/1 [==============================] - 0s 5ms/step - loss: 3.3234 - mae: 3.3234\n",
            "Epoch 95/100\n",
            "1/1 [==============================] - 0s 5ms/step - loss: 3.2368 - mae: 3.2368\n",
            "Epoch 96/100\n",
            "1/1 [==============================] - 0s 5ms/step - loss: 3.1473 - mae: 3.1473\n",
            "Epoch 97/100\n",
            "1/1 [==============================] - 0s 6ms/step - loss: 3.0630 - mae: 3.0630\n",
            "Epoch 98/100\n",
            "1/1 [==============================] - 0s 3ms/step - loss: 2.9668 - mae: 2.9668\n",
            "Epoch 99/100\n",
            "1/1 [==============================] - 0s 3ms/step - loss: 2.8753 - mae: 2.8753\n",
            "Epoch 100/100\n",
            "1/1 [==============================] - 0s 7ms/step - loss: 2.7805 - mae: 2.7805\n"
          ],
          "name": "stdout"
        },
        {
          "output_type": "execute_result",
          "data": {
            "text/plain": [
              "<tensorflow.python.keras.callbacks.History at 0x7fe6df67b710>"
            ]
          },
          "metadata": {
            "tags": []
          },
          "execution_count": 14
        }
      ]
    },
    {
      "cell_type": "code",
      "metadata": {
        "colab": {
          "base_uri": "https://localhost:8080/"
        },
        "id": "_qtKpLwAPyg4",
        "outputId": "c9f7c458-e8bd-4f2f-c86b-71b9ebb2b487"
      },
      "source": [
        "#Prediction\n",
        "model.predict([17.0])"
      ],
      "execution_count": null,
      "outputs": [
        {
          "output_type": "execute_result",
          "data": {
            "text/plain": [
              "array([[28.916777]], dtype=float32)"
            ]
          },
          "metadata": {
            "tags": []
          },
          "execution_count": 15
        }
      ]
    },
    {
      "cell_type": "markdown",
      "metadata": {
        "id": "yTZWWmHKTR2-"
      },
      "source": [
        "### Evaluating the model\n",
        "\n",
        "when it comes to evaluation...there are 3 words you should memorize: \n",
        "> Visualize, Visualize, Visualize\n",
        "\n",
        "It's a good idea to visualize \n",
        "* The data - what data we are working with. What it looks like? \n",
        "* the model itself - what does our model looks like? \n",
        "* The training of a model - how does our model performs while training. \n",
        "* The predictions of the model."
      ]
    },
    {
      "cell_type": "code",
      "metadata": {
        "colab": {
          "base_uri": "https://localhost:8080/"
        },
        "id": "5uol_U2SRR3m",
        "outputId": "261cf7f3-54cb-44ab-9d5e-d2cd261eb5cf"
      },
      "source": [
        "#Make a bigger dataset\n",
        "X= tf.range(-100, 100, 4)\n",
        "X\n"
      ],
      "execution_count": null,
      "outputs": [
        {
          "output_type": "execute_result",
          "data": {
            "text/plain": [
              "<tf.Tensor: shape=(50,), dtype=int32, numpy=\n",
              "array([-100,  -96,  -92,  -88,  -84,  -80,  -76,  -72,  -68,  -64,  -60,\n",
              "        -56,  -52,  -48,  -44,  -40,  -36,  -32,  -28,  -24,  -20,  -16,\n",
              "        -12,   -8,   -4,    0,    4,    8,   12,   16,   20,   24,   28,\n",
              "         32,   36,   40,   44,   48,   52,   56,   60,   64,   68,   72,\n",
              "         76,   80,   84,   88,   92,   96], dtype=int32)>"
            ]
          },
          "metadata": {
            "tags": []
          },
          "execution_count": 16
        }
      ]
    },
    {
      "cell_type": "code",
      "metadata": {
        "colab": {
          "base_uri": "https://localhost:8080/"
        },
        "id": "8Yy98qJnaHBJ",
        "outputId": "cf8313f6-64fb-4c06-bf39-366b3483efcb"
      },
      "source": [
        "y = X + 10\n",
        "y"
      ],
      "execution_count": null,
      "outputs": [
        {
          "output_type": "execute_result",
          "data": {
            "text/plain": [
              "<tf.Tensor: shape=(50,), dtype=int32, numpy=\n",
              "array([-90, -86, -82, -78, -74, -70, -66, -62, -58, -54, -50, -46, -42,\n",
              "       -38, -34, -30, -26, -22, -18, -14, -10,  -6,  -2,   2,   6,  10,\n",
              "        14,  18,  22,  26,  30,  34,  38,  42,  46,  50,  54,  58,  62,\n",
              "        66,  70,  74,  78,  82,  86,  90,  94,  98, 102, 106], dtype=int32)>"
            ]
          },
          "metadata": {
            "tags": []
          },
          "execution_count": 17
        }
      ]
    },
    {
      "cell_type": "code",
      "metadata": {
        "colab": {
          "base_uri": "https://localhost:8080/",
          "height": 282
        },
        "id": "UBR1-jPnaJ1_",
        "outputId": "09f88630-f150-4674-bb9a-385e116c6f93"
      },
      "source": [
        "#Visualize the data\n",
        "import matplotlib.pyplot as plt \n",
        "\n",
        "plt.scatter(X,y)"
      ],
      "execution_count": null,
      "outputs": [
        {
          "output_type": "execute_result",
          "data": {
            "text/plain": [
              "<matplotlib.collections.PathCollection at 0x7fe6e076fe10>"
            ]
          },
          "metadata": {
            "tags": []
          },
          "execution_count": 18
        },
        {
          "output_type": "display_data",
          "data": {
            "image/png": "[encoded data removed]",
            "text/plain": [
              "<Figure size 432x288 with 1 Axes>"
            ]
          },
          "metadata": {
            "tags": [],
            "needs_background": "light"
          }
        }
      ]
    },
    {
      "cell_type": "markdown",
      "metadata": {
        "id": "MLxauX_haxwZ"
      },
      "source": [
        "### Split the data\n",
        "\n",
        "* Training\n",
        "* Validation \n",
        "* Testing"
      ]
    },
    {
      "cell_type": "code",
      "metadata": {
        "colab": {
          "base_uri": "https://localhost:8080/"
        },
        "id": "HCDsqEX4aTon",
        "outputId": "5d9a40b1-725a-4afd-d4b3-1b519b0d9bb0"
      },
      "source": [
        "#Check the length of the data\n",
        "len(X)"
      ],
      "execution_count": null,
      "outputs": [
        {
          "output_type": "execute_result",
          "data": {
            "text/plain": [
              "50"
            ]
          },
          "metadata": {
            "tags": []
          },
          "execution_count": 19
        }
      ]
    },
    {
      "cell_type": "code",
      "metadata": {
        "colab": {
          "base_uri": "https://localhost:8080/"
        },
        "id": "Wizi14FmbOou",
        "outputId": "cc576f08-3cd0-40ee-9ab8-4e849231388a"
      },
      "source": [
        "#Split the data into train and test set \n",
        "X_train = X[:40]\n",
        "y_train = y[:40]\n",
        "\n",
        "X_test = X[40:]\n",
        "y_test = y[40:]\n",
        "\n",
        "len(X_train),len(X_test), len(y_train), len(y_test)\n"
      ],
      "execution_count": null,
      "outputs": [
        {
          "output_type": "execute_result",
          "data": {
            "text/plain": [
              "(40, 10, 40, 10)"
            ]
          },
          "metadata": {
            "tags": []
          },
          "execution_count": 20
        }
      ]
    },
    {
      "cell_type": "markdown",
      "metadata": {
        "id": "VvLc9QiKcYgO"
      },
      "source": [
        "## Visualizing the data\n",
        "\n"
      ]
    },
    {
      "cell_type": "code",
      "metadata": {
        "colab": {
          "base_uri": "https://localhost:8080/",
          "height": 445
        },
        "id": "2Z2-BPkecU6O",
        "outputId": "7d77cd72-ee93-43ef-937f-07e05d2ea8b3"
      },
      "source": [
        "plt.figure(figsize=(10,7))\n",
        "#Train in blue \n",
        "plt.scatter(X_train, y_train, c='b',label=\"Training Data\")\n",
        "\n",
        "#Train in green\n",
        "plt.scatter(X_test, y_test, c='g', label='Testing data')\n",
        "\n",
        "plt.legend()"
      ],
      "execution_count": null,
      "outputs": [
        {
          "output_type": "execute_result",
          "data": {
            "text/plain": [
              "<matplotlib.legend.Legend at 0x7fe6de056450>"
            ]
          },
          "metadata": {
            "tags": []
          },
          "execution_count": 21
        },
        {
          "output_type": "display_data",
          "data": {
            "image/png": "[encoded data removed]",
            "text/plain": [
              "<Figure size 720x504 with 1 Axes>"
            ]
          },
          "metadata": {
            "tags": [],
            "needs_background": "light"
          }
        }
      ]
    },
    {
      "cell_type": "code",
      "metadata": {
        "id": "dASTTIafc-3u"
      },
      "source": [
        "# Let's have a look at how to build a neural network for our data\n",
        "\n",
        "#1. Create a model \n",
        "\n",
        "model = tf.keras.Sequential([\n",
        "                             tf.keras.layers.Dense(1)\n",
        "])\n",
        "\n",
        "#2. Compile the model\n",
        "model.compile(loss=tf.keras.losses.mae, \n",
        "              optimizer= tf.keras.optimizers.SGD(),\n",
        "              metrics=[\"mae\"])\n",
        "\n",
        "#3. Fit the data\n",
        "#model.fit(X_train,y_train)"
      ],
      "execution_count": null,
      "outputs": []
    },
    {
      "cell_type": "markdown",
      "metadata": {
        "id": "HCJaHN3hbLoA"
      },
      "source": [
        "#### Visualize the model"
      ]
    },
    {
      "cell_type": "code",
      "metadata": {
        "colab": {
          "base_uri": "https://localhost:8080/",
          "height": 304
        },
        "id": "Ojhr_sK9bDF1",
        "outputId": "dda321fe-55af-4154-ece9-dd5c0531c43d"
      },
      "source": [
        "model.summary() ##Important check error"
      ],
      "execution_count": null,
      "outputs": [
        {
          "output_type": "error",
          "ename": "ValueError",
          "evalue": "ignored",
          "traceback": [
            "\u001b[0;31m---------------------------------------------------------------------------\u001b[0m",
            "\u001b[0;31mValueError\u001b[0m                                Traceback (most recent call last)",
            "\u001b[0;32m<ipython-input-23-cd67a0d5d460>\u001b[0m in \u001b[0;36m<module>\u001b[0;34m()\u001b[0m\n\u001b[0;32m----> 1\u001b[0;31m \u001b[0mmodel\u001b[0m\u001b[0;34m.\u001b[0m\u001b[0msummary\u001b[0m\u001b[0;34m(\u001b[0m\u001b[0;34m)\u001b[0m \u001b[0;31m##Important check error\u001b[0m\u001b[0;34m\u001b[0m\u001b[0;34m\u001b[0m\u001b[0m\n\u001b[0m",
            "\u001b[0;32m/usr/local/lib/python3.7/dist-packages/tensorflow/python/keras/engine/training.py\u001b[0m in \u001b[0;36msummary\u001b[0;34m(self, line_length, positions, print_fn)\u001b[0m\n\u001b[1;32m   2475\u001b[0m     \"\"\"\n\u001b[1;32m   2476\u001b[0m     \u001b[0;32mif\u001b[0m \u001b[0;32mnot\u001b[0m \u001b[0mself\u001b[0m\u001b[0;34m.\u001b[0m\u001b[0mbuilt\u001b[0m\u001b[0;34m:\u001b[0m\u001b[0;34m\u001b[0m\u001b[0;34m\u001b[0m\u001b[0m\n\u001b[0;32m-> 2477\u001b[0;31m       raise ValueError('This model has not yet been built. '\n\u001b[0m\u001b[1;32m   2478\u001b[0m                        \u001b[0;34m'Build the model first by calling `build()` or calling '\u001b[0m\u001b[0;34m\u001b[0m\u001b[0;34m\u001b[0m\u001b[0m\n\u001b[1;32m   2479\u001b[0m                        \u001b[0;34m'`fit()` with some data, or specify '\u001b[0m\u001b[0;34m\u001b[0m\u001b[0;34m\u001b[0m\u001b[0m\n",
            "\u001b[0;31mValueError\u001b[0m: This model has not yet been built. Build the model first by calling `build()` or calling `fit()` with some data, or specify an `input_shape` argument in the first layer(s) for automatic build."
          ]
        }
      ]
    },
    {
      "cell_type": "code",
      "metadata": {
        "colab": {
          "base_uri": "https://localhost:8080/"
        },
        "id": "ajkr2CQebFBQ",
        "outputId": "8b40b67f-bf80-48d9-8706-2e250dde62bd"
      },
      "source": [
        "#Let's create a model which builds automatically by defining the input shape in the first layer\n",
        "tf.random.set_seed(42)\n",
        "\n",
        "# Create a model (same as above)\n",
        "model = tf.keras.Sequential([ \n",
        "                tf.keras.layers.Dense(10,input_shape=[1], name=\"Input_layer\"),\n",
        "                tf.keras.layers.Dense(1, name=\"Output_layer\")\n",
        "], name=\"Regression_Model\")\n",
        "\n",
        "#2. Compile the model \n",
        "\n",
        "model.compile(loss= tf.keras.losses.mae,\n",
        "              optimizer= tf.keras.optimizers.SGD(),\n",
        "              metrics =[\"mae\"])\n",
        "\n",
        "model.summary()"
      ],
      "execution_count": null,
      "outputs": [
        {
          "output_type": "stream",
          "text": [
            "Model: \"Regression_Model\"\n",
            "_________________________________________________________________\n",
            "Layer (type)                 Output Shape              Param #   \n",
            "=================================================================\n",
            "Input_layer (Dense)          (None, 10)                20        \n",
            "_________________________________________________________________\n",
            "Output_layer (Dense)         (None, 1)                 11        \n",
            "=================================================================\n",
            "Total params: 31\n",
            "Trainable params: 31\n",
            "Non-trainable params: 0\n",
            "_________________________________________________________________\n"
          ],
          "name": "stdout"
        }
      ]
    },
    {
      "cell_type": "code",
      "metadata": {
        "colab": {
          "base_uri": "https://localhost:8080/"
        },
        "id": "68iaZvCQd3cx",
        "outputId": "f676c4ae-7cc1-4dd0-c21c-3c3dfb6d92eb"
      },
      "source": [
        "model.fit(X_train, y_train, epochs=100,verbose=0)"
      ],
      "execution_count": null,
      "outputs": [
        {
          "output_type": "execute_result",
          "data": {
            "text/plain": [
              "<tensorflow.python.keras.callbacks.History at 0x7fe6e2925950>"
            ]
          },
          "metadata": {
            "tags": []
          },
          "execution_count": 26
        }
      ]
    },
    {
      "cell_type": "code",
      "metadata": {
        "colab": {
          "base_uri": "https://localhost:8080/",
          "height": 312
        },
        "id": "v8guMiaRd-d-",
        "outputId": "d0c5ebc2-a53f-46db-f009-966c4651b286"
      },
      "source": [
        "from tensorflow.keras.utils import plot_model\n",
        "\n",
        "plot_model(model=model,show_shapes=True)"
      ],
      "execution_count": null,
      "outputs": [
        {
          "output_type": "execute_result",
          "data": {
            "image/png": "[encoded data removed]",
            "text/plain": [
              "<IPython.core.display.Image object>"
            ]
          },
          "metadata": {
            "tags": []
          },
          "execution_count": 27
        }
      ]
    },
    {
      "cell_type": "markdown",
      "metadata": {
        "id": "3D_9gmzZggSY"
      },
      "source": [
        "### Visualize model predictions\n",
        "\n",
        "To visualize predictions its a good idea to plot them against ground truth table.\n",
        "\n",
        "Often you will see this in the form of `y_test` or `y_true` vs `y_pred` (ground truth vs your model predictions)"
      ]
    },
    {
      "cell_type": "code",
      "metadata": {
        "colab": {
          "base_uri": "https://localhost:8080/"
        },
        "id": "N5liJfEje2c9",
        "outputId": "a7ab0a50-bd10-43a3-e411-8a64c75629df"
      },
      "source": [
        "# Make some predictions \n",
        "y_pred = model.predict(X_test)\n",
        "y_pred"
      ],
      "execution_count": null,
      "outputs": [
        {
          "output_type": "execute_result",
          "data": {
            "text/plain": [
              "array([[ 70.55218 ],\n",
              "       [ 75.13991 ],\n",
              "       [ 79.72763 ],\n",
              "       [ 84.31535 ],\n",
              "       [ 88.903076],\n",
              "       [ 93.49081 ],\n",
              "       [ 98.07853 ],\n",
              "       [102.66625 ],\n",
              "       [107.253975],\n",
              "       [111.8417  ]], dtype=float32)"
            ]
          },
          "metadata": {
            "tags": []
          },
          "execution_count": 28
        }
      ]
    },
    {
      "cell_type": "code",
      "metadata": {
        "colab": {
          "base_uri": "https://localhost:8080/"
        },
        "id": "r7Q5TqmEhOzO",
        "outputId": "d81687eb-152f-4522-ea28-7ccc55018be4"
      },
      "source": [
        "y_test"
      ],
      "execution_count": null,
      "outputs": [
        {
          "output_type": "execute_result",
          "data": {
            "text/plain": [
              "<tf.Tensor: shape=(10,), dtype=int32, numpy=array([ 70,  74,  78,  82,  86,  90,  94,  98, 102, 106], dtype=int32)>"
            ]
          },
          "metadata": {
            "tags": []
          },
          "execution_count": 29
        }
      ]
    },
    {
      "cell_type": "code",
      "metadata": {
        "id": "x89o4xVyhQ9Y"
      },
      "source": [
        "#Create a plotting function\n",
        "def plot_predictions(train_data=X_train,train_labels=y_train,\n",
        "                     test_data=X_test, test_labels=y_test,\n",
        "                     predictions=y_pred):\n",
        "  \"\"\"\n",
        "Plots training data, test data and compares predictions to the ground truth table\n",
        "  \"\"\"\n",
        "  plt.figure(figsize=(9,6))\n",
        "\n",
        "  plt.scatter(train_data, train_labels, c='b', label=\"Training data\")\n",
        "\n",
        "  plt.scatter(test_data, test_labels,c='g', label=\"Testing data\")\n",
        "\n",
        "  plt.scatter(test_data, predictions, c='r', label=\"Predictions\")\n",
        "\n",
        "  plt.legend()\n"
      ],
      "execution_count": null,
      "outputs": []
    },
    {
      "cell_type": "code",
      "metadata": {
        "colab": {
          "base_uri": "https://localhost:8080/",
          "height": 374
        },
        "id": "aaJU8mRAi6Vg",
        "outputId": "13974083-a20b-4e45-a655-bb06bbe24fd7"
      },
      "source": [
        "plot_predictions()"
      ],
      "execution_count": null,
      "outputs": [
        {
          "output_type": "display_data",
          "data": {
            "image/png": "[encoded data removed]",
            "text/plain": [
              "<Figure size 648x432 with 1 Axes>"
            ]
          },
          "metadata": {
            "tags": [],
            "needs_background": "light"
          }
        }
      ]
    },
    {
      "cell_type": "markdown",
      "metadata": {
        "id": "Ors-qlN0jurv"
      },
      "source": [
        "### Evaluating our model predictions with regression evaluation metrics\n",
        "\n",
        "Depending on the problem you'r working on, there will be different evaluations metrics to evaluate our model performance. \n",
        "\n",
        "Since we're working on a regression, two of the main metrics: \n",
        "* MAE: mean absolute error. \"on average how wrong is my model predictions\"\n",
        "* MSE: mean square error. \"Square the average error."
      ]
    },
    {
      "cell_type": "code",
      "metadata": {
        "colab": {
          "base_uri": "https://localhost:8080/"
        },
        "id": "Rw0a0g6ei88V",
        "outputId": "74ea45ff-9b79-4568-db30-fb488151de78"
      },
      "source": [
        "## Evaluate the model on test\n",
        "\n",
        "model.evaluate(X_test, y_test) #Input data, original Y label"
      ],
      "execution_count": null,
      "outputs": [
        {
          "output_type": "stream",
          "text": [
            "1/1 [==============================] - 0s 122ms/step - loss: 3.1969 - mae: 3.1969\n"
          ],
          "name": "stdout"
        },
        {
          "output_type": "execute_result",
          "data": {
            "text/plain": [
              "[3.196942090988159, 3.196942090988159]"
            ]
          },
          "metadata": {
            "tags": []
          },
          "execution_count": 32
        }
      ]
    },
    {
      "cell_type": "code",
      "metadata": {
        "colab": {
          "base_uri": "https://localhost:8080/"
        },
        "id": "JeLXdG-WlpyT",
        "outputId": "cc12e631-7e31-4a82-9d55-856549789f82"
      },
      "source": [
        "## Calculate mean absolute error\n",
        "\n",
        "tf.metrics.mean_absolute_error(y_test,y_pred)  #But it is not returning the single value due to shape issue"
      ],
      "execution_count": null,
      "outputs": [
        {
          "output_type": "execute_result",
          "data": {
            "text/plain": [
              "<tf.Tensor: shape=(10,), dtype=float32, numpy=\n",
              "array([17.558258 , 14.1160555, 11.708948 , 10.336929 , 10.       ,\n",
              "       10.698161 , 12.447118 , 15.333002 , 19.253975 , 23.841698 ],\n",
              "      dtype=float32)>"
            ]
          },
          "metadata": {
            "tags": []
          },
          "execution_count": 33
        }
      ]
    },
    {
      "cell_type": "code",
      "metadata": {
        "colab": {
          "base_uri": "https://localhost:8080/"
        },
        "id": "C8mCFwRqmu1u",
        "outputId": "9d0f3bc7-2fd5-4e81-e999-4c10c98f498c"
      },
      "source": [
        "y_test.shape, y_pred.shape #shape issue"
      ],
      "execution_count": null,
      "outputs": [
        {
          "output_type": "execute_result",
          "data": {
            "text/plain": [
              "(TensorShape([10]), (10, 1))"
            ]
          },
          "metadata": {
            "tags": []
          },
          "execution_count": 34
        }
      ]
    },
    {
      "cell_type": "code",
      "metadata": {
        "colab": {
          "base_uri": "https://localhost:8080/"
        },
        "id": "Zk49aiwhm1b-",
        "outputId": "72808ba4-874d-4ec5-80af-4ccc9e2e4d62"
      },
      "source": [
        "tf.squeeze(y_pred)"
      ],
      "execution_count": null,
      "outputs": [
        {
          "output_type": "execute_result",
          "data": {
            "text/plain": [
              "<tf.Tensor: shape=(10,), dtype=float32, numpy=\n",
              "array([ 70.55218 ,  75.13991 ,  79.72763 ,  84.31535 ,  88.903076,\n",
              "        93.49081 ,  98.07853 , 102.66625 , 107.253975, 111.8417  ],\n",
              "      dtype=float32)>"
            ]
          },
          "metadata": {
            "tags": []
          },
          "execution_count": 35
        }
      ]
    },
    {
      "cell_type": "code",
      "metadata": {
        "colab": {
          "base_uri": "https://localhost:8080/"
        },
        "id": "Df10Gp1Vm9B8",
        "outputId": "d911cb60-0964-4a52-fa23-3d1eb9b29680"
      },
      "source": [
        "## Calculate mean absolute error\n",
        "\n",
        "tf.metrics.mean_absolute_error(y_test, tf.squeeze(y_pred))  "
      ],
      "execution_count": null,
      "outputs": [
        {
          "output_type": "execute_result",
          "data": {
            "text/plain": [
              "<tf.Tensor: shape=(), dtype=float32, numpy=3.1969407>"
            ]
          },
          "metadata": {
            "tags": []
          },
          "execution_count": 36
        }
      ]
    },
    {
      "cell_type": "code",
      "metadata": {
        "colab": {
          "base_uri": "https://localhost:8080/"
        },
        "id": "c6S2ftIfnIoh",
        "outputId": "420f39a1-150e-4f5e-9b6b-e08da7f75cc2"
      },
      "source": [
        "#Calculate mean squarred error \n",
        "\n",
        "tf.metrics.mean_squared_error(y_test, tf.squeeze(y_pred)) #Use while: Larger error are more significant than smaller error"
      ],
      "execution_count": null,
      "outputs": [
        {
          "output_type": "execute_result",
          "data": {
            "text/plain": [
              "<tf.Tensor: shape=(), dtype=float32, numpy=13.070143>"
            ]
          },
          "metadata": {
            "tags": []
          },
          "execution_count": 37
        }
      ]
    },
    {
      "cell_type": "code",
      "metadata": {
        "id": "Pkt6ejXUnQau"
      },
      "source": [
        "# Make some functions to reuse mae and mse\n",
        "\n",
        "def mae(y_true,y_pred):\n",
        "  return tf.metrics.mean_absolute_error(y_true=y_true, y_pred=y_pred)\n",
        "\n",
        "def mse(y_true, y_pred):\n",
        "  return tf.metrics.mean_squared_error(y_true = y_true, y_pred= y_pred)"
      ],
      "execution_count": null,
      "outputs": []
    },
    {
      "cell_type": "markdown",
      "metadata": {
        "id": "FarGEJ-M7SfK"
      },
      "source": [
        "### Running experiment to impove our model\n",
        "\n",
        "run -> fit -> evaluate -> tweak it.\n",
        "\n",
        "1. Get more data - get more example for your model to train on (more opportunities to learn patterns or relationship between features amd labels) \n",
        "2. Make you model larger\n",
        "3. Train longer \n",
        "\n",
        "Let do 3 modelling experiment: \n",
        "\n",
        "1. `model1` same as original model, 1 layer, trained for 100 epochs. \n",
        "2. `model2` 2 layers trained for 100 epochs\n",
        "3. `model3` 2 layers trained for 500 epochs\n",
        "\n",
        "Build `model1`:"
      ]
    },
    {
      "cell_type": "code",
      "metadata": {
        "colab": {
          "base_uri": "https://localhost:8080/"
        },
        "id": "IYT2jMBV78JE",
        "outputId": "81680748-1425-49ed-f984-66522682ae9c"
      },
      "source": [
        "#Set random \n",
        "tf.random.set_seed(42)\n",
        "\n",
        "model_1 = tf.keras.Sequential([\n",
        "                             tf.keras.layers.Dense(1)\n",
        "])\n",
        "\n",
        "model_1.compile(loss=tf.losses.mae,\n",
        "              optimizer=tf.optimizers.SGD(),\n",
        "              metrics=[\"mae\"])\n",
        "\n",
        "model_1.fit(X_train,y_train, epochs=100)"
      ],
      "execution_count": null,
      "outputs": [
        {
          "output_type": "stream",
          "text": [
            "Epoch 1/100\n",
            "2/2 [==============================] - 0s 12ms/step - loss: 15.9024 - mae: 15.9024\n",
            "Epoch 2/100\n",
            "2/2 [==============================] - 0s 7ms/step - loss: 11.2837 - mae: 11.2837\n",
            "Epoch 3/100\n",
            "2/2 [==============================] - 0s 6ms/step - loss: 11.1074 - mae: 11.1074\n",
            "Epoch 4/100\n",
            "2/2 [==============================] - 0s 9ms/step - loss: 9.2991 - mae: 9.2991\n",
            "Epoch 5/100\n",
            "2/2 [==============================] - 0s 6ms/step - loss: 10.1677 - mae: 10.1677\n",
            "Epoch 6/100\n",
            "2/2 [==============================] - 0s 6ms/step - loss: 9.4303 - mae: 9.4303\n",
            "Epoch 7/100\n",
            "2/2 [==============================] - 0s 5ms/step - loss: 8.5704 - mae: 8.5704\n",
            "Epoch 8/100\n",
            "2/2 [==============================] - 0s 5ms/step - loss: 9.0442 - mae: 9.0442\n",
            "Epoch 9/100\n",
            "2/2 [==============================] - 0s 3ms/step - loss: 18.7517 - mae: 18.7517\n",
            "Epoch 10/100\n",
            "2/2 [==============================] - 0s 3ms/step - loss: 10.1142 - mae: 10.1142\n",
            "Epoch 11/100\n",
            "2/2 [==============================] - 0s 9ms/step - loss: 8.3980 - mae: 8.3980\n",
            "Epoch 12/100\n",
            "2/2 [==============================] - 0s 4ms/step - loss: 10.6639 - mae: 10.6639\n",
            "Epoch 13/100\n",
            "2/2 [==============================] - 0s 3ms/step - loss: 9.7977 - mae: 9.7977\n",
            "Epoch 14/100\n",
            "2/2 [==============================] - 0s 4ms/step - loss: 16.0103 - mae: 16.0103\n",
            "Epoch 15/100\n",
            "2/2 [==============================] - 0s 4ms/step - loss: 11.4068 - mae: 11.4068\n",
            "Epoch 16/100\n",
            "2/2 [==============================] - 0s 3ms/step - loss: 8.5393 - mae: 8.5393\n",
            "Epoch 17/100\n",
            "2/2 [==============================] - 0s 9ms/step - loss: 13.6348 - mae: 13.6348\n",
            "Epoch 18/100\n",
            "2/2 [==============================] - 0s 5ms/step - loss: 11.4629 - mae: 11.4629\n",
            "Epoch 19/100\n",
            "2/2 [==============================] - 0s 3ms/step - loss: 17.9148 - mae: 17.9148\n",
            "Epoch 20/100\n",
            "2/2 [==============================] - 0s 5ms/step - loss: 15.0494 - mae: 15.0494\n",
            "Epoch 21/100\n",
            "2/2 [==============================] - 0s 4ms/step - loss: 11.0216 - mae: 11.0216\n",
            "Epoch 22/100\n",
            "2/2 [==============================] - 0s 7ms/step - loss: 8.1558 - mae: 8.1558\n",
            "Epoch 23/100\n",
            "2/2 [==============================] - 0s 5ms/step - loss: 9.5138 - mae: 9.5138\n",
            "Epoch 24/100\n",
            "2/2 [==============================] - 0s 4ms/step - loss: 7.6617 - mae: 7.6617\n",
            "Epoch 25/100\n",
            "2/2 [==============================] - 0s 8ms/step - loss: 13.1859 - mae: 13.1859\n",
            "Epoch 26/100\n",
            "2/2 [==============================] - 0s 5ms/step - loss: 16.4211 - mae: 16.4211\n",
            "Epoch 27/100\n",
            "2/2 [==============================] - 0s 4ms/step - loss: 13.1660 - mae: 13.1660\n",
            "Epoch 28/100\n",
            "2/2 [==============================] - 0s 8ms/step - loss: 14.2559 - mae: 14.2559\n",
            "Epoch 29/100\n",
            "2/2 [==============================] - 0s 3ms/step - loss: 10.0670 - mae: 10.0670\n",
            "Epoch 30/100\n",
            "2/2 [==============================] - 0s 7ms/step - loss: 16.3409 - mae: 16.3409\n",
            "Epoch 31/100\n",
            "2/2 [==============================] - 0s 3ms/step - loss: 23.6444 - mae: 23.6444\n",
            "Epoch 32/100\n",
            "2/2 [==============================] - 0s 4ms/step - loss: 7.6215 - mae: 7.6215\n",
            "Epoch 33/100\n",
            "2/2 [==============================] - 0s 3ms/step - loss: 9.3221 - mae: 9.3221\n",
            "Epoch 34/100\n",
            "2/2 [==============================] - 0s 3ms/step - loss: 13.7313 - mae: 13.7313\n",
            "Epoch 35/100\n",
            "2/2 [==============================] - 0s 3ms/step - loss: 11.1276 - mae: 11.1276\n",
            "Epoch 36/100\n",
            "2/2 [==============================] - 0s 5ms/step - loss: 13.3222 - mae: 13.3222\n",
            "Epoch 37/100\n",
            "2/2 [==============================] - 0s 3ms/step - loss: 9.4763 - mae: 9.4763\n",
            "Epoch 38/100\n",
            "2/2 [==============================] - 0s 5ms/step - loss: 10.1381 - mae: 10.1381\n",
            "Epoch 39/100\n",
            "2/2 [==============================] - 0s 3ms/step - loss: 10.1793 - mae: 10.1793\n",
            "Epoch 40/100\n",
            "2/2 [==============================] - 0s 3ms/step - loss: 10.9137 - mae: 10.9137\n",
            "Epoch 41/100\n",
            "2/2 [==============================] - 0s 6ms/step - loss: 7.9063 - mae: 7.9063\n",
            "Epoch 42/100\n",
            "2/2 [==============================] - 0s 5ms/step - loss: 10.0914 - mae: 10.0914\n",
            "Epoch 43/100\n",
            "2/2 [==============================] - 0s 5ms/step - loss: 8.7006 - mae: 8.7006\n",
            "Epoch 44/100\n",
            "2/2 [==============================] - 0s 4ms/step - loss: 12.2047 - mae: 12.2047\n",
            "Epoch 45/100\n",
            "2/2 [==============================] - 0s 5ms/step - loss: 13.7970 - mae: 13.7970\n",
            "Epoch 46/100\n",
            "2/2 [==============================] - 0s 4ms/step - loss: 8.4687 - mae: 8.4687\n",
            "Epoch 47/100\n",
            "2/2 [==============================] - 0s 4ms/step - loss: 9.1330 - mae: 9.1330\n",
            "Epoch 48/100\n",
            "2/2 [==============================] - 0s 5ms/step - loss: 10.6190 - mae: 10.6190\n",
            "Epoch 49/100\n",
            "2/2 [==============================] - 0s 13ms/step - loss: 7.7503 - mae: 7.7503\n",
            "Epoch 50/100\n",
            "2/2 [==============================] - 0s 3ms/step - loss: 9.5407 - mae: 9.5407\n",
            "Epoch 51/100\n",
            "2/2 [==============================] - 0s 6ms/step - loss: 9.1584 - mae: 9.1584\n",
            "Epoch 52/100\n",
            "2/2 [==============================] - 0s 8ms/step - loss: 16.3630 - mae: 16.3630\n",
            "Epoch 53/100\n",
            "2/2 [==============================] - 0s 5ms/step - loss: 14.1299 - mae: 14.1299\n",
            "Epoch 54/100\n",
            "2/2 [==============================] - 0s 4ms/step - loss: 21.1247 - mae: 21.1247\n",
            "Epoch 55/100\n",
            "2/2 [==============================] - 0s 4ms/step - loss: 16.3961 - mae: 16.3961\n",
            "Epoch 56/100\n",
            "2/2 [==============================] - 0s 3ms/step - loss: 9.9806 - mae: 9.9806\n",
            "Epoch 57/100\n",
            "2/2 [==============================] - 0s 3ms/step - loss: 9.9606 - mae: 9.9606\n",
            "Epoch 58/100\n",
            "2/2 [==============================] - 0s 3ms/step - loss: 9.2209 - mae: 9.2209\n",
            "Epoch 59/100\n",
            "2/2 [==============================] - 0s 4ms/step - loss: 8.4239 - mae: 8.4239\n",
            "Epoch 60/100\n",
            "2/2 [==============================] - 0s 3ms/step - loss: 9.4869 - mae: 9.4869\n",
            "Epoch 61/100\n",
            "2/2 [==============================] - 0s 4ms/step - loss: 11.4355 - mae: 11.4355\n",
            "Epoch 62/100\n",
            "2/2 [==============================] - 0s 5ms/step - loss: 11.6887 - mae: 11.6887\n",
            "Epoch 63/100\n",
            "2/2 [==============================] - 0s 4ms/step - loss: 7.0838 - mae: 7.0838\n",
            "Epoch 64/100\n",
            "2/2 [==============================] - 0s 5ms/step - loss: 16.9675 - mae: 16.9675\n",
            "Epoch 65/100\n",
            "2/2 [==============================] - 0s 12ms/step - loss: 12.4599 - mae: 12.4599\n",
            "Epoch 66/100\n",
            "2/2 [==============================] - 0s 3ms/step - loss: 13.0184 - mae: 13.0184\n",
            "Epoch 67/100\n",
            "2/2 [==============================] - 0s 5ms/step - loss: 8.0600 - mae: 8.0600\n",
            "Epoch 68/100\n",
            "2/2 [==============================] - 0s 2ms/step - loss: 10.1888 - mae: 10.1888\n",
            "Epoch 69/100\n",
            "2/2 [==============================] - 0s 4ms/step - loss: 12.3633 - mae: 12.3633\n",
            "Epoch 70/100\n",
            "2/2 [==============================] - 0s 3ms/step - loss: 9.0516 - mae: 9.0516\n",
            "Epoch 71/100\n",
            "2/2 [==============================] - 0s 3ms/step - loss: 10.0378 - mae: 10.0378\n",
            "Epoch 72/100\n",
            "2/2 [==============================] - 0s 3ms/step - loss: 10.0516 - mae: 10.0516\n",
            "Epoch 73/100\n",
            "2/2 [==============================] - 0s 3ms/step - loss: 12.6151 - mae: 12.6151\n",
            "Epoch 74/100\n",
            "2/2 [==============================] - 0s 3ms/step - loss: 10.3819 - mae: 10.3819\n",
            "Epoch 75/100\n",
            "2/2 [==============================] - 0s 4ms/step - loss: 9.7229 - mae: 9.7229\n",
            "Epoch 76/100\n",
            "2/2 [==============================] - 0s 3ms/step - loss: 11.2252 - mae: 11.2252\n",
            "Epoch 77/100\n",
            "2/2 [==============================] - 0s 3ms/step - loss: 8.3642 - mae: 8.3642\n",
            "Epoch 78/100\n",
            "2/2 [==============================] - 0s 3ms/step - loss: 9.1274 - mae: 9.1274\n",
            "Epoch 79/100\n",
            "2/2 [==============================] - 0s 4ms/step - loss: 19.5039 - mae: 19.5039\n",
            "Epoch 80/100\n",
            "2/2 [==============================] - 0s 3ms/step - loss: 14.8945 - mae: 14.8945\n",
            "Epoch 81/100\n",
            "2/2 [==============================] - 0s 3ms/step - loss: 9.0034 - mae: 9.0034\n",
            "Epoch 82/100\n",
            "2/2 [==============================] - 0s 3ms/step - loss: 13.0206 - mae: 13.0206\n",
            "Epoch 83/100\n",
            "2/2 [==============================] - 0s 3ms/step - loss: 7.9299 - mae: 7.9299\n",
            "Epoch 84/100\n",
            "2/2 [==============================] - 0s 3ms/step - loss: 7.6872 - mae: 7.6872\n",
            "Epoch 85/100\n",
            "2/2 [==============================] - 0s 3ms/step - loss: 10.0328 - mae: 10.0328\n",
            "Epoch 86/100\n",
            "2/2 [==============================] - 0s 3ms/step - loss: 9.2433 - mae: 9.2433\n",
            "Epoch 87/100\n",
            "2/2 [==============================] - 0s 4ms/step - loss: 12.0209 - mae: 12.0209\n",
            "Epoch 88/100\n",
            "2/2 [==============================] - 0s 4ms/step - loss: 10.6389 - mae: 10.6389\n",
            "Epoch 89/100\n",
            "2/2 [==============================] - 0s 3ms/step - loss: 7.2667 - mae: 7.2667\n",
            "Epoch 90/100\n",
            "2/2 [==============================] - 0s 4ms/step - loss: 12.7786 - mae: 12.7786\n",
            "Epoch 91/100\n",
            "2/2 [==============================] - 0s 3ms/step - loss: 7.3481 - mae: 7.3481\n",
            "Epoch 92/100\n",
            "2/2 [==============================] - 0s 9ms/step - loss: 7.7175 - mae: 7.7175\n",
            "Epoch 93/100\n",
            "2/2 [==============================] - 0s 3ms/step - loss: 7.1263 - mae: 7.1263\n",
            "Epoch 94/100\n",
            "2/2 [==============================] - 0s 4ms/step - loss: 12.6190 - mae: 12.6190\n",
            "Epoch 95/100\n",
            "2/2 [==============================] - 0s 3ms/step - loss: 10.0912 - mae: 10.0912\n",
            "Epoch 96/100\n",
            "2/2 [==============================] - 0s 4ms/step - loss: 9.3558 - mae: 9.3558\n",
            "Epoch 97/100\n",
            "2/2 [==============================] - 0s 3ms/step - loss: 12.6834 - mae: 12.6834\n",
            "Epoch 98/100\n",
            "2/2 [==============================] - 0s 3ms/step - loss: 8.6762 - mae: 8.6762\n",
            "Epoch 99/100\n",
            "2/2 [==============================] - 0s 3ms/step - loss: 9.4693 - mae: 9.4693\n",
            "Epoch 100/100\n",
            "2/2 [==============================] - 0s 4ms/step - loss: 8.7067 - mae: 8.7067\n"
          ],
          "name": "stdout"
        },
        {
          "output_type": "execute_result",
          "data": {
            "text/plain": [
              "<tensorflow.python.keras.callbacks.History at 0x7fe6e2784350>"
            ]
          },
          "metadata": {
            "tags": []
          },
          "execution_count": 39
        }
      ]
    },
    {
      "cell_type": "code",
      "metadata": {
        "colab": {
          "base_uri": "https://localhost:8080/",
          "height": 411
        },
        "id": "v3KGSo1c-hXN",
        "outputId": "1cf520bd-bf14-4d6c-d4b1-433a8330aa0c"
      },
      "source": [
        "# Make prediction and plot results\n",
        "y_pred_1 = model_1.predict(X_test)\n",
        "plot_predictions(predictions=y_pred_1)"
      ],
      "execution_count": null,
      "outputs": [
        {
          "output_type": "stream",
          "text": [
            "WARNING:tensorflow:5 out of the last 5 calls to <function Model.make_predict_function.<locals>.predict_function at 0x7fe6dd7dec20> triggered tf.function retracing. Tracing is expensive and the excessive number of tracings could be due to (1) creating @tf.function repeatedly in a loop, (2) passing tensors with different shapes, (3) passing Python objects instead of tensors. For (1), please define your @tf.function outside of the loop. For (2), @tf.function has experimental_relax_shapes=True option that relaxes argument shapes that can avoid unnecessary retracing. For (3), please refer to https://www.tensorflow.org/guide/function#controlling_retracing and https://www.tensorflow.org/api_docs/python/tf/function for  more details.\n"
          ],
          "name": "stdout"
        },
        {
          "output_type": "display_data",
          "data": {
            "image/png": "[encoded data removed]",
            "text/plain": [
              "<Figure size 648x432 with 1 Axes>"
            ]
          },
          "metadata": {
            "tags": [],
            "needs_background": "light"
          }
        }
      ]
    },
    {
      "cell_type": "code",
      "metadata": {
        "colab": {
          "base_uri": "https://localhost:8080/"
        },
        "id": "F253DuuA_J_Y",
        "outputId": "e53a1185-cd56-4a3f-fefa-bc0427b873e1"
      },
      "source": [
        "#Calculate model_1 evaluation metrics\n",
        "mae_1 = mae(y_test,tf.squeeze(y_pred_1))\n",
        "mse_1 = mse(y_test, tf.squeeze(y_pred_1))\n",
        "mae_1, mse_1"
      ],
      "execution_count": null,
      "outputs": [
        {
          "output_type": "execute_result",
          "data": {
            "text/plain": [
              "(<tf.Tensor: shape=(), dtype=float32, numpy=18.745327>,\n",
              " <tf.Tensor: shape=(), dtype=float32, numpy=353.57336>)"
            ]
          },
          "metadata": {
            "tags": []
          },
          "execution_count": 41
        }
      ]
    },
    {
      "cell_type": "markdown",
      "metadata": {
        "id": "1rnN1wVx_5CH"
      },
      "source": [
        "Build `model 2`\n",
        "\n",
        "- 2 dense layer, trained for 100 epochs."
      ]
    },
    {
      "cell_type": "code",
      "metadata": {
        "colab": {
          "base_uri": "https://localhost:8080/"
        },
        "id": "3xw_BUXWADGk",
        "outputId": "b15191b4-fea8-43f2-8d03-3a91666191e9"
      },
      "source": [
        "model_2 = tf.keras.Sequential([\n",
        "                               tf.keras.layers.Dense(50, input_shape=[1]),\n",
        "                               tf.keras.layers.Dense(1)\n",
        "])\n",
        "\n",
        "model_2.compile(loss= tf.losses.mae,\n",
        "                optimizer = tf.optimizers.SGD(),\n",
        "                metrics=[\"mae\"])\n",
        "\n",
        "model_2.summary()"
      ],
      "execution_count": null,
      "outputs": [
        {
          "output_type": "stream",
          "text": [
            "Model: \"sequential_5\"\n",
            "_________________________________________________________________\n",
            "Layer (type)                 Output Shape              Param #   \n",
            "=================================================================\n",
            "dense_6 (Dense)              (None, 50)                100       \n",
            "_________________________________________________________________\n",
            "dense_7 (Dense)              (None, 1)                 51        \n",
            "=================================================================\n",
            "Total params: 151\n",
            "Trainable params: 151\n",
            "Non-trainable params: 0\n",
            "_________________________________________________________________\n"
          ],
          "name": "stdout"
        }
      ]
    },
    {
      "cell_type": "code",
      "metadata": {
        "colab": {
          "base_uri": "https://localhost:8080/"
        },
        "id": "9LrI9rqBAyN3",
        "outputId": "a8ab4559-5fd1-450b-e3e0-f6c2ea419336"
      },
      "source": [
        "#Train model\n",
        "model_2.fit(X_train, y_train, epochs=100)"
      ],
      "execution_count": null,
      "outputs": [
        {
          "output_type": "stream",
          "text": [
            "Epoch 1/100\n",
            "2/2 [==============================] - 0s 6ms/step - loss: 48.6818 - mae: 48.6818\n",
            "Epoch 2/100\n",
            "2/2 [==============================] - 0s 4ms/step - loss: 31.4714 - mae: 31.4714\n",
            "Epoch 3/100\n",
            "2/2 [==============================] - 0s 3ms/step - loss: 36.1933 - mae: 36.1933\n",
            "Epoch 4/100\n",
            "2/2 [==============================] - 0s 3ms/step - loss: 28.7904 - mae: 28.7904\n",
            "Epoch 5/100\n",
            "2/2 [==============================] - 0s 3ms/step - loss: 15.6153 - mae: 15.6153\n",
            "Epoch 6/100\n",
            "2/2 [==============================] - 0s 3ms/step - loss: 12.3877 - mae: 12.3877\n",
            "Epoch 7/100\n",
            "2/2 [==============================] - 0s 7ms/step - loss: 11.6691 - mae: 11.6691\n",
            "Epoch 8/100\n",
            "2/2 [==============================] - 0s 5ms/step - loss: 12.0728 - mae: 12.0728\n",
            "Epoch 9/100\n",
            "2/2 [==============================] - 0s 3ms/step - loss: 37.7908 - mae: 37.7908\n",
            "Epoch 10/100\n",
            "2/2 [==============================] - 0s 6ms/step - loss: 25.4126 - mae: 25.4126\n",
            "Epoch 11/100\n",
            "2/2 [==============================] - 0s 7ms/step - loss: 10.2507 - mae: 10.2507\n",
            "Epoch 12/100\n",
            "2/2 [==============================] - 0s 6ms/step - loss: 25.3636 - mae: 25.3636\n",
            "Epoch 13/100\n",
            "2/2 [==============================] - 0s 6ms/step - loss: 16.9356 - mae: 16.9356\n",
            "Epoch 14/100\n",
            "2/2 [==============================] - 0s 25ms/step - loss: 25.8257 - mae: 25.8257\n",
            "Epoch 15/100\n",
            "2/2 [==============================] - 0s 6ms/step - loss: 17.6593 - mae: 17.6593\n",
            "Epoch 16/100\n",
            "2/2 [==============================] - 0s 9ms/step - loss: 10.0724 - mae: 10.0724\n",
            "Epoch 17/100\n",
            "2/2 [==============================] - 0s 4ms/step - loss: 18.6641 - mae: 18.6641\n",
            "Epoch 18/100\n",
            "2/2 [==============================] - 0s 5ms/step - loss: 11.7887 - mae: 11.7887\n",
            "Epoch 19/100\n",
            "2/2 [==============================] - 0s 5ms/step - loss: 16.5041 - mae: 16.5041\n",
            "Epoch 20/100\n",
            "2/2 [==============================] - 0s 6ms/step - loss: 8.2367 - mae: 8.2367\n",
            "Epoch 21/100\n",
            "2/2 [==============================] - 0s 3ms/step - loss: 14.4107 - mae: 14.4107\n",
            "Epoch 22/100\n",
            "2/2 [==============================] - 0s 5ms/step - loss: 12.8245 - mae: 12.8245\n",
            "Epoch 23/100\n",
            "2/2 [==============================] - 0s 7ms/step - loss: 15.4614 - mae: 15.4614\n",
            "Epoch 24/100\n",
            "2/2 [==============================] - 0s 4ms/step - loss: 15.2506 - mae: 15.2506\n",
            "Epoch 25/100\n",
            "2/2 [==============================] - 0s 4ms/step - loss: 14.3282 - mae: 14.3282\n",
            "Epoch 26/100\n",
            "2/2 [==============================] - 0s 6ms/step - loss: 19.3245 - mae: 19.3245\n",
            "Epoch 27/100\n",
            "2/2 [==============================] - 0s 4ms/step - loss: 11.4601 - mae: 11.4601\n",
            "Epoch 28/100\n",
            "2/2 [==============================] - 0s 6ms/step - loss: 29.1639 - mae: 29.1639\n",
            "Epoch 29/100\n",
            "2/2 [==============================] - 0s 4ms/step - loss: 9.2492 - mae: 9.2492\n",
            "Epoch 30/100\n",
            "2/2 [==============================] - 0s 6ms/step - loss: 29.8860 - mae: 29.8860\n",
            "Epoch 31/100\n",
            "2/2 [==============================] - 0s 3ms/step - loss: 54.2367 - mae: 54.2367\n",
            "Epoch 32/100\n",
            "2/2 [==============================] - 0s 6ms/step - loss: 9.5795 - mae: 9.5795\n",
            "Epoch 33/100\n",
            "2/2 [==============================] - 0s 8ms/step - loss: 12.1733 - mae: 12.1733\n",
            "Epoch 34/100\n",
            "2/2 [==============================] - 0s 3ms/step - loss: 23.9566 - mae: 23.9566\n",
            "Epoch 35/100\n",
            "2/2 [==============================] - 0s 6ms/step - loss: 12.6129 - mae: 12.6129\n",
            "Epoch 36/100\n",
            "2/2 [==============================] - 0s 13ms/step - loss: 21.5143 - mae: 21.5143\n",
            "Epoch 37/100\n",
            "2/2 [==============================] - 0s 9ms/step - loss: 11.3891 - mae: 11.3891\n",
            "Epoch 38/100\n",
            "2/2 [==============================] - 0s 11ms/step - loss: 13.4831 - mae: 13.4831\n",
            "Epoch 39/100\n",
            "2/2 [==============================] - 0s 5ms/step - loss: 10.7982 - mae: 10.7982\n",
            "Epoch 40/100\n",
            "2/2 [==============================] - 0s 5ms/step - loss: 16.6297 - mae: 16.6297\n",
            "Epoch 41/100\n",
            "2/2 [==============================] - 0s 3ms/step - loss: 10.9870 - mae: 10.9870\n",
            "Epoch 42/100\n",
            "2/2 [==============================] - 0s 6ms/step - loss: 9.3109 - mae: 9.3109\n",
            "Epoch 43/100\n",
            "2/2 [==============================] - 0s 2ms/step - loss: 9.5947 - mae: 9.5947\n",
            "Epoch 44/100\n",
            "2/2 [==============================] - 0s 4ms/step - loss: 28.0519 - mae: 28.0519\n",
            "Epoch 45/100\n",
            "2/2 [==============================] - 0s 4ms/step - loss: 11.2978 - mae: 11.2978\n",
            "Epoch 46/100\n",
            "2/2 [==============================] - 0s 4ms/step - loss: 14.1061 - mae: 14.1061\n",
            "Epoch 47/100\n",
            "2/2 [==============================] - 0s 4ms/step - loss: 13.4873 - mae: 13.4873\n",
            "Epoch 48/100\n",
            "2/2 [==============================] - 0s 4ms/step - loss: 17.3167 - mae: 17.3167\n",
            "Epoch 49/100\n",
            "2/2 [==============================] - 0s 3ms/step - loss: 9.5276 - mae: 9.5276\n",
            "Epoch 50/100\n",
            "2/2 [==============================] - 0s 3ms/step - loss: 13.7295 - mae: 13.7295\n",
            "Epoch 51/100\n",
            "2/2 [==============================] - 0s 3ms/step - loss: 11.5675 - mae: 11.5675\n",
            "Epoch 52/100\n",
            "2/2 [==============================] - 0s 3ms/step - loss: 30.2943 - mae: 30.2943\n",
            "Epoch 53/100\n",
            "2/2 [==============================] - 0s 11ms/step - loss: 14.2447 - mae: 14.2447\n",
            "Epoch 54/100\n",
            "2/2 [==============================] - 0s 4ms/step - loss: 23.5500 - mae: 23.5500\n",
            "Epoch 55/100\n",
            "2/2 [==============================] - 0s 4ms/step - loss: 24.4649 - mae: 24.4649\n",
            "Epoch 56/100\n",
            "2/2 [==============================] - 0s 4ms/step - loss: 11.3018 - mae: 11.3018\n",
            "Epoch 57/100\n",
            "2/2 [==============================] - 0s 3ms/step - loss: 13.3061 - mae: 13.3061\n",
            "Epoch 58/100\n",
            "2/2 [==============================] - 0s 4ms/step - loss: 9.9183 - mae: 9.9183\n",
            "Epoch 59/100\n",
            "2/2 [==============================] - 0s 6ms/step - loss: 13.8451 - mae: 13.8451\n",
            "Epoch 60/100\n",
            "2/2 [==============================] - 0s 7ms/step - loss: 9.9614 - mae: 9.9614\n",
            "Epoch 61/100\n",
            "2/2 [==============================] - 0s 3ms/step - loss: 14.9014 - mae: 14.9014\n",
            "Epoch 62/100\n",
            "2/2 [==============================] - 0s 13ms/step - loss: 11.8818 - mae: 11.8818\n",
            "Epoch 63/100\n",
            "2/2 [==============================] - 0s 4ms/step - loss: 10.2632 - mae: 10.2632\n",
            "Epoch 64/100\n",
            "2/2 [==============================] - 0s 6ms/step - loss: 23.7677 - mae: 23.7677\n",
            "Epoch 65/100\n",
            "2/2 [==============================] - 0s 6ms/step - loss: 10.4386 - mae: 10.4386\n",
            "Epoch 66/100\n",
            "2/2 [==============================] - 0s 5ms/step - loss: 20.8278 - mae: 20.8278\n",
            "Epoch 67/100\n",
            "2/2 [==============================] - 0s 3ms/step - loss: 10.4098 - mae: 10.4098\n",
            "Epoch 68/100\n",
            "2/2 [==============================] - 0s 7ms/step - loss: 14.1025 - mae: 14.1025\n",
            "Epoch 69/100\n",
            "2/2 [==============================] - 0s 5ms/step - loss: 10.4740 - mae: 10.4740\n",
            "Epoch 70/100\n",
            "2/2 [==============================] - 0s 5ms/step - loss: 12.5404 - mae: 12.5404\n",
            "Epoch 71/100\n",
            "2/2 [==============================] - 0s 8ms/step - loss: 12.9709 - mae: 12.9709\n",
            "Epoch 72/100\n",
            "2/2 [==============================] - 0s 7ms/step - loss: 19.2599 - mae: 19.2599\n",
            "Epoch 73/100\n",
            "2/2 [==============================] - 0s 4ms/step - loss: 11.1034 - mae: 11.1034\n",
            "Epoch 74/100\n",
            "2/2 [==============================] - 0s 3ms/step - loss: 21.3362 - mae: 21.3362\n",
            "Epoch 75/100\n",
            "2/2 [==============================] - 0s 16ms/step - loss: 9.4277 - mae: 9.4277\n",
            "Epoch 76/100\n",
            "2/2 [==============================] - 0s 5ms/step - loss: 12.2452 - mae: 12.2452\n",
            "Epoch 77/100\n",
            "2/2 [==============================] - 0s 12ms/step - loss: 16.2411 - mae: 16.2411\n",
            "Epoch 78/100\n",
            "2/2 [==============================] - 0s 3ms/step - loss: 8.9964 - mae: 8.9964\n",
            "Epoch 79/100\n",
            "2/2 [==============================] - 0s 5ms/step - loss: 23.4720 - mae: 23.4720\n",
            "Epoch 80/100\n",
            "2/2 [==============================] - 0s 6ms/step - loss: 26.1485 - mae: 26.1485\n",
            "Epoch 81/100\n",
            "2/2 [==============================] - 0s 6ms/step - loss: 11.3870 - mae: 11.3870\n",
            "Epoch 82/100\n",
            "2/2 [==============================] - 0s 5ms/step - loss: 12.4734 - mae: 12.4734\n",
            "Epoch 83/100\n",
            "2/2 [==============================] - 0s 3ms/step - loss: 17.1500 - mae: 17.1500\n",
            "Epoch 84/100\n",
            "2/2 [==============================] - 0s 3ms/step - loss: 6.5644 - mae: 6.5644\n",
            "Epoch 85/100\n",
            "2/2 [==============================] - 0s 3ms/step - loss: 20.3528 - mae: 20.3528\n",
            "Epoch 86/100\n",
            "2/2 [==============================] - 0s 3ms/step - loss: 10.1580 - mae: 10.1580\n",
            "Epoch 87/100\n",
            "2/2 [==============================] - 0s 3ms/step - loss: 24.4145 - mae: 24.4145\n",
            "Epoch 88/100\n",
            "2/2 [==============================] - 0s 3ms/step - loss: 19.0779 - mae: 19.0779\n",
            "Epoch 89/100\n",
            "2/2 [==============================] - 0s 3ms/step - loss: 7.1447 - mae: 7.1447\n",
            "Epoch 90/100\n",
            "2/2 [==============================] - 0s 3ms/step - loss: 18.2203 - mae: 18.2203\n",
            "Epoch 91/100\n",
            "2/2 [==============================] - 0s 3ms/step - loss: 13.2679 - mae: 13.2679\n",
            "Epoch 92/100\n",
            "2/2 [==============================] - 0s 2ms/step - loss: 14.8042 - mae: 14.8042\n",
            "Epoch 93/100\n",
            "2/2 [==============================] - 0s 11ms/step - loss: 11.6049 - mae: 11.6049\n",
            "Epoch 94/100\n",
            "2/2 [==============================] - 0s 3ms/step - loss: 16.1605 - mae: 16.1605\n",
            "Epoch 95/100\n",
            "2/2 [==============================] - 0s 3ms/step - loss: 15.5012 - mae: 15.5012\n",
            "Epoch 96/100\n",
            "2/2 [==============================] - 0s 3ms/step - loss: 15.0280 - mae: 15.0280\n",
            "Epoch 97/100\n",
            "2/2 [==============================] - 0s 3ms/step - loss: 10.8588 - mae: 10.8588\n",
            "Epoch 98/100\n",
            "2/2 [==============================] - 0s 3ms/step - loss: 14.3161 - mae: 14.3161\n",
            "Epoch 99/100\n",
            "2/2 [==============================] - 0s 3ms/step - loss: 13.3460 - mae: 13.3460\n",
            "Epoch 100/100\n",
            "2/2 [==============================] - 0s 6ms/step - loss: 19.9343 - mae: 19.9343\n"
          ],
          "name": "stdout"
        },
        {
          "output_type": "execute_result",
          "data": {
            "text/plain": [
              "<tensorflow.python.keras.callbacks.History at 0x7fe6e2619d90>"
            ]
          },
          "metadata": {
            "tags": []
          },
          "execution_count": 43
        }
      ]
    },
    {
      "cell_type": "code",
      "metadata": {
        "colab": {
          "base_uri": "https://localhost:8080/",
          "height": 411
        },
        "id": "3qWY6eIABKqL",
        "outputId": "77da71c4-1bf2-4901-953a-0cd386ac8192"
      },
      "source": [
        "#prediction and plot\n",
        "y_pred_2 = model_2.predict(X_test)\n",
        "plot_predictions(predictions=y_pred_2)"
      ],
      "execution_count": null,
      "outputs": [
        {
          "output_type": "stream",
          "text": [
            "WARNING:tensorflow:6 out of the last 6 calls to <function Model.make_predict_function.<locals>.predict_function at 0x7fe6e259f440> triggered tf.function retracing. Tracing is expensive and the excessive number of tracings could be due to (1) creating @tf.function repeatedly in a loop, (2) passing tensors with different shapes, (3) passing Python objects instead of tensors. For (1), please define your @tf.function outside of the loop. For (2), @tf.function has experimental_relax_shapes=True option that relaxes argument shapes that can avoid unnecessary retracing. For (3), please refer to https://www.tensorflow.org/guide/function#controlling_retracing and https://www.tensorflow.org/api_docs/python/tf/function for  more details.\n"
          ],
          "name": "stdout"
        },
        {
          "output_type": "display_data",
          "data": {
            "image/png": "[encoded data removed]",
            "text/plain": [
              "<Figure size 648x432 with 1 Axes>"
            ]
          },
          "metadata": {
            "tags": [],
            "needs_background": "light"
          }
        }
      ]
    },
    {
      "cell_type": "code",
      "metadata": {
        "colab": {
          "base_uri": "https://localhost:8080/"
        },
        "id": "F2tVLtvUCDk-",
        "outputId": "7a330589-4133-4ecc-fb69-fac18afca715"
      },
      "source": [
        "#Calculate model 2 evaluations\n",
        "mae_2 = mae(y_test, tf.squeeze(y_pred_2))\n",
        "mse_2 = mse(y_test, tf.squeeze(y_pred_2))\n",
        "mae_2, mse_2"
      ],
      "execution_count": null,
      "outputs": [
        {
          "output_type": "execute_result",
          "data": {
            "text/plain": [
              "(<tf.Tensor: shape=(), dtype=float32, numpy=30.08717>,\n",
              " <tf.Tensor: shape=(), dtype=float32, numpy=936.91925>)"
            ]
          },
          "metadata": {
            "tags": []
          },
          "execution_count": 45
        }
      ]
    },
    {
      "cell_type": "markdown",
      "metadata": {
        "id": "7rcbOAUWDUhF"
      },
      "source": [
        "`model_3`\n",
        "\n",
        "- Train for 500 epochs\n"
      ]
    },
    {
      "cell_type": "code",
      "metadata": {
        "colab": {
          "base_uri": "https://localhost:8080/"
        },
        "id": "lTBcR5qtDfhY",
        "outputId": "435aaebd-3ee6-4023-dcbd-1db1675d99ae"
      },
      "source": [
        "model_3 = tf.keras.Sequential([\n",
        "                               tf.keras.layers.Dense(50, input_shape=[1]),\n",
        "                               tf.keras.layers.Dense(1)\n",
        "])\n",
        "\n",
        "model_3.compile(loss= tf.losses.mae,\n",
        "                optimizer = tf.optimizers.SGD(),\n",
        "                metrics=[\"mae\"])\n",
        "\n",
        "model_3.summary()"
      ],
      "execution_count": null,
      "outputs": [
        {
          "output_type": "stream",
          "text": [
            "Model: \"sequential_6\"\n",
            "_________________________________________________________________\n",
            "Layer (type)                 Output Shape              Param #   \n",
            "=================================================================\n",
            "dense_8 (Dense)              (None, 50)                100       \n",
            "_________________________________________________________________\n",
            "dense_9 (Dense)              (None, 1)                 51        \n",
            "=================================================================\n",
            "Total params: 151\n",
            "Trainable params: 151\n",
            "Non-trainable params: 0\n",
            "_________________________________________________________________\n"
          ],
          "name": "stdout"
        }
      ]
    },
    {
      "cell_type": "code",
      "metadata": {
        "colab": {
          "base_uri": "https://localhost:8080/"
        },
        "id": "U9QaHNakDkvp",
        "outputId": "721d7e37-8a7b-4ab3-e699-6bfb7bbdc7c9"
      },
      "source": [
        "model_3.fit(X_train, y_train, epochs=500)"
      ],
      "execution_count": null,
      "outputs": [
        {
          "output_type": "stream",
          "text": [
            "Epoch 1/500\n",
            "2/2 [==============================] - 0s 6ms/step - loss: 45.0499 - mae: 45.0499\n",
            "Epoch 2/500\n",
            "2/2 [==============================] - 0s 6ms/step - loss: 33.9455 - mae: 33.9455\n",
            "Epoch 3/500\n",
            "2/2 [==============================] - 0s 4ms/step - loss: 30.1634 - mae: 30.1634\n",
            "Epoch 4/500\n",
            "2/2 [==============================] - 0s 4ms/step - loss: 16.2336 - mae: 16.2336\n",
            "Epoch 5/500\n",
            "2/2 [==============================] - 0s 4ms/step - loss: 22.1648 - mae: 22.1648\n",
            "Epoch 6/500\n",
            "2/2 [==============================] - 0s 3ms/step - loss: 11.5499 - mae: 11.5499\n",
            "Epoch 7/500\n",
            "2/2 [==============================] - 0s 14ms/step - loss: 12.6435 - mae: 12.6435\n",
            "Epoch 8/500\n",
            "2/2 [==============================] - 0s 4ms/step - loss: 11.0990 - mae: 11.0990\n",
            "Epoch 9/500\n",
            "2/2 [==============================] - 0s 3ms/step - loss: 40.0500 - mae: 40.0500\n",
            "Epoch 10/500\n",
            "2/2 [==============================] - 0s 7ms/step - loss: 27.4977 - mae: 27.4977\n",
            "Epoch 11/500\n",
            "2/2 [==============================] - 0s 5ms/step - loss: 10.2603 - mae: 10.2603\n",
            "Epoch 12/500\n",
            "2/2 [==============================] - 0s 5ms/step - loss: 25.4826 - mae: 25.4826\n",
            "Epoch 13/500\n",
            "2/2 [==============================] - 0s 3ms/step - loss: 16.8334 - mae: 16.8334\n",
            "Epoch 14/500\n",
            "2/2 [==============================] - 0s 6ms/step - loss: 25.6332 - mae: 25.6332\n",
            "Epoch 15/500\n",
            "2/2 [==============================] - 0s 3ms/step - loss: 17.5154 - mae: 17.5154\n",
            "Epoch 16/500\n",
            "2/2 [==============================] - 0s 6ms/step - loss: 10.0315 - mae: 10.0315\n",
            "Epoch 17/500\n",
            "2/2 [==============================] - 0s 6ms/step - loss: 18.5367 - mae: 18.5367\n",
            "Epoch 18/500\n",
            "2/2 [==============================] - 0s 6ms/step - loss: 11.3641 - mae: 11.3641\n",
            "Epoch 19/500\n",
            "2/2 [==============================] - 0s 5ms/step - loss: 13.9536 - mae: 13.9536\n",
            "Epoch 20/500\n",
            "2/2 [==============================] - 0s 4ms/step - loss: 11.2062 - mae: 11.2062\n",
            "Epoch 21/500\n",
            "2/2 [==============================] - 0s 6ms/step - loss: 17.2738 - mae: 17.2738\n",
            "Epoch 22/500\n",
            "2/2 [==============================] - 0s 6ms/step - loss: 15.5108 - mae: 15.5108\n",
            "Epoch 23/500\n",
            "2/2 [==============================] - 0s 8ms/step - loss: 9.2395 - mae: 9.2395\n",
            "Epoch 24/500\n",
            "2/2 [==============================] - 0s 6ms/step - loss: 17.2667 - mae: 17.2667\n",
            "Epoch 25/500\n",
            "2/2 [==============================] - 0s 6ms/step - loss: 15.9399 - mae: 15.9399\n",
            "Epoch 26/500\n",
            "2/2 [==============================] - 0s 7ms/step - loss: 20.9337 - mae: 20.9337\n",
            "Epoch 27/500\n",
            "2/2 [==============================] - 0s 5ms/step - loss: 25.9568 - mae: 25.9568\n",
            "Epoch 28/500\n",
            "2/2 [==============================] - 0s 6ms/step - loss: 18.4555 - mae: 18.4555\n",
            "Epoch 29/500\n",
            "2/2 [==============================] - 0s 4ms/step - loss: 9.2422 - mae: 9.2422\n",
            "Epoch 30/500\n",
            "2/2 [==============================] - 0s 5ms/step - loss: 29.0707 - mae: 29.0707\n",
            "Epoch 31/500\n",
            "2/2 [==============================] - 0s 7ms/step - loss: 52.6508 - mae: 52.6508\n",
            "Epoch 32/500\n",
            "2/2 [==============================] - 0s 5ms/step - loss: 11.9202 - mae: 11.9202\n",
            "Epoch 33/500\n",
            "2/2 [==============================] - 0s 7ms/step - loss: 15.5091 - mae: 15.5091\n",
            "Epoch 34/500\n",
            "2/2 [==============================] - 0s 5ms/step - loss: 12.6048 - mae: 12.6048\n",
            "Epoch 35/500\n",
            "2/2 [==============================] - 0s 4ms/step - loss: 9.2004 - mae: 9.2004\n",
            "Epoch 36/500\n",
            "2/2 [==============================] - 0s 5ms/step - loss: 16.4928 - mae: 16.4928\n",
            "Epoch 37/500\n",
            "2/2 [==============================] - 0s 3ms/step - loss: 11.0808 - mae: 11.0808\n",
            "Epoch 38/500\n",
            "2/2 [==============================] - 0s 5ms/step - loss: 18.2099 - mae: 18.2099\n",
            "Epoch 39/500\n",
            "2/2 [==============================] - 0s 4ms/step - loss: 19.1425 - mae: 19.1425\n",
            "Epoch 40/500\n",
            "2/2 [==============================] - 0s 6ms/step - loss: 20.5072 - mae: 20.5072\n",
            "Epoch 41/500\n",
            "2/2 [==============================] - 0s 6ms/step - loss: 14.8156 - mae: 14.8156\n",
            "Epoch 42/500\n",
            "2/2 [==============================] - 0s 8ms/step - loss: 12.2095 - mae: 12.2095\n",
            "Epoch 43/500\n",
            "2/2 [==============================] - 0s 6ms/step - loss: 10.6975 - mae: 10.6975\n",
            "Epoch 44/500\n",
            "2/2 [==============================] - 0s 3ms/step - loss: 32.2970 - mae: 32.2970\n",
            "Epoch 45/500\n",
            "2/2 [==============================] - 0s 7ms/step - loss: 12.4760 - mae: 12.4760\n",
            "Epoch 46/500\n",
            "2/2 [==============================] - 0s 8ms/step - loss: 17.5390 - mae: 17.5390\n",
            "Epoch 47/500\n",
            "2/2 [==============================] - 0s 4ms/step - loss: 15.7474 - mae: 15.7474\n",
            "Epoch 48/500\n",
            "2/2 [==============================] - 0s 4ms/step - loss: 8.3702 - mae: 8.3702\n",
            "Epoch 49/500\n",
            "2/2 [==============================] - 0s 13ms/step - loss: 13.9784 - mae: 13.9784\n",
            "Epoch 50/500\n",
            "2/2 [==============================] - 0s 7ms/step - loss: 12.8207 - mae: 12.8207\n",
            "Epoch 51/500\n",
            "2/2 [==============================] - 0s 13ms/step - loss: 14.8326 - mae: 14.8326\n",
            "Epoch 52/500\n",
            "2/2 [==============================] - 0s 7ms/step - loss: 18.7192 - mae: 18.7192\n",
            "Epoch 53/500\n",
            "2/2 [==============================] - 0s 5ms/step - loss: 24.1633 - mae: 24.1633\n",
            "Epoch 54/500\n",
            "2/2 [==============================] - 0s 6ms/step - loss: 23.1915 - mae: 23.1915\n",
            "Epoch 55/500\n",
            "2/2 [==============================] - 0s 3ms/step - loss: 24.0454 - mae: 24.0454\n",
            "Epoch 56/500\n",
            "2/2 [==============================] - 0s 3ms/step - loss: 11.1646 - mae: 11.1646\n",
            "Epoch 57/500\n",
            "2/2 [==============================] - 0s 3ms/step - loss: 13.1207 - mae: 13.1207\n",
            "Epoch 58/500\n",
            "2/2 [==============================] - 0s 3ms/step - loss: 9.8131 - mae: 9.8131\n",
            "Epoch 59/500\n",
            "2/2 [==============================] - 0s 4ms/step - loss: 13.3078 - mae: 13.3078\n",
            "Epoch 60/500\n",
            "2/2 [==============================] - 0s 13ms/step - loss: 10.8718 - mae: 10.8718\n",
            "Epoch 61/500\n",
            "2/2 [==============================] - 0s 3ms/step - loss: 13.4736 - mae: 13.4736\n",
            "Epoch 62/500\n",
            "2/2 [==============================] - 0s 3ms/step - loss: 17.5022 - mae: 17.5022\n",
            "Epoch 63/500\n",
            "2/2 [==============================] - 0s 5ms/step - loss: 9.1601 - mae: 9.1601\n",
            "Epoch 64/500\n",
            "2/2 [==============================] - 0s 3ms/step - loss: 18.3734 - mae: 18.3734\n",
            "Epoch 65/500\n",
            "2/2 [==============================] - 0s 3ms/step - loss: 10.1154 - mae: 10.1154\n",
            "Epoch 66/500\n",
            "2/2 [==============================] - 0s 5ms/step - loss: 24.2348 - mae: 24.2348\n",
            "Epoch 67/500\n",
            "2/2 [==============================] - 0s 4ms/step - loss: 10.8828 - mae: 10.8828\n",
            "Epoch 68/500\n",
            "2/2 [==============================] - 0s 4ms/step - loss: 10.7663 - mae: 10.7663\n",
            "Epoch 69/500\n",
            "2/2 [==============================] - 0s 4ms/step - loss: 23.2184 - mae: 23.2184\n",
            "Epoch 70/500\n",
            "2/2 [==============================] - 0s 14ms/step - loss: 8.8205 - mae: 8.8205\n",
            "Epoch 71/500\n",
            "2/2 [==============================] - 0s 3ms/step - loss: 15.9912 - mae: 15.9912\n",
            "Epoch 72/500\n",
            "2/2 [==============================] - 0s 7ms/step - loss: 8.1483 - mae: 8.1483\n",
            "Epoch 73/500\n",
            "2/2 [==============================] - 0s 8ms/step - loss: 9.4668 - mae: 9.4668\n",
            "Epoch 74/500\n",
            "2/2 [==============================] - 0s 3ms/step - loss: 28.1659 - mae: 28.1659\n",
            "Epoch 75/500\n",
            "2/2 [==============================] - 0s 6ms/step - loss: 10.1876 - mae: 10.1876\n",
            "Epoch 76/500\n",
            "2/2 [==============================] - 0s 3ms/step - loss: 13.1356 - mae: 13.1356\n",
            "Epoch 77/500\n",
            "2/2 [==============================] - 0s 5ms/step - loss: 18.3599 - mae: 18.3599\n",
            "Epoch 78/500\n",
            "2/2 [==============================] - 0s 5ms/step - loss: 9.0118 - mae: 9.0118\n",
            "Epoch 79/500\n",
            "2/2 [==============================] - 0s 5ms/step - loss: 23.4065 - mae: 23.4065\n",
            "Epoch 80/500\n",
            "2/2 [==============================] - 0s 6ms/step - loss: 26.0704 - mae: 26.0704\n",
            "Epoch 81/500\n",
            "2/2 [==============================] - 0s 4ms/step - loss: 11.3697 - mae: 11.3697\n",
            "Epoch 82/500\n",
            "2/2 [==============================] - 0s 7ms/step - loss: 12.5066 - mae: 12.5066\n",
            "Epoch 83/500\n",
            "2/2 [==============================] - 0s 10ms/step - loss: 17.1984 - mae: 17.1984\n",
            "Epoch 84/500\n",
            "2/2 [==============================] - 0s 5ms/step - loss: 6.5988 - mae: 6.5988\n",
            "Epoch 85/500\n",
            "2/2 [==============================] - 0s 4ms/step - loss: 20.2591 - mae: 20.2591\n",
            "Epoch 86/500\n",
            "2/2 [==============================] - 0s 5ms/step - loss: 10.1606 - mae: 10.1606\n",
            "Epoch 87/500\n",
            "2/2 [==============================] - 0s 5ms/step - loss: 24.2990 - mae: 24.2990\n",
            "Epoch 88/500\n",
            "2/2 [==============================] - 0s 4ms/step - loss: 18.9651 - mae: 18.9651\n",
            "Epoch 89/500\n",
            "2/2 [==============================] - 0s 3ms/step - loss: 7.1629 - mae: 7.1629\n",
            "Epoch 90/500\n",
            "2/2 [==============================] - 0s 4ms/step - loss: 18.2703 - mae: 18.2703\n",
            "Epoch 91/500\n",
            "2/2 [==============================] - 0s 5ms/step - loss: 13.3221 - mae: 13.3221\n",
            "Epoch 92/500\n",
            "2/2 [==============================] - 0s 6ms/step - loss: 8.7257 - mae: 8.7257\n",
            "Epoch 93/500\n",
            "2/2 [==============================] - 0s 5ms/step - loss: 14.1813 - mae: 14.1813\n",
            "Epoch 94/500\n",
            "2/2 [==============================] - 0s 10ms/step - loss: 17.1819 - mae: 17.1819\n",
            "Epoch 95/500\n",
            "2/2 [==============================] - 0s 8ms/step - loss: 16.7590 - mae: 16.7590\n",
            "Epoch 96/500\n",
            "2/2 [==============================] - 0s 6ms/step - loss: 11.1247 - mae: 11.1247\n",
            "Epoch 97/500\n",
            "2/2 [==============================] - 0s 8ms/step - loss: 21.1770 - mae: 21.1770\n",
            "Epoch 98/500\n",
            "2/2 [==============================] - 0s 7ms/step - loss: 10.4910 - mae: 10.4910\n",
            "Epoch 99/500\n",
            "2/2 [==============================] - 0s 5ms/step - loss: 14.5877 - mae: 14.5877\n",
            "Epoch 100/500\n",
            "2/2 [==============================] - 0s 5ms/step - loss: 17.7596 - mae: 17.7596\n",
            "Epoch 101/500\n",
            "2/2 [==============================] - 0s 6ms/step - loss: 11.2684 - mae: 11.2684\n",
            "Epoch 102/500\n",
            "2/2 [==============================] - 0s 5ms/step - loss: 17.0238 - mae: 17.0238\n",
            "Epoch 103/500\n",
            "2/2 [==============================] - 0s 4ms/step - loss: 7.7558 - mae: 7.7558\n",
            "Epoch 104/500\n",
            "2/2 [==============================] - 0s 11ms/step - loss: 22.3181 - mae: 22.3181\n",
            "Epoch 105/500\n",
            "2/2 [==============================] - 0s 12ms/step - loss: 20.1871 - mae: 20.1871\n",
            "Epoch 106/500\n",
            "2/2 [==============================] - 0s 4ms/step - loss: 10.0913 - mae: 10.0913\n",
            "Epoch 107/500\n",
            "2/2 [==============================] - 0s 7ms/step - loss: 24.8212 - mae: 24.8212\n",
            "Epoch 108/500\n",
            "2/2 [==============================] - 0s 6ms/step - loss: 14.8322 - mae: 14.8322\n",
            "Epoch 109/500\n",
            "2/2 [==============================] - 0s 6ms/step - loss: 8.9850 - mae: 8.9850\n",
            "Epoch 110/500\n",
            "2/2 [==============================] - 0s 10ms/step - loss: 9.2383 - mae: 9.2383\n",
            "Epoch 111/500\n",
            "2/2 [==============================] - 0s 9ms/step - loss: 12.8569 - mae: 12.8569\n",
            "Epoch 112/500\n",
            "2/2 [==============================] - 0s 5ms/step - loss: 15.7040 - mae: 15.7040\n",
            "Epoch 113/500\n",
            "2/2 [==============================] - 0s 5ms/step - loss: 11.2123 - mae: 11.2123\n",
            "Epoch 114/500\n",
            "2/2 [==============================] - 0s 5ms/step - loss: 24.9518 - mae: 24.9518\n",
            "Epoch 115/500\n",
            "2/2 [==============================] - 0s 4ms/step - loss: 13.5280 - mae: 13.5280\n",
            "Epoch 116/500\n",
            "2/2 [==============================] - 0s 7ms/step - loss: 14.4211 - mae: 14.4211\n",
            "Epoch 117/500\n",
            "2/2 [==============================] - 0s 5ms/step - loss: 9.9804 - mae: 9.9804\n",
            "Epoch 118/500\n",
            "2/2 [==============================] - 0s 6ms/step - loss: 11.1022 - mae: 11.1022\n",
            "Epoch 119/500\n",
            "2/2 [==============================] - 0s 3ms/step - loss: 8.1314 - mae: 8.1314\n",
            "Epoch 120/500\n",
            "2/2 [==============================] - 0s 8ms/step - loss: 30.8867 - mae: 30.8867\n",
            "Epoch 121/500\n",
            "2/2 [==============================] - 0s 6ms/step - loss: 8.1525 - mae: 8.1525\n",
            "Epoch 122/500\n",
            "2/2 [==============================] - 0s 12ms/step - loss: 29.2703 - mae: 29.2703\n",
            "Epoch 123/500\n",
            "2/2 [==============================] - 0s 9ms/step - loss: 34.0861 - mae: 34.0861\n",
            "Epoch 124/500\n",
            "2/2 [==============================] - 0s 8ms/step - loss: 20.5314 - mae: 20.5314\n",
            "Epoch 125/500\n",
            "2/2 [==============================] - 0s 6ms/step - loss: 9.1222 - mae: 9.1222\n",
            "Epoch 126/500\n",
            "2/2 [==============================] - 0s 6ms/step - loss: 9.2689 - mae: 9.2689\n",
            "Epoch 127/500\n",
            "2/2 [==============================] - 0s 5ms/step - loss: 11.3495 - mae: 11.3495\n",
            "Epoch 128/500\n",
            "2/2 [==============================] - 0s 4ms/step - loss: 17.1611 - mae: 17.1611\n",
            "Epoch 129/500\n",
            "2/2 [==============================] - 0s 8ms/step - loss: 9.0022 - mae: 9.0022\n",
            "Epoch 130/500\n",
            "2/2 [==============================] - 0s 7ms/step - loss: 23.8808 - mae: 23.8808\n",
            "Epoch 131/500\n",
            "2/2 [==============================] - 0s 10ms/step - loss: 9.7326 - mae: 9.7326\n",
            "Epoch 132/500\n",
            "2/2 [==============================] - 0s 6ms/step - loss: 18.1534 - mae: 18.1534\n",
            "Epoch 133/500\n",
            "2/2 [==============================] - 0s 5ms/step - loss: 7.5765 - mae: 7.5765\n",
            "Epoch 134/500\n",
            "2/2 [==============================] - 0s 8ms/step - loss: 18.4251 - mae: 18.4251\n",
            "Epoch 135/500\n",
            "2/2 [==============================] - 0s 8ms/step - loss: 10.5011 - mae: 10.5011\n",
            "Epoch 136/500\n",
            "2/2 [==============================] - 0s 8ms/step - loss: 18.1366 - mae: 18.1366\n",
            "Epoch 137/500\n",
            "2/2 [==============================] - 0s 5ms/step - loss: 22.9725 - mae: 22.9725\n",
            "Epoch 138/500\n",
            "2/2 [==============================] - 0s 5ms/step - loss: 9.0746 - mae: 9.0746\n",
            "Epoch 139/500\n",
            "2/2 [==============================] - 0s 5ms/step - loss: 8.8838 - mae: 8.8838\n",
            "Epoch 140/500\n",
            "2/2 [==============================] - 0s 9ms/step - loss: 16.3204 - mae: 16.3204\n",
            "Epoch 141/500\n",
            "2/2 [==============================] - 0s 4ms/step - loss: 8.4294 - mae: 8.4294\n",
            "Epoch 142/500\n",
            "2/2 [==============================] - 0s 3ms/step - loss: 36.6292 - mae: 36.6292\n",
            "Epoch 143/500\n",
            "2/2 [==============================] - 0s 3ms/step - loss: 25.3285 - mae: 25.3285\n",
            "Epoch 144/500\n",
            "2/2 [==============================] - 0s 5ms/step - loss: 10.4549 - mae: 10.4549\n",
            "Epoch 145/500\n",
            "2/2 [==============================] - 0s 5ms/step - loss: 25.7790 - mae: 25.7790\n",
            "Epoch 146/500\n",
            "2/2 [==============================] - 0s 4ms/step - loss: 10.0136 - mae: 10.0136\n",
            "Epoch 147/500\n",
            "2/2 [==============================] - 0s 3ms/step - loss: 14.6693 - mae: 14.6693\n",
            "Epoch 148/500\n",
            "2/2 [==============================] - 0s 3ms/step - loss: 17.7638 - mae: 17.7638\n",
            "Epoch 149/500\n",
            "2/2 [==============================] - 0s 5ms/step - loss: 8.5007 - mae: 8.5007\n",
            "Epoch 150/500\n",
            "2/2 [==============================] - 0s 3ms/step - loss: 7.6277 - mae: 7.6277\n",
            "Epoch 151/500\n",
            "2/2 [==============================] - 0s 3ms/step - loss: 19.2137 - mae: 19.2137\n",
            "Epoch 152/500\n",
            "2/2 [==============================] - 0s 6ms/step - loss: 10.0721 - mae: 10.0721\n",
            "Epoch 153/500\n",
            "2/2 [==============================] - 0s 3ms/step - loss: 28.3164 - mae: 28.3164\n",
            "Epoch 154/500\n",
            "2/2 [==============================] - 0s 10ms/step - loss: 11.2408 - mae: 11.2408\n",
            "Epoch 155/500\n",
            "2/2 [==============================] - 0s 3ms/step - loss: 15.3403 - mae: 15.3403\n",
            "Epoch 156/500\n",
            "2/2 [==============================] - 0s 3ms/step - loss: 16.7619 - mae: 16.7619\n",
            "Epoch 157/500\n",
            "2/2 [==============================] - 0s 3ms/step - loss: 19.0434 - mae: 19.0434\n",
            "Epoch 158/500\n",
            "2/2 [==============================] - 0s 3ms/step - loss: 8.1767 - mae: 8.1767\n",
            "Epoch 159/500\n",
            "2/2 [==============================] - 0s 4ms/step - loss: 8.0014 - mae: 8.0014\n",
            "Epoch 160/500\n",
            "2/2 [==============================] - 0s 4ms/step - loss: 21.0709 - mae: 21.0709\n",
            "Epoch 161/500\n",
            "2/2 [==============================] - 0s 6ms/step - loss: 23.5418 - mae: 23.5418\n",
            "Epoch 162/500\n",
            "2/2 [==============================] - 0s 4ms/step - loss: 18.5036 - mae: 18.5036\n",
            "Epoch 163/500\n",
            "2/2 [==============================] - 0s 7ms/step - loss: 17.4617 - mae: 17.4617\n",
            "Epoch 164/500\n",
            "2/2 [==============================] - 0s 3ms/step - loss: 10.9412 - mae: 10.9412\n",
            "Epoch 165/500\n",
            "2/2 [==============================] - 0s 11ms/step - loss: 9.6539 - mae: 9.6539\n",
            "Epoch 166/500\n",
            "2/2 [==============================] - 0s 5ms/step - loss: 21.6760 - mae: 21.6760\n",
            "Epoch 167/500\n",
            "2/2 [==============================] - 0s 7ms/step - loss: 26.0757 - mae: 26.0757\n",
            "Epoch 168/500\n",
            "2/2 [==============================] - 0s 4ms/step - loss: 9.8315 - mae: 9.8315\n",
            "Epoch 169/500\n",
            "2/2 [==============================] - 0s 6ms/step - loss: 22.3393 - mae: 22.3393\n",
            "Epoch 170/500\n",
            "2/2 [==============================] - 0s 3ms/step - loss: 10.1960 - mae: 10.1960\n",
            "Epoch 171/500\n",
            "2/2 [==============================] - 0s 12ms/step - loss: 18.1482 - mae: 18.1482\n",
            "Epoch 172/500\n",
            "2/2 [==============================] - 0s 5ms/step - loss: 28.5947 - mae: 28.5947\n",
            "Epoch 173/500\n",
            "2/2 [==============================] - 0s 5ms/step - loss: 16.3419 - mae: 16.3419\n",
            "Epoch 174/500\n",
            "2/2 [==============================] - 0s 5ms/step - loss: 11.7487 - mae: 11.7487\n",
            "Epoch 175/500\n",
            "2/2 [==============================] - 0s 8ms/step - loss: 27.2020 - mae: 27.2020\n",
            "Epoch 176/500\n",
            "2/2 [==============================] - 0s 3ms/step - loss: 8.7283 - mae: 8.7283\n",
            "Epoch 177/500\n",
            "2/2 [==============================] - 0s 9ms/step - loss: 8.7556 - mae: 8.7556\n",
            "Epoch 178/500\n",
            "2/2 [==============================] - 0s 5ms/step - loss: 16.1151 - mae: 16.1151\n",
            "Epoch 179/500\n",
            "2/2 [==============================] - 0s 3ms/step - loss: 10.4471 - mae: 10.4471\n",
            "Epoch 180/500\n",
            "2/2 [==============================] - 0s 3ms/step - loss: 7.9804 - mae: 7.9804\n",
            "Epoch 181/500\n",
            "2/2 [==============================] - 0s 6ms/step - loss: 17.6896 - mae: 17.6896\n",
            "Epoch 182/500\n",
            "2/2 [==============================] - 0s 7ms/step - loss: 11.1597 - mae: 11.1597\n",
            "Epoch 183/500\n",
            "2/2 [==============================] - 0s 3ms/step - loss: 12.3535 - mae: 12.3535\n",
            "Epoch 184/500\n",
            "2/2 [==============================] - 0s 3ms/step - loss: 27.2510 - mae: 27.2510\n",
            "Epoch 185/500\n",
            "2/2 [==============================] - 0s 5ms/step - loss: 7.5751 - mae: 7.5751\n",
            "Epoch 186/500\n",
            "2/2 [==============================] - 0s 12ms/step - loss: 15.9895 - mae: 15.9895\n",
            "Epoch 187/500\n",
            "2/2 [==============================] - 0s 6ms/step - loss: 8.5832 - mae: 8.5832\n",
            "Epoch 188/500\n",
            "2/2 [==============================] - 0s 5ms/step - loss: 28.7369 - mae: 28.7369\n",
            "Epoch 189/500\n",
            "2/2 [==============================] - 0s 8ms/step - loss: 13.1768 - mae: 13.1768\n",
            "Epoch 190/500\n",
            "2/2 [==============================] - 0s 3ms/step - loss: 18.3201 - mae: 18.3201\n",
            "Epoch 191/500\n",
            "2/2 [==============================] - 0s 5ms/step - loss: 13.7505 - mae: 13.7505\n",
            "Epoch 192/500\n",
            "2/2 [==============================] - 0s 5ms/step - loss: 13.7239 - mae: 13.7239\n",
            "Epoch 193/500\n",
            "2/2 [==============================] - 0s 7ms/step - loss: 28.5937 - mae: 28.5937\n",
            "Epoch 194/500\n",
            "2/2 [==============================] - 0s 3ms/step - loss: 7.0790 - mae: 7.0790\n",
            "Epoch 195/500\n",
            "2/2 [==============================] - 0s 3ms/step - loss: 7.0744 - mae: 7.0744\n",
            "Epoch 196/500\n",
            "2/2 [==============================] - 0s 4ms/step - loss: 22.0339 - mae: 22.0339\n",
            "Epoch 197/500\n",
            "2/2 [==============================] - 0s 7ms/step - loss: 20.7915 - mae: 20.7915\n",
            "Epoch 198/500\n",
            "2/2 [==============================] - 0s 3ms/step - loss: 12.4468 - mae: 12.4468\n",
            "Epoch 199/500\n",
            "2/2 [==============================] - 0s 5ms/step - loss: 17.8622 - mae: 17.8622\n",
            "Epoch 200/500\n",
            "2/2 [==============================] - 0s 6ms/step - loss: 13.7059 - mae: 13.7059\n",
            "Epoch 201/500\n",
            "2/2 [==============================] - 0s 3ms/step - loss: 5.4939 - mae: 5.4939\n",
            "Epoch 202/500\n",
            "2/2 [==============================] - 0s 3ms/step - loss: 13.6555 - mae: 13.6555\n",
            "Epoch 203/500\n",
            "2/2 [==============================] - 0s 4ms/step - loss: 9.4164 - mae: 9.4164\n",
            "Epoch 204/500\n",
            "2/2 [==============================] - 0s 5ms/step - loss: 20.8827 - mae: 20.8827\n",
            "Epoch 205/500\n",
            "2/2 [==============================] - 0s 3ms/step - loss: 9.5334 - mae: 9.5334\n",
            "Epoch 206/500\n",
            "2/2 [==============================] - 0s 5ms/step - loss: 11.6912 - mae: 11.6912\n",
            "Epoch 207/500\n",
            "2/2 [==============================] - 0s 4ms/step - loss: 14.2998 - mae: 14.2998\n",
            "Epoch 208/500\n",
            "2/2 [==============================] - 0s 4ms/step - loss: 14.4325 - mae: 14.4325\n",
            "Epoch 209/500\n",
            "2/2 [==============================] - 0s 7ms/step - loss: 16.7805 - mae: 16.7805\n",
            "Epoch 210/500\n",
            "2/2 [==============================] - 0s 3ms/step - loss: 18.3093 - mae: 18.3093\n",
            "Epoch 211/500\n",
            "2/2 [==============================] - 0s 6ms/step - loss: 9.9751 - mae: 9.9751\n",
            "Epoch 212/500\n",
            "2/2 [==============================] - 0s 3ms/step - loss: 18.8070 - mae: 18.8070\n",
            "Epoch 213/500\n",
            "2/2 [==============================] - 0s 11ms/step - loss: 14.9181 - mae: 14.9181\n",
            "Epoch 214/500\n",
            "2/2 [==============================] - 0s 3ms/step - loss: 14.5119 - mae: 14.5119\n",
            "Epoch 215/500\n",
            "2/2 [==============================] - 0s 8ms/step - loss: 23.1434 - mae: 23.1434\n",
            "Epoch 216/500\n",
            "2/2 [==============================] - 0s 3ms/step - loss: 13.6407 - mae: 13.6407\n",
            "Epoch 217/500\n",
            "2/2 [==============================] - 0s 3ms/step - loss: 10.0887 - mae: 10.0887\n",
            "Epoch 218/500\n",
            "2/2 [==============================] - 0s 3ms/step - loss: 12.3830 - mae: 12.3830\n",
            "Epoch 219/500\n",
            "2/2 [==============================] - 0s 5ms/step - loss: 6.4543 - mae: 6.4543\n",
            "Epoch 220/500\n",
            "2/2 [==============================] - 0s 6ms/step - loss: 7.1137 - mae: 7.1137\n",
            "Epoch 221/500\n",
            "2/2 [==============================] - 0s 3ms/step - loss: 37.1406 - mae: 37.1406\n",
            "Epoch 222/500\n",
            "2/2 [==============================] - 0s 7ms/step - loss: 36.8920 - mae: 36.8920\n",
            "Epoch 223/500\n",
            "2/2 [==============================] - 0s 3ms/step - loss: 6.6924 - mae: 6.6924\n",
            "Epoch 224/500\n",
            "2/2 [==============================] - 0s 4ms/step - loss: 13.8690 - mae: 13.8690\n",
            "Epoch 225/500\n",
            "2/2 [==============================] - 0s 6ms/step - loss: 16.0420 - mae: 16.0420\n",
            "Epoch 226/500\n",
            "2/2 [==============================] - 0s 3ms/step - loss: 15.2458 - mae: 15.2458\n",
            "Epoch 227/500\n",
            "2/2 [==============================] - 0s 4ms/step - loss: 15.5862 - mae: 15.5862\n",
            "Epoch 228/500\n",
            "2/2 [==============================] - 0s 3ms/step - loss: 13.6481 - mae: 13.6481\n",
            "Epoch 229/500\n",
            "2/2 [==============================] - 0s 4ms/step - loss: 17.7237 - mae: 17.7237\n",
            "Epoch 230/500\n",
            "2/2 [==============================] - 0s 3ms/step - loss: 15.1866 - mae: 15.1866\n",
            "Epoch 231/500\n",
            "2/2 [==============================] - 0s 6ms/step - loss: 21.0556 - mae: 21.0556\n",
            "Epoch 232/500\n",
            "2/2 [==============================] - 0s 18ms/step - loss: 25.6230 - mae: 25.6230\n",
            "Epoch 233/500\n",
            "2/2 [==============================] - 0s 8ms/step - loss: 16.5912 - mae: 16.5912\n",
            "Epoch 234/500\n",
            "2/2 [==============================] - 0s 3ms/step - loss: 7.3551 - mae: 7.3551\n",
            "Epoch 235/500\n",
            "2/2 [==============================] - 0s 3ms/step - loss: 17.2374 - mae: 17.2374\n",
            "Epoch 236/500\n",
            "2/2 [==============================] - 0s 3ms/step - loss: 7.2294 - mae: 7.2294\n",
            "Epoch 237/500\n",
            "2/2 [==============================] - 0s 7ms/step - loss: 9.3458 - mae: 9.3458\n",
            "Epoch 238/500\n",
            "2/2 [==============================] - 0s 7ms/step - loss: 8.1793 - mae: 8.1793\n",
            "Epoch 239/500\n",
            "2/2 [==============================] - 0s 7ms/step - loss: 17.2975 - mae: 17.2975\n",
            "Epoch 240/500\n",
            "2/2 [==============================] - 0s 3ms/step - loss: 8.9736 - mae: 8.9736\n",
            "Epoch 241/500\n",
            "2/2 [==============================] - 0s 4ms/step - loss: 13.3508 - mae: 13.3508\n",
            "Epoch 242/500\n",
            "2/2 [==============================] - 0s 5ms/step - loss: 8.8728 - mae: 8.8728\n",
            "Epoch 243/500\n",
            "2/2 [==============================] - 0s 3ms/step - loss: 19.1705 - mae: 19.1705\n",
            "Epoch 244/500\n",
            "2/2 [==============================] - 0s 10ms/step - loss: 13.9286 - mae: 13.9286\n",
            "Epoch 245/500\n",
            "2/2 [==============================] - 0s 6ms/step - loss: 14.5728 - mae: 14.5728\n",
            "Epoch 246/500\n",
            "2/2 [==============================] - 0s 8ms/step - loss: 15.7103 - mae: 15.7103\n",
            "Epoch 247/500\n",
            "2/2 [==============================] - 0s 16ms/step - loss: 17.5566 - mae: 17.5566\n",
            "Epoch 248/500\n",
            "2/2 [==============================] - 0s 7ms/step - loss: 13.1215 - mae: 13.1215\n",
            "Epoch 249/500\n",
            "2/2 [==============================] - 0s 27ms/step - loss: 14.4434 - mae: 14.4434\n",
            "Epoch 250/500\n",
            "2/2 [==============================] - 0s 14ms/step - loss: 27.8572 - mae: 27.8572\n",
            "Epoch 251/500\n",
            "2/2 [==============================] - 0s 11ms/step - loss: 7.5103 - mae: 7.5103\n",
            "Epoch 252/500\n",
            "2/2 [==============================] - 0s 5ms/step - loss: 38.0232 - mae: 38.0232\n",
            "Epoch 253/500\n",
            "2/2 [==============================] - 0s 10ms/step - loss: 22.8608 - mae: 22.8608\n",
            "Epoch 254/500\n",
            "2/2 [==============================] - 0s 5ms/step - loss: 7.4389 - mae: 7.4389\n",
            "Epoch 255/500\n",
            "2/2 [==============================] - 0s 9ms/step - loss: 25.7450 - mae: 25.7450\n",
            "Epoch 256/500\n",
            "2/2 [==============================] - 0s 5ms/step - loss: 13.6903 - mae: 13.6903\n",
            "Epoch 257/500\n",
            "2/2 [==============================] - 0s 5ms/step - loss: 8.3301 - mae: 8.3301\n",
            "Epoch 258/500\n",
            "2/2 [==============================] - 0s 5ms/step - loss: 13.1862 - mae: 13.1862\n",
            "Epoch 259/500\n",
            "2/2 [==============================] - 0s 8ms/step - loss: 9.5206 - mae: 9.5206\n",
            "Epoch 260/500\n",
            "2/2 [==============================] - 0s 7ms/step - loss: 38.4090 - mae: 38.4090\n",
            "Epoch 261/500\n",
            "2/2 [==============================] - 0s 14ms/step - loss: 15.4987 - mae: 15.4987\n",
            "Epoch 262/500\n",
            "2/2 [==============================] - 0s 12ms/step - loss: 5.7833 - mae: 5.7833\n",
            "Epoch 263/500\n",
            "2/2 [==============================] - 0s 5ms/step - loss: 14.6070 - mae: 14.6070\n",
            "Epoch 264/500\n",
            "2/2 [==============================] - 0s 4ms/step - loss: 18.7689 - mae: 18.7689\n",
            "Epoch 265/500\n",
            "2/2 [==============================] - 0s 3ms/step - loss: 13.0575 - mae: 13.0575\n",
            "Epoch 266/500\n",
            "2/2 [==============================] - 0s 3ms/step - loss: 10.5544 - mae: 10.5544\n",
            "Epoch 267/500\n",
            "2/2 [==============================] - 0s 4ms/step - loss: 6.4894 - mae: 6.4894\n",
            "Epoch 268/500\n",
            "2/2 [==============================] - 0s 3ms/step - loss: 23.0821 - mae: 23.0821\n",
            "Epoch 269/500\n",
            "2/2 [==============================] - 0s 4ms/step - loss: 26.6267 - mae: 26.6267\n",
            "Epoch 270/500\n",
            "2/2 [==============================] - 0s 3ms/step - loss: 7.5463 - mae: 7.5463\n",
            "Epoch 271/500\n",
            "2/2 [==============================] - 0s 4ms/step - loss: 12.6731 - mae: 12.6731\n",
            "Epoch 272/500\n",
            "2/2 [==============================] - 0s 4ms/step - loss: 25.9546 - mae: 25.9546\n",
            "Epoch 273/500\n",
            "2/2 [==============================] - 0s 3ms/step - loss: 12.7735 - mae: 12.7735\n",
            "Epoch 274/500\n",
            "2/2 [==============================] - 0s 4ms/step - loss: 13.9555 - mae: 13.9555\n",
            "Epoch 275/500\n",
            "2/2 [==============================] - 0s 6ms/step - loss: 29.7728 - mae: 29.7728\n",
            "Epoch 276/500\n",
            "2/2 [==============================] - 0s 4ms/step - loss: 9.5763 - mae: 9.5763\n",
            "Epoch 277/500\n",
            "2/2 [==============================] - 0s 3ms/step - loss: 29.9596 - mae: 29.9596\n",
            "Epoch 278/500\n",
            "2/2 [==============================] - 0s 3ms/step - loss: 10.4721 - mae: 10.4721\n",
            "Epoch 279/500\n",
            "2/2 [==============================] - 0s 3ms/step - loss: 15.9313 - mae: 15.9313\n",
            "Epoch 280/500\n",
            "2/2 [==============================] - 0s 3ms/step - loss: 20.8637 - mae: 20.8637\n",
            "Epoch 281/500\n",
            "2/2 [==============================] - 0s 3ms/step - loss: 18.6225 - mae: 18.6225\n",
            "Epoch 282/500\n",
            "2/2 [==============================] - 0s 4ms/step - loss: 7.0732 - mae: 7.0732\n",
            "Epoch 283/500\n",
            "2/2 [==============================] - 0s 3ms/step - loss: 8.2022 - mae: 8.2022\n",
            "Epoch 284/500\n",
            "2/2 [==============================] - 0s 3ms/step - loss: 25.1797 - mae: 25.1797\n",
            "Epoch 285/500\n",
            "2/2 [==============================] - 0s 4ms/step - loss: 13.8775 - mae: 13.8775\n",
            "Epoch 286/500\n",
            "2/2 [==============================] - 0s 3ms/step - loss: 6.9075 - mae: 6.9075\n",
            "Epoch 287/500\n",
            "2/2 [==============================] - 0s 3ms/step - loss: 24.4538 - mae: 24.4538\n",
            "Epoch 288/500\n",
            "2/2 [==============================] - 0s 4ms/step - loss: 20.4028 - mae: 20.4028\n",
            "Epoch 289/500\n",
            "2/2 [==============================] - 0s 4ms/step - loss: 11.9060 - mae: 11.9060\n",
            "Epoch 290/500\n",
            "2/2 [==============================] - 0s 3ms/step - loss: 16.4851 - mae: 16.4851\n",
            "Epoch 291/500\n",
            "2/2 [==============================] - 0s 6ms/step - loss: 16.7302 - mae: 16.7302\n",
            "Epoch 292/500\n",
            "2/2 [==============================] - 0s 11ms/step - loss: 8.8327 - mae: 8.8327\n",
            "Epoch 293/500\n",
            "2/2 [==============================] - 0s 4ms/step - loss: 15.6884 - mae: 15.6884\n",
            "Epoch 294/500\n",
            "2/2 [==============================] - 0s 4ms/step - loss: 23.5585 - mae: 23.5585\n",
            "Epoch 295/500\n",
            "2/2 [==============================] - 0s 4ms/step - loss: 16.0669 - mae: 16.0669\n",
            "Epoch 296/500\n",
            "2/2 [==============================] - 0s 10ms/step - loss: 5.3919 - mae: 5.3919\n",
            "Epoch 297/500\n",
            "2/2 [==============================] - 0s 35ms/step - loss: 12.5929 - mae: 12.5929\n",
            "Epoch 298/500\n",
            "2/2 [==============================] - 0s 4ms/step - loss: 24.3401 - mae: 24.3401\n",
            "Epoch 299/500\n",
            "2/2 [==============================] - 0s 18ms/step - loss: 17.6378 - mae: 17.6378\n",
            "Epoch 300/500\n",
            "2/2 [==============================] - 0s 4ms/step - loss: 6.9893 - mae: 6.9893\n",
            "Epoch 301/500\n",
            "2/2 [==============================] - 0s 4ms/step - loss: 25.0747 - mae: 25.0747\n",
            "Epoch 302/500\n",
            "2/2 [==============================] - 0s 4ms/step - loss: 8.8812 - mae: 8.8812\n",
            "Epoch 303/500\n",
            "2/2 [==============================] - 0s 3ms/step - loss: 17.6680 - mae: 17.6680\n",
            "Epoch 304/500\n",
            "2/2 [==============================] - 0s 3ms/step - loss: 10.9712 - mae: 10.9712\n",
            "Epoch 305/500\n",
            "2/2 [==============================] - 0s 3ms/step - loss: 12.8387 - mae: 12.8387\n",
            "Epoch 306/500\n",
            "2/2 [==============================] - 0s 3ms/step - loss: 8.3803 - mae: 8.3803\n",
            "Epoch 307/500\n",
            "2/2 [==============================] - 0s 3ms/step - loss: 13.2701 - mae: 13.2701\n",
            "Epoch 308/500\n",
            "2/2 [==============================] - 0s 4ms/step - loss: 8.2395 - mae: 8.2395\n",
            "Epoch 309/500\n",
            "2/2 [==============================] - 0s 3ms/step - loss: 12.1731 - mae: 12.1731\n",
            "Epoch 310/500\n",
            "2/2 [==============================] - 0s 3ms/step - loss: 4.6417 - mae: 4.6417\n",
            "Epoch 311/500\n",
            "2/2 [==============================] - 0s 12ms/step - loss: 14.1957 - mae: 14.1957\n",
            "Epoch 312/500\n",
            "2/2 [==============================] - 0s 18ms/step - loss: 27.2335 - mae: 27.2335\n",
            "Epoch 313/500\n",
            "2/2 [==============================] - 0s 3ms/step - loss: 14.8175 - mae: 14.8175\n",
            "Epoch 314/500\n",
            "2/2 [==============================] - 0s 5ms/step - loss: 13.0340 - mae: 13.0340\n",
            "Epoch 315/500\n",
            "2/2 [==============================] - 0s 3ms/step - loss: 25.2291 - mae: 25.2291\n",
            "Epoch 316/500\n",
            "2/2 [==============================] - 0s 15ms/step - loss: 13.2528 - mae: 13.2528\n",
            "Epoch 317/500\n",
            "2/2 [==============================] - 0s 5ms/step - loss: 20.2821 - mae: 20.2821\n",
            "Epoch 318/500\n",
            "2/2 [==============================] - 0s 12ms/step - loss: 8.0936 - mae: 8.0936\n",
            "Epoch 319/500\n",
            "2/2 [==============================] - 0s 3ms/step - loss: 18.3896 - mae: 18.3896\n",
            "Epoch 320/500\n",
            "2/2 [==============================] - 0s 14ms/step - loss: 10.8383 - mae: 10.8383\n",
            "Epoch 321/500\n",
            "2/2 [==============================] - 0s 4ms/step - loss: 7.1572 - mae: 7.1572\n",
            "Epoch 322/500\n",
            "2/2 [==============================] - 0s 6ms/step - loss: 8.6169 - mae: 8.6169\n",
            "Epoch 323/500\n",
            "2/2 [==============================] - 0s 4ms/step - loss: 18.2509 - mae: 18.2509\n",
            "Epoch 324/500\n",
            "2/2 [==============================] - 0s 3ms/step - loss: 16.3079 - mae: 16.3079\n",
            "Epoch 325/500\n",
            "2/2 [==============================] - 0s 11ms/step - loss: 18.2715 - mae: 18.2715\n",
            "Epoch 326/500\n",
            "2/2 [==============================] - 0s 6ms/step - loss: 22.4556 - mae: 22.4556\n",
            "Epoch 327/500\n",
            "2/2 [==============================] - 0s 4ms/step - loss: 8.5247 - mae: 8.5247\n",
            "Epoch 328/500\n",
            "2/2 [==============================] - 0s 5ms/step - loss: 7.0522 - mae: 7.0522\n",
            "Epoch 329/500\n",
            "2/2 [==============================] - 0s 6ms/step - loss: 10.3062 - mae: 10.3062\n",
            "Epoch 330/500\n",
            "2/2 [==============================] - 0s 5ms/step - loss: 9.3864 - mae: 9.3864\n",
            "Epoch 331/500\n",
            "2/2 [==============================] - 0s 5ms/step - loss: 22.6971 - mae: 22.6971\n",
            "Epoch 332/500\n",
            "2/2 [==============================] - 0s 4ms/step - loss: 19.9798 - mae: 19.9798\n",
            "Epoch 333/500\n",
            "2/2 [==============================] - 0s 4ms/step - loss: 11.0699 - mae: 11.0699\n",
            "Epoch 334/500\n",
            "2/2 [==============================] - 0s 5ms/step - loss: 9.0440 - mae: 9.0440\n",
            "Epoch 335/500\n",
            "2/2 [==============================] - 0s 4ms/step - loss: 13.0614 - mae: 13.0614\n",
            "Epoch 336/500\n",
            "2/2 [==============================] - 0s 3ms/step - loss: 32.5256 - mae: 32.5256\n",
            "Epoch 337/500\n",
            "2/2 [==============================] - 0s 4ms/step - loss: 11.0629 - mae: 11.0629\n",
            "Epoch 338/500\n",
            "2/2 [==============================] - 0s 9ms/step - loss: 20.0057 - mae: 20.0057\n",
            "Epoch 339/500\n",
            "2/2 [==============================] - 0s 5ms/step - loss: 34.1692 - mae: 34.1692\n",
            "Epoch 340/500\n",
            "2/2 [==============================] - 0s 5ms/step - loss: 8.6796 - mae: 8.6796\n",
            "Epoch 341/500\n",
            "2/2 [==============================] - 0s 8ms/step - loss: 21.8434 - mae: 21.8434\n",
            "Epoch 342/500\n",
            "2/2 [==============================] - 0s 5ms/step - loss: 13.9694 - mae: 13.9694\n",
            "Epoch 343/500\n",
            "2/2 [==============================] - 0s 4ms/step - loss: 11.4955 - mae: 11.4955\n",
            "Epoch 344/500\n",
            "2/2 [==============================] - 0s 10ms/step - loss: 9.9478 - mae: 9.9478\n",
            "Epoch 345/500\n",
            "2/2 [==============================] - 0s 15ms/step - loss: 31.2306 - mae: 31.2306\n",
            "Epoch 346/500\n",
            "2/2 [==============================] - 0s 10ms/step - loss: 10.8312 - mae: 10.8312\n",
            "Epoch 347/500\n",
            "2/2 [==============================] - 0s 6ms/step - loss: 26.0408 - mae: 26.0408\n",
            "Epoch 348/500\n",
            "2/2 [==============================] - 0s 9ms/step - loss: 12.0135 - mae: 12.0135\n",
            "Epoch 349/500\n",
            "2/2 [==============================] - 0s 5ms/step - loss: 12.7506 - mae: 12.7506\n",
            "Epoch 350/500\n",
            "2/2 [==============================] - 0s 4ms/step - loss: 15.3033 - mae: 15.3033\n",
            "Epoch 351/500\n",
            "2/2 [==============================] - 0s 3ms/step - loss: 32.6938 - mae: 32.6938\n",
            "Epoch 352/500\n",
            "2/2 [==============================] - 0s 3ms/step - loss: 13.7116 - mae: 13.7116\n",
            "Epoch 353/500\n",
            "2/2 [==============================] - 0s 12ms/step - loss: 17.6522 - mae: 17.6522\n",
            "Epoch 354/500\n",
            "2/2 [==============================] - 0s 5ms/step - loss: 11.2848 - mae: 11.2848\n",
            "Epoch 355/500\n",
            "2/2 [==============================] - 0s 3ms/step - loss: 26.6451 - mae: 26.6451\n",
            "Epoch 356/500\n",
            "2/2 [==============================] - 0s 5ms/step - loss: 10.3347 - mae: 10.3347\n",
            "Epoch 357/500\n",
            "2/2 [==============================] - 0s 25ms/step - loss: 14.9847 - mae: 14.9847\n",
            "Epoch 358/500\n",
            "2/2 [==============================] - 0s 5ms/step - loss: 14.9144 - mae: 14.9144\n",
            "Epoch 359/500\n",
            "2/2 [==============================] - 0s 3ms/step - loss: 12.2575 - mae: 12.2575\n",
            "Epoch 360/500\n",
            "2/2 [==============================] - 0s 3ms/step - loss: 20.2102 - mae: 20.2102\n",
            "Epoch 361/500\n",
            "2/2 [==============================] - 0s 4ms/step - loss: 11.1170 - mae: 11.1170\n",
            "Epoch 362/500\n",
            "2/2 [==============================] - 0s 3ms/step - loss: 6.8475 - mae: 6.8475\n",
            "Epoch 363/500\n",
            "2/2 [==============================] - 0s 6ms/step - loss: 24.1290 - mae: 24.1290\n",
            "Epoch 364/500\n",
            "2/2 [==============================] - 0s 15ms/step - loss: 29.9413 - mae: 29.9413\n",
            "Epoch 365/500\n",
            "2/2 [==============================] - 0s 6ms/step - loss: 8.4220 - mae: 8.4220\n",
            "Epoch 366/500\n",
            "2/2 [==============================] - 0s 9ms/step - loss: 6.1069 - mae: 6.1069\n",
            "Epoch 367/500\n",
            "2/2 [==============================] - 0s 5ms/step - loss: 35.0985 - mae: 35.0985\n",
            "Epoch 368/500\n",
            "2/2 [==============================] - 0s 4ms/step - loss: 7.4621 - mae: 7.4621\n",
            "Epoch 369/500\n",
            "2/2 [==============================] - 0s 3ms/step - loss: 9.2929 - mae: 9.2929\n",
            "Epoch 370/500\n",
            "2/2 [==============================] - 0s 3ms/step - loss: 11.0092 - mae: 11.0092\n",
            "Epoch 371/500\n",
            "2/2 [==============================] - 0s 3ms/step - loss: 9.0693 - mae: 9.0693\n",
            "Epoch 372/500\n",
            "2/2 [==============================] - 0s 3ms/step - loss: 6.9481 - mae: 6.9481\n",
            "Epoch 373/500\n",
            "2/2 [==============================] - 0s 3ms/step - loss: 25.9166 - mae: 25.9166\n",
            "Epoch 374/500\n",
            "2/2 [==============================] - 0s 3ms/step - loss: 11.0303 - mae: 11.0303\n",
            "Epoch 375/500\n",
            "2/2 [==============================] - 0s 3ms/step - loss: 10.7597 - mae: 10.7597\n",
            "Epoch 376/500\n",
            "2/2 [==============================] - 0s 4ms/step - loss: 13.5529 - mae: 13.5529\n",
            "Epoch 377/500\n",
            "2/2 [==============================] - 0s 12ms/step - loss: 15.2487 - mae: 15.2487\n",
            "Epoch 378/500\n",
            "2/2 [==============================] - 0s 10ms/step - loss: 16.3928 - mae: 16.3928\n",
            "Epoch 379/500\n",
            "2/2 [==============================] - 0s 5ms/step - loss: 21.1168 - mae: 21.1168\n",
            "Epoch 380/500\n",
            "2/2 [==============================] - 0s 4ms/step - loss: 32.7041 - mae: 32.7041\n",
            "Epoch 381/500\n",
            "2/2 [==============================] - 0s 13ms/step - loss: 7.9863 - mae: 7.9863\n",
            "Epoch 382/500\n",
            "2/2 [==============================] - 0s 6ms/step - loss: 12.4657 - mae: 12.4657\n",
            "Epoch 383/500\n",
            "2/2 [==============================] - 0s 7ms/step - loss: 7.2530 - mae: 7.2530\n",
            "Epoch 384/500\n",
            "2/2 [==============================] - 0s 3ms/step - loss: 6.4202 - mae: 6.4202\n",
            "Epoch 385/500\n",
            "2/2 [==============================] - 0s 4ms/step - loss: 11.6163 - mae: 11.6163\n",
            "Epoch 386/500\n",
            "2/2 [==============================] - 0s 5ms/step - loss: 19.9504 - mae: 19.9504\n",
            "Epoch 387/500\n",
            "2/2 [==============================] - 0s 3ms/step - loss: 24.4359 - mae: 24.4359\n",
            "Epoch 388/500\n",
            "2/2 [==============================] - 0s 3ms/step - loss: 8.1390 - mae: 8.1390\n",
            "Epoch 389/500\n",
            "2/2 [==============================] - 0s 3ms/step - loss: 10.6959 - mae: 10.6959\n",
            "Epoch 390/500\n",
            "2/2 [==============================] - 0s 4ms/step - loss: 5.5294 - mae: 5.5294\n",
            "Epoch 391/500\n",
            "2/2 [==============================] - 0s 3ms/step - loss: 17.7263 - mae: 17.7263\n",
            "Epoch 392/500\n",
            "2/2 [==============================] - 0s 3ms/step - loss: 16.4984 - mae: 16.4984\n",
            "Epoch 393/500\n",
            "2/2 [==============================] - 0s 6ms/step - loss: 9.2912 - mae: 9.2912\n",
            "Epoch 394/500\n",
            "2/2 [==============================] - 0s 7ms/step - loss: 14.1243 - mae: 14.1243\n",
            "Epoch 395/500\n",
            "2/2 [==============================] - 0s 13ms/step - loss: 28.5279 - mae: 28.5279\n",
            "Epoch 396/500\n",
            "2/2 [==============================] - 0s 5ms/step - loss: 8.4058 - mae: 8.4058\n",
            "Epoch 397/500\n",
            "2/2 [==============================] - 0s 10ms/step - loss: 11.1065 - mae: 11.1065\n",
            "Epoch 398/500\n",
            "2/2 [==============================] - 0s 12ms/step - loss: 6.8362 - mae: 6.8362\n",
            "Epoch 399/500\n",
            "2/2 [==============================] - 0s 10ms/step - loss: 13.9291 - mae: 13.9291\n",
            "Epoch 400/500\n",
            "2/2 [==============================] - 0s 11ms/step - loss: 6.6197 - mae: 6.6197\n",
            "Epoch 401/500\n",
            "2/2 [==============================] - 0s 9ms/step - loss: 7.4556 - mae: 7.4556\n",
            "Epoch 402/500\n",
            "2/2 [==============================] - 0s 10ms/step - loss: 19.3520 - mae: 19.3520\n",
            "Epoch 403/500\n",
            "2/2 [==============================] - 0s 11ms/step - loss: 10.4570 - mae: 10.4570\n",
            "Epoch 404/500\n",
            "2/2 [==============================] - 0s 6ms/step - loss: 23.2354 - mae: 23.2354\n",
            "Epoch 405/500\n",
            "2/2 [==============================] - 0s 6ms/step - loss: 17.4485 - mae: 17.4485\n",
            "Epoch 406/500\n",
            "2/2 [==============================] - 0s 10ms/step - loss: 6.8114 - mae: 6.8114\n",
            "Epoch 407/500\n",
            "2/2 [==============================] - 0s 5ms/step - loss: 12.1587 - mae: 12.1587\n",
            "Epoch 408/500\n",
            "2/2 [==============================] - 0s 11ms/step - loss: 5.5931 - mae: 5.5931\n",
            "Epoch 409/500\n",
            "2/2 [==============================] - 0s 3ms/step - loss: 30.2843 - mae: 30.2843\n",
            "Epoch 410/500\n",
            "2/2 [==============================] - 0s 5ms/step - loss: 9.8182 - mae: 9.8182\n",
            "Epoch 411/500\n",
            "2/2 [==============================] - 0s 12ms/step - loss: 14.7055 - mae: 14.7055\n",
            "Epoch 412/500\n",
            "2/2 [==============================] - 0s 8ms/step - loss: 21.4629 - mae: 21.4629\n",
            "Epoch 413/500\n",
            "2/2 [==============================] - 0s 17ms/step - loss: 13.3066 - mae: 13.3066\n",
            "Epoch 414/500\n",
            "2/2 [==============================] - 0s 9ms/step - loss: 7.7835 - mae: 7.7835\n",
            "Epoch 415/500\n",
            "2/2 [==============================] - 0s 9ms/step - loss: 12.1999 - mae: 12.1999\n",
            "Epoch 416/500\n",
            "2/2 [==============================] - 0s 4ms/step - loss: 25.8864 - mae: 25.8864\n",
            "Epoch 417/500\n",
            "2/2 [==============================] - 0s 4ms/step - loss: 15.0194 - mae: 15.0194\n",
            "Epoch 418/500\n",
            "2/2 [==============================] - 0s 3ms/step - loss: 12.7866 - mae: 12.7866\n",
            "Epoch 419/500\n",
            "2/2 [==============================] - 0s 3ms/step - loss: 15.8519 - mae: 15.8519\n",
            "Epoch 420/500\n",
            "2/2 [==============================] - 0s 3ms/step - loss: 24.7018 - mae: 24.7018\n",
            "Epoch 421/500\n",
            "2/2 [==============================] - 0s 10ms/step - loss: 17.5944 - mae: 17.5944\n",
            "Epoch 422/500\n",
            "2/2 [==============================] - 0s 8ms/step - loss: 8.6973 - mae: 8.6973\n",
            "Epoch 423/500\n",
            "2/2 [==============================] - 0s 5ms/step - loss: 24.8940 - mae: 24.8940\n",
            "Epoch 424/500\n",
            "2/2 [==============================] - 0s 5ms/step - loss: 16.2917 - mae: 16.2917\n",
            "Epoch 425/500\n",
            "2/2 [==============================] - 0s 3ms/step - loss: 7.1486 - mae: 7.1486\n",
            "Epoch 426/500\n",
            "2/2 [==============================] - 0s 6ms/step - loss: 20.4055 - mae: 20.4055\n",
            "Epoch 427/500\n",
            "2/2 [==============================] - 0s 8ms/step - loss: 6.3192 - mae: 6.3192\n",
            "Epoch 428/500\n",
            "2/2 [==============================] - 0s 10ms/step - loss: 13.0584 - mae: 13.0584\n",
            "Epoch 429/500\n",
            "2/2 [==============================] - 0s 10ms/step - loss: 10.8395 - mae: 10.8395\n",
            "Epoch 430/500\n",
            "2/2 [==============================] - 0s 7ms/step - loss: 11.7019 - mae: 11.7019\n",
            "Epoch 431/500\n",
            "2/2 [==============================] - 0s 7ms/step - loss: 7.8884 - mae: 7.8884\n",
            "Epoch 432/500\n",
            "2/2 [==============================] - 0s 5ms/step - loss: 22.1078 - mae: 22.1078\n",
            "Epoch 433/500\n",
            "2/2 [==============================] - 0s 3ms/step - loss: 5.8954 - mae: 5.8954\n",
            "Epoch 434/500\n",
            "2/2 [==============================] - 0s 9ms/step - loss: 32.6668 - mae: 32.6668\n",
            "Epoch 435/500\n",
            "2/2 [==============================] - 0s 3ms/step - loss: 13.4919 - mae: 13.4919\n",
            "Epoch 436/500\n",
            "2/2 [==============================] - 0s 3ms/step - loss: 29.0828 - mae: 29.0828\n",
            "Epoch 437/500\n",
            "2/2 [==============================] - 0s 8ms/step - loss: 9.1960 - mae: 9.1960\n",
            "Epoch 438/500\n",
            "2/2 [==============================] - 0s 4ms/step - loss: 12.6697 - mae: 12.6697\n",
            "Epoch 439/500\n",
            "2/2 [==============================] - 0s 8ms/step - loss: 33.5264 - mae: 33.5264\n",
            "Epoch 440/500\n",
            "2/2 [==============================] - 0s 3ms/step - loss: 14.8548 - mae: 14.8548\n",
            "Epoch 441/500\n",
            "2/2 [==============================] - 0s 3ms/step - loss: 17.2997 - mae: 17.2997\n",
            "Epoch 442/500\n",
            "2/2 [==============================] - 0s 5ms/step - loss: 21.9360 - mae: 21.9360\n",
            "Epoch 443/500\n",
            "2/2 [==============================] - 0s 10ms/step - loss: 24.4633 - mae: 24.4633\n",
            "Epoch 444/500\n",
            "2/2 [==============================] - 0s 3ms/step - loss: 11.6993 - mae: 11.6993\n",
            "Epoch 445/500\n",
            "2/2 [==============================] - 0s 3ms/step - loss: 14.6965 - mae: 14.6965\n",
            "Epoch 446/500\n",
            "2/2 [==============================] - 0s 8ms/step - loss: 17.6782 - mae: 17.6782\n",
            "Epoch 447/500\n",
            "2/2 [==============================] - 0s 4ms/step - loss: 5.7425 - mae: 5.7425\n",
            "Epoch 448/500\n",
            "2/2 [==============================] - 0s 4ms/step - loss: 9.4233 - mae: 9.4233\n",
            "Epoch 449/500\n",
            "2/2 [==============================] - 0s 11ms/step - loss: 14.1029 - mae: 14.1029\n",
            "Epoch 450/500\n",
            "2/2 [==============================] - 0s 3ms/step - loss: 16.8667 - mae: 16.8667\n",
            "Epoch 451/500\n",
            "2/2 [==============================] - 0s 4ms/step - loss: 14.3204 - mae: 14.3204\n",
            "Epoch 452/500\n",
            "2/2 [==============================] - 0s 9ms/step - loss: 30.7067 - mae: 30.7067\n",
            "Epoch 453/500\n",
            "2/2 [==============================] - 0s 4ms/step - loss: 8.3817 - mae: 8.3817\n",
            "Epoch 454/500\n",
            "2/2 [==============================] - 0s 12ms/step - loss: 27.6048 - mae: 27.6048\n",
            "Epoch 455/500\n",
            "2/2 [==============================] - 0s 6ms/step - loss: 10.0423 - mae: 10.0423\n",
            "Epoch 456/500\n",
            "2/2 [==============================] - 0s 4ms/step - loss: 14.5426 - mae: 14.5426\n",
            "Epoch 457/500\n",
            "2/2 [==============================] - 0s 6ms/step - loss: 17.6952 - mae: 17.6952\n",
            "Epoch 458/500\n",
            "2/2 [==============================] - 0s 9ms/step - loss: 13.9980 - mae: 13.9980\n",
            "Epoch 459/500\n",
            "2/2 [==============================] - 0s 4ms/step - loss: 25.8948 - mae: 25.8948\n",
            "Epoch 460/500\n",
            "2/2 [==============================] - 0s 3ms/step - loss: 15.0658 - mae: 15.0658\n",
            "Epoch 461/500\n",
            "2/2 [==============================] - 0s 9ms/step - loss: 11.8999 - mae: 11.8999\n",
            "Epoch 462/500\n",
            "2/2 [==============================] - 0s 6ms/step - loss: 13.2625 - mae: 13.2625\n",
            "Epoch 463/500\n",
            "2/2 [==============================] - 0s 5ms/step - loss: 29.4468 - mae: 29.4468\n",
            "Epoch 464/500\n",
            "2/2 [==============================] - 0s 9ms/step - loss: 3.2148 - mae: 3.2148\n",
            "Epoch 465/500\n",
            "2/2 [==============================] - 0s 11ms/step - loss: 40.4225 - mae: 40.4225\n",
            "Epoch 466/500\n",
            "2/2 [==============================] - 0s 5ms/step - loss: 18.4704 - mae: 18.4704\n",
            "Epoch 467/500\n",
            "2/2 [==============================] - 0s 8ms/step - loss: 8.5968 - mae: 8.5968\n",
            "Epoch 468/500\n",
            "2/2 [==============================] - 0s 11ms/step - loss: 6.6160 - mae: 6.6160\n",
            "Epoch 469/500\n",
            "2/2 [==============================] - 0s 10ms/step - loss: 29.6111 - mae: 29.6111\n",
            "Epoch 470/500\n",
            "2/2 [==============================] - 0s 6ms/step - loss: 15.4074 - mae: 15.4074\n",
            "Epoch 471/500\n",
            "2/2 [==============================] - 0s 11ms/step - loss: 12.3503 - mae: 12.3503\n",
            "Epoch 472/500\n",
            "2/2 [==============================] - 0s 5ms/step - loss: 15.4393 - mae: 15.4393\n",
            "Epoch 473/500\n",
            "2/2 [==============================] - 0s 5ms/step - loss: 19.3918 - mae: 19.3918\n",
            "Epoch 474/500\n",
            "2/2 [==============================] - 0s 3ms/step - loss: 38.7394 - mae: 38.7394\n",
            "Epoch 475/500\n",
            "2/2 [==============================] - 0s 3ms/step - loss: 15.6556 - mae: 15.6556\n",
            "Epoch 476/500\n",
            "2/2 [==============================] - 0s 4ms/step - loss: 13.4866 - mae: 13.4866\n",
            "Epoch 477/500\n",
            "2/2 [==============================] - 0s 11ms/step - loss: 29.8585 - mae: 29.8585\n",
            "Epoch 478/500\n",
            "2/2 [==============================] - 0s 3ms/step - loss: 4.8184 - mae: 4.8184\n",
            "Epoch 479/500\n",
            "2/2 [==============================] - 0s 4ms/step - loss: 13.7176 - mae: 13.7176\n",
            "Epoch 480/500\n",
            "2/2 [==============================] - 0s 4ms/step - loss: 20.4862 - mae: 20.4862\n",
            "Epoch 481/500\n",
            "2/2 [==============================] - 0s 3ms/step - loss: 23.9624 - mae: 23.9624\n",
            "Epoch 482/500\n",
            "2/2 [==============================] - 0s 3ms/step - loss: 12.8819 - mae: 12.8819\n",
            "Epoch 483/500\n",
            "2/2 [==============================] - 0s 7ms/step - loss: 9.4771 - mae: 9.4771\n",
            "Epoch 484/500\n",
            "2/2 [==============================] - 0s 3ms/step - loss: 27.5792 - mae: 27.5792\n",
            "Epoch 485/500\n",
            "2/2 [==============================] - 0s 5ms/step - loss: 9.8974 - mae: 9.8974\n",
            "Epoch 486/500\n",
            "2/2 [==============================] - 0s 11ms/step - loss: 6.9994 - mae: 6.9994\n",
            "Epoch 487/500\n",
            "2/2 [==============================] - 0s 6ms/step - loss: 6.2687 - mae: 6.2687\n",
            "Epoch 488/500\n",
            "2/2 [==============================] - 0s 9ms/step - loss: 29.6840 - mae: 29.6840\n",
            "Epoch 489/500\n",
            "2/2 [==============================] - 0s 5ms/step - loss: 12.6985 - mae: 12.6985\n",
            "Epoch 490/500\n",
            "2/2 [==============================] - 0s 4ms/step - loss: 13.1251 - mae: 13.1251\n",
            "Epoch 491/500\n",
            "2/2 [==============================] - 0s 3ms/step - loss: 24.4064 - mae: 24.4064\n",
            "Epoch 492/500\n",
            "2/2 [==============================] - 0s 3ms/step - loss: 18.5091 - mae: 18.5091\n",
            "Epoch 493/500\n",
            "2/2 [==============================] - 0s 7ms/step - loss: 4.7509 - mae: 4.7509\n",
            "Epoch 494/500\n",
            "2/2 [==============================] - 0s 5ms/step - loss: 11.8860 - mae: 11.8860\n",
            "Epoch 495/500\n",
            "2/2 [==============================] - 0s 5ms/step - loss: 13.7536 - mae: 13.7536\n",
            "Epoch 496/500\n",
            "2/2 [==============================] - 0s 6ms/step - loss: 12.9362 - mae: 12.9362\n",
            "Epoch 497/500\n",
            "2/2 [==============================] - 0s 5ms/step - loss: 18.0908 - mae: 18.0908\n",
            "Epoch 498/500\n",
            "2/2 [==============================] - 0s 8ms/step - loss: 22.4975 - mae: 22.4975\n",
            "Epoch 499/500\n",
            "2/2 [==============================] - 0s 19ms/step - loss: 8.3115 - mae: 8.3115\n",
            "Epoch 500/500\n",
            "2/2 [==============================] - 0s 7ms/step - loss: 14.1569 - mae: 14.1569\n"
          ],
          "name": "stdout"
        },
        {
          "output_type": "execute_result",
          "data": {
            "text/plain": [
              "<tensorflow.python.keras.callbacks.History at 0x7fe6e276fe90>"
            ]
          },
          "metadata": {
            "tags": []
          },
          "execution_count": 47
        }
      ]
    },
    {
      "cell_type": "code",
      "metadata": {
        "colab": {
          "base_uri": "https://localhost:8080/",
          "height": 374
        },
        "id": "Yy59aO99DwLG",
        "outputId": "30f0888e-1274-4779-b71d-1ed9948d96c3"
      },
      "source": [
        "#predict and plot\n",
        "y_pred_3 = model_3.predict(X_test)\n",
        "plot_predictions(predictions=y_pred_3)\n",
        "\n",
        "##Model is overfitting"
      ],
      "execution_count": null,
      "outputs": [
        {
          "output_type": "display_data",
          "data": {
            "image/png": "[encoded data removed]",
            "text/plain": [
              "<Figure size 648x432 with 1 Axes>"
            ]
          },
          "metadata": {
            "tags": [],
            "needs_background": "light"
          }
        }
      ]
    },
    {
      "cell_type": "code",
      "metadata": {
        "colab": {
          "base_uri": "https://localhost:8080/"
        },
        "id": "rEBPhtgsEIbp",
        "outputId": "9085a812-050a-497b-dde7-8d82a57645d4"
      },
      "source": [
        "mae_3 = mae(y_test, tf.squeeze(y_pred_3))\n",
        "mse_3 = mse(y_test, tf.squeeze(y_pred_3))\n",
        "mae_3, mse_3"
      ],
      "execution_count": null,
      "outputs": [
        {
          "output_type": "execute_result",
          "data": {
            "text/plain": [
              "(<tf.Tensor: shape=(), dtype=float32, numpy=67.17448>,\n",
              " <tf.Tensor: shape=(), dtype=float32, numpy=4594.9453>)"
            ]
          },
          "metadata": {
            "tags": []
          },
          "execution_count": 49
        }
      ]
    },
    {
      "cell_type": "markdown",
      "metadata": {
        "id": "CpBMPKP5GOPN"
      },
      "source": [
        "🔑 **Note** You want to start with small model and do experiment slowly increase their scale when required.\n"
      ]
    },
    {
      "cell_type": "markdown",
      "metadata": {
        "id": "bgV4JdRVFqz5"
      },
      "source": [
        "## Comparing the results of our experiment\n",
        "\n",
        "We'have run a few experiments , lets compare the results. \n"
      ]
    },
    {
      "cell_type": "code",
      "metadata": {
        "colab": {
          "base_uri": "https://localhost:8080/",
          "height": 143
        },
        "id": "rR00j2fLF221",
        "outputId": "e49be0d8-017b-4958-eb66-3dd057c0da9e"
      },
      "source": [
        "#Let's compare our model using a pandas dataframe \n",
        "\n",
        "import pandas as pd \n",
        "\n",
        "model_results = [[\"Model_1\", mae_1.numpy(), mse_1.numpy()],\n",
        "                 [\"Model_2\", mae_2.numpy(),mse_2.numpy()],\n",
        "                 [\"model_3\", mae_3.numpy(), mse_3.numpy()]]\n",
        "\n",
        "all_results = pd.DataFrame(model_results, columns= [\"Model\", \"mae\", \"mse\"])\n",
        "\n",
        "all_results\n"
      ],
      "execution_count": null,
      "outputs": [
        {
          "output_type": "execute_result",
          "data": {
            "text/html": [
              "<div>\n",
              "<style scoped>\n",
              "    .dataframe tbody tr th:only-of-type {\n",
              "        vertical-align: middle;\n",
              "    }\n",
              "\n",
              "    .dataframe tbody tr th {\n",
              "        vertical-align: top;\n",
              "    }\n",
              "\n",
              "    .dataframe thead th {\n",
              "        text-align: right;\n",
              "    }\n",
              "</style>\n",
              "<table border=\"1\" class=\"dataframe\">\n",
              "  <thead>\n",
              "    <tr style=\"text-align: right;\">\n",
              "      <th></th>\n",
              "      <th>Model</th>\n",
              "      <th>mae</th>\n",
              "      <th>mse</th>\n",
              "    </tr>\n",
              "  </thead>\n",
              "  <tbody>\n",
              "    <tr>\n",
              "      <th>0</th>\n",
              "      <td>Model_1</td>\n",
              "      <td>18.745327</td>\n",
              "      <td>353.573364</td>\n",
              "    </tr>\n",
              "    <tr>\n",
              "      <th>1</th>\n",
              "      <td>Model_2</td>\n",
              "      <td>30.087170</td>\n",
              "      <td>936.919250</td>\n",
              "    </tr>\n",
              "    <tr>\n",
              "      <th>2</th>\n",
              "      <td>model_3</td>\n",
              "      <td>67.174477</td>\n",
              "      <td>4594.945312</td>\n",
              "    </tr>\n",
              "  </tbody>\n",
              "</table>\n",
              "</div>"
            ],
            "text/plain": [
              "     Model        mae          mse\n",
              "0  Model_1  18.745327   353.573364\n",
              "1  Model_2  30.087170   936.919250\n",
              "2  model_3  67.174477  4594.945312"
            ]
          },
          "metadata": {
            "tags": []
          },
          "execution_count": 50
        }
      ]
    },
    {
      "cell_type": "markdown",
      "metadata": {
        "id": "rPRWQngwHp5N"
      },
      "source": [
        "**Note**: One of the main goals should be to minimize the time between your experiment. The more experiments you do the more things you figure out which don't work and in the turn get closer to figuring out what does work. Machine practioner motoo is to \"experiment, experiment, experiment\""
      ]
    },
    {
      "cell_type": "markdown",
      "metadata": {
        "id": "FL5JgrOJkBo5"
      },
      "source": [
        "### Track your experiments\n",
        "\n",
        "One really good jhabit is to track results of your experiments. \n",
        "\n",
        "And when doing so, it can be tedious if you are running lots of experiments. \n",
        "\n",
        "Luckily there are tools to help us.\n",
        "\n",
        "**Resources**: As you build models you want to look into using: \n",
        "\n",
        "- Tensorboard: Component of tensorflow library\n",
        "- Weights & Biases: a tool for tracking all kinds of machine learning experiments (Plugs straight into tensorboard)"
      ]
    },
    {
      "cell_type": "markdown",
      "metadata": {
        "id": "Da2oCysllPRB"
      },
      "source": [
        "### Saving our model\n",
        "\n",
        "There are two formats we can save our model to: \n",
        "1. Save Model format `model.save('folder')`\n",
        "2. HDF5 format `model.save('filename.h5')`"
      ]
    },
    {
      "cell_type": "code",
      "metadata": {
        "colab": {
          "base_uri": "https://localhost:8080/"
        },
        "id": "1qBrxm1slSsw",
        "outputId": "544c587b-2328-46c3-f7f8-9c8306085d5f"
      },
      "source": [
        "# Save model using save model format \n",
        "\n",
        "model_2.save(\"best_model_savemodel_format\")\n"
      ],
      "execution_count": null,
      "outputs": [
        {
          "output_type": "stream",
          "text": [
            "INFO:tensorflow:Assets written to: best_model_savemodel_format/assets\n"
          ],
          "name": "stdout"
        }
      ]
    },
    {
      "cell_type": "code",
      "metadata": {
        "id": "ilddzOmoWhHy"
      },
      "source": [
        "# save model using hdf5\n",
        "\n",
        "model_2.save(\"best_model_hdf5_format.h5\")"
      ],
      "execution_count": null,
      "outputs": []
    },
    {
      "cell_type": "markdown",
      "metadata": {
        "id": "99DL5lhJXb4S"
      },
      "source": [
        "## Loading a saved model\n"
      ]
    },
    {
      "cell_type": "code",
      "metadata": {
        "colab": {
          "base_uri": "https://localhost:8080/"
        },
        "id": "pZ_3AtLuXfzG",
        "outputId": "204ecd80-9279-44ab-a788-3839d2bf89cf"
      },
      "source": [
        "# Load a saved model format \n",
        "\n",
        "loaded_savedModel_format = tf.keras.models.load_model('best_model_savemodel_format')\n",
        "loaded_savedModel_format.summary()"
      ],
      "execution_count": null,
      "outputs": [
        {
          "output_type": "stream",
          "text": [
            "Model: \"sequential_5\"\n",
            "_________________________________________________________________\n",
            "Layer (type)                 Output Shape              Param #   \n",
            "=================================================================\n",
            "dense_6 (Dense)              (None, 50)                100       \n",
            "_________________________________________________________________\n",
            "dense_7 (Dense)              (None, 1)                 51        \n",
            "=================================================================\n",
            "Total params: 151\n",
            "Trainable params: 151\n",
            "Non-trainable params: 0\n",
            "_________________________________________________________________\n"
          ],
          "name": "stdout"
        }
      ]
    },
    {
      "cell_type": "markdown",
      "metadata": {
        "id": "Vx2gNjdpZ2nE"
      },
      "source": [
        "### A larger example\n"
      ]
    },
    {
      "cell_type": "code",
      "metadata": {
        "id": "BSYbj1LoX2Lk"
      },
      "source": [
        "import tensorflow as tf\n",
        "import pandas as pd\n",
        "import matplotlib.pyplot as plt\n"
      ],
      "execution_count": null,
      "outputs": []
    },
    {
      "cell_type": "code",
      "metadata": {
        "colab": {
          "base_uri": "https://localhost:8080/",
          "height": 422
        },
        "id": "s_UoSsuOaR-c",
        "outputId": "39b7ac59-e4de-47a8-e527-5aeb4d530ab7"
      },
      "source": [
        "insaurance = pd.read_csv(\"https://raw.githubusercontent.com/stedy/Machine-Learning-with-R-datasets/master/insurance.csv\")\n",
        "insaurance"
      ],
      "execution_count": null,
      "outputs": [
        {
          "output_type": "execute_result",
          "data": {
            "text/html": [
              "<div>\n",
              "<style scoped>\n",
              "    .dataframe tbody tr th:only-of-type {\n",
              "        vertical-align: middle;\n",
              "    }\n",
              "\n",
              "    .dataframe tbody tr th {\n",
              "        vertical-align: top;\n",
              "    }\n",
              "\n",
              "    .dataframe thead th {\n",
              "        text-align: right;\n",
              "    }\n",
              "</style>\n",
              "<table border=\"1\" class=\"dataframe\">\n",
              "  <thead>\n",
              "    <tr style=\"text-align: right;\">\n",
              "      <th></th>\n",
              "      <th>age</th>\n",
              "      <th>sex</th>\n",
              "      <th>bmi</th>\n",
              "      <th>children</th>\n",
              "      <th>smoker</th>\n",
              "      <th>region</th>\n",
              "      <th>charges</th>\n",
              "    </tr>\n",
              "  </thead>\n",
              "  <tbody>\n",
              "    <tr>\n",
              "      <th>0</th>\n",
              "      <td>19</td>\n",
              "      <td>female</td>\n",
              "      <td>27.900</td>\n",
              "      <td>0</td>\n",
              "      <td>yes</td>\n",
              "      <td>southwest</td>\n",
              "      <td>16884.92400</td>\n",
              "    </tr>\n",
              "    <tr>\n",
              "      <th>1</th>\n",
              "      <td>18</td>\n",
              "      <td>male</td>\n",
              "      <td>33.770</td>\n",
              "      <td>1</td>\n",
              "      <td>no</td>\n",
              "      <td>southeast</td>\n",
              "      <td>1725.55230</td>\n",
              "    </tr>\n",
              "    <tr>\n",
              "      <th>2</th>\n",
              "      <td>28</td>\n",
              "      <td>male</td>\n",
              "      <td>33.000</td>\n",
              "      <td>3</td>\n",
              "      <td>no</td>\n",
              "      <td>southeast</td>\n",
              "      <td>4449.46200</td>\n",
              "    </tr>\n",
              "    <tr>\n",
              "      <th>3</th>\n",
              "      <td>33</td>\n",
              "      <td>male</td>\n",
              "      <td>22.705</td>\n",
              "      <td>0</td>\n",
              "      <td>no</td>\n",
              "      <td>northwest</td>\n",
              "      <td>21984.47061</td>\n",
              "    </tr>\n",
              "    <tr>\n",
              "      <th>4</th>\n",
              "      <td>32</td>\n",
              "      <td>male</td>\n",
              "      <td>28.880</td>\n",
              "      <td>0</td>\n",
              "      <td>no</td>\n",
              "      <td>northwest</td>\n",
              "      <td>3866.85520</td>\n",
              "    </tr>\n",
              "    <tr>\n",
              "      <th>...</th>\n",
              "      <td>...</td>\n",
              "      <td>...</td>\n",
              "      <td>...</td>\n",
              "      <td>...</td>\n",
              "      <td>...</td>\n",
              "      <td>...</td>\n",
              "      <td>...</td>\n",
              "    </tr>\n",
              "    <tr>\n",
              "      <th>1333</th>\n",
              "      <td>50</td>\n",
              "      <td>male</td>\n",
              "      <td>30.970</td>\n",
              "      <td>3</td>\n",
              "      <td>no</td>\n",
              "      <td>northwest</td>\n",
              "      <td>10600.54830</td>\n",
              "    </tr>\n",
              "    <tr>\n",
              "      <th>1334</th>\n",
              "      <td>18</td>\n",
              "      <td>female</td>\n",
              "      <td>31.920</td>\n",
              "      <td>0</td>\n",
              "      <td>no</td>\n",
              "      <td>northeast</td>\n",
              "      <td>2205.98080</td>\n",
              "    </tr>\n",
              "    <tr>\n",
              "      <th>1335</th>\n",
              "      <td>18</td>\n",
              "      <td>female</td>\n",
              "      <td>36.850</td>\n",
              "      <td>0</td>\n",
              "      <td>no</td>\n",
              "      <td>southeast</td>\n",
              "      <td>1629.83350</td>\n",
              "    </tr>\n",
              "    <tr>\n",
              "      <th>1336</th>\n",
              "      <td>21</td>\n",
              "      <td>female</td>\n",
              "      <td>25.800</td>\n",
              "      <td>0</td>\n",
              "      <td>no</td>\n",
              "      <td>southwest</td>\n",
              "      <td>2007.94500</td>\n",
              "    </tr>\n",
              "    <tr>\n",
              "      <th>1337</th>\n",
              "      <td>61</td>\n",
              "      <td>female</td>\n",
              "      <td>29.070</td>\n",
              "      <td>0</td>\n",
              "      <td>yes</td>\n",
              "      <td>northwest</td>\n",
              "      <td>29141.36030</td>\n",
              "    </tr>\n",
              "  </tbody>\n",
              "</table>\n",
              "<p>1338 rows × 7 columns</p>\n",
              "</div>"
            ],
            "text/plain": [
              "      age     sex     bmi  children smoker     region      charges\n",
              "0      19  female  27.900         0    yes  southwest  16884.92400\n",
              "1      18    male  33.770         1     no  southeast   1725.55230\n",
              "2      28    male  33.000         3     no  southeast   4449.46200\n",
              "3      33    male  22.705         0     no  northwest  21984.47061\n",
              "4      32    male  28.880         0     no  northwest   3866.85520\n",
              "...   ...     ...     ...       ...    ...        ...          ...\n",
              "1333   50    male  30.970         3     no  northwest  10600.54830\n",
              "1334   18  female  31.920         0     no  northeast   2205.98080\n",
              "1335   18  female  36.850         0     no  southeast   1629.83350\n",
              "1336   21  female  25.800         0     no  southwest   2007.94500\n",
              "1337   61  female  29.070         0    yes  northwest  29141.36030\n",
              "\n",
              "[1338 rows x 7 columns]"
            ]
          },
          "metadata": {
            "tags": []
          },
          "execution_count": 57
        }
      ]
    },
    {
      "cell_type": "code",
      "metadata": {
        "colab": {
          "base_uri": "https://localhost:8080/",
          "height": 225
        },
        "id": "VwGG1rl0XwQd",
        "outputId": "b7894bc0-8146-462c-8c60-7bf997d94ca4"
      },
      "source": [
        "insaurance_onehot_encoding = pd.get_dummies(insaurance)\n",
        "insaurance_onehot_encoding.head()"
      ],
      "execution_count": null,
      "outputs": [
        {
          "output_type": "execute_result",
          "data": {
            "text/html": [
              "<div>\n",
              "<style scoped>\n",
              "    .dataframe tbody tr th:only-of-type {\n",
              "        vertical-align: middle;\n",
              "    }\n",
              "\n",
              "    .dataframe tbody tr th {\n",
              "        vertical-align: top;\n",
              "    }\n",
              "\n",
              "    .dataframe thead th {\n",
              "        text-align: right;\n",
              "    }\n",
              "</style>\n",
              "<table border=\"1\" class=\"dataframe\">\n",
              "  <thead>\n",
              "    <tr style=\"text-align: right;\">\n",
              "      <th></th>\n",
              "      <th>age</th>\n",
              "      <th>bmi</th>\n",
              "      <th>children</th>\n",
              "      <th>charges</th>\n",
              "      <th>sex_female</th>\n",
              "      <th>sex_male</th>\n",
              "      <th>smoker_no</th>\n",
              "      <th>smoker_yes</th>\n",
              "      <th>region_northeast</th>\n",
              "      <th>region_northwest</th>\n",
              "      <th>region_southeast</th>\n",
              "      <th>region_southwest</th>\n",
              "    </tr>\n",
              "  </thead>\n",
              "  <tbody>\n",
              "    <tr>\n",
              "      <th>0</th>\n",
              "      <td>19</td>\n",
              "      <td>27.900</td>\n",
              "      <td>0</td>\n",
              "      <td>16884.92400</td>\n",
              "      <td>1</td>\n",
              "      <td>0</td>\n",
              "      <td>0</td>\n",
              "      <td>1</td>\n",
              "      <td>0</td>\n",
              "      <td>0</td>\n",
              "      <td>0</td>\n",
              "      <td>1</td>\n",
              "    </tr>\n",
              "    <tr>\n",
              "      <th>1</th>\n",
              "      <td>18</td>\n",
              "      <td>33.770</td>\n",
              "      <td>1</td>\n",
              "      <td>1725.55230</td>\n",
              "      <td>0</td>\n",
              "      <td>1</td>\n",
              "      <td>1</td>\n",
              "      <td>0</td>\n",
              "      <td>0</td>\n",
              "      <td>0</td>\n",
              "      <td>1</td>\n",
              "      <td>0</td>\n",
              "    </tr>\n",
              "    <tr>\n",
              "      <th>2</th>\n",
              "      <td>28</td>\n",
              "      <td>33.000</td>\n",
              "      <td>3</td>\n",
              "      <td>4449.46200</td>\n",
              "      <td>0</td>\n",
              "      <td>1</td>\n",
              "      <td>1</td>\n",
              "      <td>0</td>\n",
              "      <td>0</td>\n",
              "      <td>0</td>\n",
              "      <td>1</td>\n",
              "      <td>0</td>\n",
              "    </tr>\n",
              "    <tr>\n",
              "      <th>3</th>\n",
              "      <td>33</td>\n",
              "      <td>22.705</td>\n",
              "      <td>0</td>\n",
              "      <td>21984.47061</td>\n",
              "      <td>0</td>\n",
              "      <td>1</td>\n",
              "      <td>1</td>\n",
              "      <td>0</td>\n",
              "      <td>0</td>\n",
              "      <td>1</td>\n",
              "      <td>0</td>\n",
              "      <td>0</td>\n",
              "    </tr>\n",
              "    <tr>\n",
              "      <th>4</th>\n",
              "      <td>32</td>\n",
              "      <td>28.880</td>\n",
              "      <td>0</td>\n",
              "      <td>3866.85520</td>\n",
              "      <td>0</td>\n",
              "      <td>1</td>\n",
              "      <td>1</td>\n",
              "      <td>0</td>\n",
              "      <td>0</td>\n",
              "      <td>1</td>\n",
              "      <td>0</td>\n",
              "      <td>0</td>\n",
              "    </tr>\n",
              "  </tbody>\n",
              "</table>\n",
              "</div>"
            ],
            "text/plain": [
              "   age     bmi  children  ...  region_northwest  region_southeast  region_southwest\n",
              "0   19  27.900         0  ...                 0                 0                 1\n",
              "1   18  33.770         1  ...                 0                 1                 0\n",
              "2   28  33.000         3  ...                 0                 1                 0\n",
              "3   33  22.705         0  ...                 1                 0                 0\n",
              "4   32  28.880         0  ...                 1                 0                 0\n",
              "\n",
              "[5 rows x 12 columns]"
            ]
          },
          "metadata": {
            "tags": []
          },
          "execution_count": 59
        }
      ]
    },
    {
      "cell_type": "code",
      "metadata": {
        "id": "QYc1nyaRfJS2"
      },
      "source": [
        "#Create X & Y values\n",
        "X = insaurance_onehot_encoding.drop('charges', axis=1)\n",
        "Y = insaurance_onehot_encoding['charges']"
      ],
      "execution_count": null,
      "outputs": []
    },
    {
      "cell_type": "code",
      "metadata": {
        "colab": {
          "base_uri": "https://localhost:8080/",
          "height": 205
        },
        "id": "Zpjs8ezqfWDS",
        "outputId": "ef3dd9e5-9f85-4b44-c484-7d8476b2f700"
      },
      "source": [
        "#view X values \n",
        "X.head()"
      ],
      "execution_count": null,
      "outputs": [
        {
          "output_type": "execute_result",
          "data": {
            "text/html": [
              "<div>\n",
              "<style scoped>\n",
              "    .dataframe tbody tr th:only-of-type {\n",
              "        vertical-align: middle;\n",
              "    }\n",
              "\n",
              "    .dataframe tbody tr th {\n",
              "        vertical-align: top;\n",
              "    }\n",
              "\n",
              "    .dataframe thead th {\n",
              "        text-align: right;\n",
              "    }\n",
              "</style>\n",
              "<table border=\"1\" class=\"dataframe\">\n",
              "  <thead>\n",
              "    <tr style=\"text-align: right;\">\n",
              "      <th></th>\n",
              "      <th>age</th>\n",
              "      <th>bmi</th>\n",
              "      <th>children</th>\n",
              "      <th>sex_female</th>\n",
              "      <th>sex_male</th>\n",
              "      <th>smoker_no</th>\n",
              "      <th>smoker_yes</th>\n",
              "      <th>region_northeast</th>\n",
              "      <th>region_northwest</th>\n",
              "      <th>region_southeast</th>\n",
              "      <th>region_southwest</th>\n",
              "    </tr>\n",
              "  </thead>\n",
              "  <tbody>\n",
              "    <tr>\n",
              "      <th>0</th>\n",
              "      <td>19</td>\n",
              "      <td>27.900</td>\n",
              "      <td>0</td>\n",
              "      <td>1</td>\n",
              "      <td>0</td>\n",
              "      <td>0</td>\n",
              "      <td>1</td>\n",
              "      <td>0</td>\n",
              "      <td>0</td>\n",
              "      <td>0</td>\n",
              "      <td>1</td>\n",
              "    </tr>\n",
              "    <tr>\n",
              "      <th>1</th>\n",
              "      <td>18</td>\n",
              "      <td>33.770</td>\n",
              "      <td>1</td>\n",
              "      <td>0</td>\n",
              "      <td>1</td>\n",
              "      <td>1</td>\n",
              "      <td>0</td>\n",
              "      <td>0</td>\n",
              "      <td>0</td>\n",
              "      <td>1</td>\n",
              "      <td>0</td>\n",
              "    </tr>\n",
              "    <tr>\n",
              "      <th>2</th>\n",
              "      <td>28</td>\n",
              "      <td>33.000</td>\n",
              "      <td>3</td>\n",
              "      <td>0</td>\n",
              "      <td>1</td>\n",
              "      <td>1</td>\n",
              "      <td>0</td>\n",
              "      <td>0</td>\n",
              "      <td>0</td>\n",
              "      <td>1</td>\n",
              "      <td>0</td>\n",
              "    </tr>\n",
              "    <tr>\n",
              "      <th>3</th>\n",
              "      <td>33</td>\n",
              "      <td>22.705</td>\n",
              "      <td>0</td>\n",
              "      <td>0</td>\n",
              "      <td>1</td>\n",
              "      <td>1</td>\n",
              "      <td>0</td>\n",
              "      <td>0</td>\n",
              "      <td>1</td>\n",
              "      <td>0</td>\n",
              "      <td>0</td>\n",
              "    </tr>\n",
              "    <tr>\n",
              "      <th>4</th>\n",
              "      <td>32</td>\n",
              "      <td>28.880</td>\n",
              "      <td>0</td>\n",
              "      <td>0</td>\n",
              "      <td>1</td>\n",
              "      <td>1</td>\n",
              "      <td>0</td>\n",
              "      <td>0</td>\n",
              "      <td>1</td>\n",
              "      <td>0</td>\n",
              "      <td>0</td>\n",
              "    </tr>\n",
              "  </tbody>\n",
              "</table>\n",
              "</div>"
            ],
            "text/plain": [
              "   age     bmi  children  ...  region_northwest  region_southeast  region_southwest\n",
              "0   19  27.900         0  ...                 0                 0                 1\n",
              "1   18  33.770         1  ...                 0                 1                 0\n",
              "2   28  33.000         3  ...                 0                 1                 0\n",
              "3   33  22.705         0  ...                 1                 0                 0\n",
              "4   32  28.880         0  ...                 1                 0                 0\n",
              "\n",
              "[5 rows x 11 columns]"
            ]
          },
          "metadata": {
            "tags": []
          },
          "execution_count": 61
        }
      ]
    },
    {
      "cell_type": "code",
      "metadata": {
        "colab": {
          "base_uri": "https://localhost:8080/"
        },
        "id": "k9efHggEfZc1",
        "outputId": "f9409e41-6d3b-47c0-b961-f97825415c3b"
      },
      "source": [
        "#View Y values\n",
        "Y.head()"
      ],
      "execution_count": null,
      "outputs": [
        {
          "output_type": "execute_result",
          "data": {
            "text/plain": [
              "0    16884.92400\n",
              "1     1725.55230\n",
              "2     4449.46200\n",
              "3    21984.47061\n",
              "4     3866.85520\n",
              "Name: charges, dtype: float64"
            ]
          },
          "metadata": {
            "tags": []
          },
          "execution_count": 62
        }
      ]
    },
    {
      "cell_type": "code",
      "metadata": {
        "colab": {
          "base_uri": "https://localhost:8080/"
        },
        "id": "pyGCZeiLfe1D",
        "outputId": "4188b1f2-fa4f-4c87-8636-26e57391a754"
      },
      "source": [
        "#Create training and testing sets\n",
        "from sklearn.model_selection import train_test_split\n",
        "\n",
        "X_train, X_test, y_train, y_test = train_test_split(X, Y, test_size=0.2, random_state=42)\n",
        "\n",
        "len(X), len(X_train), len(X_test)"
      ],
      "execution_count": null,
      "outputs": [
        {
          "output_type": "execute_result",
          "data": {
            "text/plain": [
              "(1338, 1070, 268)"
            ]
          },
          "metadata": {
            "tags": []
          },
          "execution_count": 63
        }
      ]
    },
    {
      "cell_type": "code",
      "metadata": {
        "colab": {
          "base_uri": "https://localhost:8080/"
        },
        "id": "FmlL4weJghOy",
        "outputId": "cfcd2f97-771b-4c55-c612-4dcf9c62e9f8"
      },
      "source": [
        "#lets createa a model \n",
        "\n",
        "# 1. Create model \n",
        "\n",
        "insaurance_model = tf.keras.Sequential([\n",
        "                          tf.keras.layers.Dense(50),\n",
        "                          tf.keras.layers.Dense(1)\n",
        "])\n",
        "\n",
        "#2. Compile model\n",
        "insaurance_model.compile(loss= tf.keras.losses.mae, \n",
        "                         optimizer = tf.keras.optimizers.SGD(),\n",
        "                         metrics=[\"mae\"])\n",
        "\n",
        "#3 Fit the model \n",
        "insaurance_model.fit(X_train, y_train, epochs=100)"
      ],
      "execution_count": null,
      "outputs": [
        {
          "output_type": "stream",
          "text": [
            "Epoch 1/100\n",
            "34/34 [==============================] - 0s 1ms/step - loss: 8629.0762 - mae: 8629.0762\n",
            "Epoch 2/100\n",
            "34/34 [==============================] - 0s 972us/step - loss: 7874.2749 - mae: 7874.2749\n",
            "Epoch 3/100\n",
            "34/34 [==============================] - 0s 1ms/step - loss: 7597.6318 - mae: 7597.6318\n",
            "Epoch 4/100\n",
            "34/34 [==============================] - 0s 1ms/step - loss: 7668.9697 - mae: 7668.9697\n",
            "Epoch 5/100\n",
            "34/34 [==============================] - 0s 1ms/step - loss: 7827.3857 - mae: 7827.3857\n",
            "Epoch 6/100\n",
            "34/34 [==============================] - 0s 1ms/step - loss: 7593.7544 - mae: 7593.7544\n",
            "Epoch 7/100\n",
            "34/34 [==============================] - 0s 1ms/step - loss: 7548.5156 - mae: 7548.5156\n",
            "Epoch 8/100\n",
            "34/34 [==============================] - 0s 1ms/step - loss: 7786.9980 - mae: 7786.9980\n",
            "Epoch 9/100\n",
            "34/34 [==============================] - 0s 1ms/step - loss: 7544.0161 - mae: 7544.0161\n",
            "Epoch 10/100\n",
            "34/34 [==============================] - 0s 1ms/step - loss: 7719.9243 - mae: 7719.9243\n",
            "Epoch 11/100\n",
            "34/34 [==============================] - 0s 1ms/step - loss: 7438.6558 - mae: 7438.6558\n",
            "Epoch 12/100\n",
            "34/34 [==============================] - 0s 1ms/step - loss: 7659.8027 - mae: 7659.8027\n",
            "Epoch 13/100\n",
            "34/34 [==============================] - 0s 1ms/step - loss: 7700.6353 - mae: 7700.6353\n",
            "Epoch 14/100\n",
            "34/34 [==============================] - 0s 1ms/step - loss: 7679.3740 - mae: 7679.3740\n",
            "Epoch 15/100\n",
            "34/34 [==============================] - 0s 1ms/step - loss: 7567.1060 - mae: 7567.1060\n",
            "Epoch 16/100\n",
            "34/34 [==============================] - 0s 1ms/step - loss: 7735.8984 - mae: 7735.8984\n",
            "Epoch 17/100\n",
            "34/34 [==============================] - 0s 1ms/step - loss: 7613.9473 - mae: 7613.9473\n",
            "Epoch 18/100\n",
            "34/34 [==============================] - 0s 1ms/step - loss: 7837.6992 - mae: 7837.6992\n",
            "Epoch 19/100\n",
            "34/34 [==============================] - 0s 1ms/step - loss: 7782.0840 - mae: 7782.0840\n",
            "Epoch 20/100\n",
            "34/34 [==============================] - 0s 1ms/step - loss: 7881.9897 - mae: 7881.9897\n",
            "Epoch 21/100\n",
            "34/34 [==============================] - 0s 1ms/step - loss: 7312.0239 - mae: 7312.0239\n",
            "Epoch 22/100\n",
            "34/34 [==============================] - 0s 1ms/step - loss: 7880.9497 - mae: 7880.9497\n",
            "Epoch 23/100\n",
            "34/34 [==============================] - 0s 1ms/step - loss: 7732.2090 - mae: 7732.2090\n",
            "Epoch 24/100\n",
            "34/34 [==============================] - 0s 1ms/step - loss: 7543.8677 - mae: 7543.8677\n",
            "Epoch 25/100\n",
            "34/34 [==============================] - 0s 1ms/step - loss: 7403.7129 - mae: 7403.7129\n",
            "Epoch 26/100\n",
            "34/34 [==============================] - 0s 1ms/step - loss: 7616.8555 - mae: 7616.8555\n",
            "Epoch 27/100\n",
            "34/34 [==============================] - 0s 1ms/step - loss: 7718.2075 - mae: 7718.2075\n",
            "Epoch 28/100\n",
            "34/34 [==============================] - 0s 1ms/step - loss: 7286.3828 - mae: 7286.3828\n",
            "Epoch 29/100\n",
            "34/34 [==============================] - 0s 1ms/step - loss: 7655.4199 - mae: 7655.4199\n",
            "Epoch 30/100\n",
            "34/34 [==============================] - 0s 1ms/step - loss: 7514.8911 - mae: 7514.8911\n",
            "Epoch 31/100\n",
            "34/34 [==============================] - 0s 1ms/step - loss: 7567.3179 - mae: 7567.3179\n",
            "Epoch 32/100\n",
            "34/34 [==============================] - 0s 1ms/step - loss: 7492.4639 - mae: 7492.4639\n",
            "Epoch 33/100\n",
            "34/34 [==============================] - 0s 1ms/step - loss: 7493.5166 - mae: 7493.5166\n",
            "Epoch 34/100\n",
            "34/34 [==============================] - 0s 1ms/step - loss: 7457.7163 - mae: 7457.7163\n",
            "Epoch 35/100\n",
            "34/34 [==============================] - 0s 1ms/step - loss: 7559.9839 - mae: 7559.9839\n",
            "Epoch 36/100\n",
            "34/34 [==============================] - 0s 1ms/step - loss: 7605.4727 - mae: 7605.4727\n",
            "Epoch 37/100\n",
            "34/34 [==============================] - 0s 1ms/step - loss: 7607.6924 - mae: 7607.6924\n",
            "Epoch 38/100\n",
            "34/34 [==============================] - 0s 1ms/step - loss: 7365.2212 - mae: 7365.2212\n",
            "Epoch 39/100\n",
            "34/34 [==============================] - 0s 1ms/step - loss: 7538.6196 - mae: 7538.6196\n",
            "Epoch 40/100\n",
            "34/34 [==============================] - 0s 1ms/step - loss: 7401.8672 - mae: 7401.8672\n",
            "Epoch 41/100\n",
            "34/34 [==============================] - 0s 1ms/step - loss: 7734.8198 - mae: 7734.8198\n",
            "Epoch 42/100\n",
            "34/34 [==============================] - 0s 1ms/step - loss: 7841.2280 - mae: 7841.2280\n",
            "Epoch 43/100\n",
            "34/34 [==============================] - 0s 2ms/step - loss: 7766.4292 - mae: 7766.4292\n",
            "Epoch 44/100\n",
            "34/34 [==============================] - 0s 1ms/step - loss: 7532.5796 - mae: 7532.5796\n",
            "Epoch 45/100\n",
            "34/34 [==============================] - 0s 1ms/step - loss: 7613.5312 - mae: 7613.5312\n",
            "Epoch 46/100\n",
            "34/34 [==============================] - 0s 1ms/step - loss: 7455.2075 - mae: 7455.2075\n",
            "Epoch 47/100\n",
            "34/34 [==============================] - 0s 1ms/step - loss: 7459.8169 - mae: 7459.8169\n",
            "Epoch 48/100\n",
            "34/34 [==============================] - 0s 1ms/step - loss: 7515.2856 - mae: 7515.2856\n",
            "Epoch 49/100\n",
            "34/34 [==============================] - 0s 1ms/step - loss: 7553.9238 - mae: 7553.9238\n",
            "Epoch 50/100\n",
            "34/34 [==============================] - 0s 1ms/step - loss: 7487.2212 - mae: 7487.2212\n",
            "Epoch 51/100\n",
            "34/34 [==============================] - 0s 1ms/step - loss: 7401.2822 - mae: 7401.2822\n",
            "Epoch 52/100\n",
            "34/34 [==============================] - 0s 1ms/step - loss: 7474.0308 - mae: 7474.0308\n",
            "Epoch 53/100\n",
            "34/34 [==============================] - 0s 1ms/step - loss: 7620.8843 - mae: 7620.8843\n",
            "Epoch 54/100\n",
            "34/34 [==============================] - 0s 1ms/step - loss: 7176.0996 - mae: 7176.0996\n",
            "Epoch 55/100\n",
            "34/34 [==============================] - 0s 1ms/step - loss: 7274.5708 - mae: 7274.5708\n",
            "Epoch 56/100\n",
            "34/34 [==============================] - 0s 1ms/step - loss: 7430.3984 - mae: 7430.3984\n",
            "Epoch 57/100\n",
            "34/34 [==============================] - 0s 1ms/step - loss: 7517.2217 - mae: 7517.2217\n",
            "Epoch 58/100\n",
            "34/34 [==============================] - 0s 1ms/step - loss: 7483.6904 - mae: 7483.6904\n",
            "Epoch 59/100\n",
            "34/34 [==============================] - 0s 1ms/step - loss: 7542.7104 - mae: 7542.7104\n",
            "Epoch 60/100\n",
            "34/34 [==============================] - 0s 1ms/step - loss: 7366.1826 - mae: 7366.1826\n",
            "Epoch 61/100\n",
            "34/34 [==============================] - 0s 1ms/step - loss: 7617.9961 - mae: 7617.9961\n",
            "Epoch 62/100\n",
            "34/34 [==============================] - 0s 1ms/step - loss: 7500.7974 - mae: 7500.7974\n",
            "Epoch 63/100\n",
            "34/34 [==============================] - 0s 1ms/step - loss: 7394.3926 - mae: 7394.3926\n",
            "Epoch 64/100\n",
            "34/34 [==============================] - 0s 1ms/step - loss: 7278.3936 - mae: 7278.3936\n",
            "Epoch 65/100\n",
            "34/34 [==============================] - 0s 1ms/step - loss: 7526.3726 - mae: 7526.3726\n",
            "Epoch 66/100\n",
            "34/34 [==============================] - 0s 1ms/step - loss: 7337.1704 - mae: 7337.1704\n",
            "Epoch 67/100\n",
            "34/34 [==============================] - 0s 1ms/step - loss: 7370.7661 - mae: 7370.7661\n",
            "Epoch 68/100\n",
            "34/34 [==============================] - 0s 1ms/step - loss: 7522.7080 - mae: 7522.7080\n",
            "Epoch 69/100\n",
            "34/34 [==============================] - 0s 1ms/step - loss: 7515.5923 - mae: 7515.5923\n",
            "Epoch 70/100\n",
            "34/34 [==============================] - 0s 1ms/step - loss: 7691.2910 - mae: 7691.2910\n",
            "Epoch 71/100\n",
            "34/34 [==============================] - 0s 1ms/step - loss: 7356.4233 - mae: 7356.4233\n",
            "Epoch 72/100\n",
            "34/34 [==============================] - 0s 1ms/step - loss: 7450.5195 - mae: 7450.5195\n",
            "Epoch 73/100\n",
            "34/34 [==============================] - 0s 1ms/step - loss: 7475.0273 - mae: 7475.0273\n",
            "Epoch 74/100\n",
            "34/34 [==============================] - 0s 1ms/step - loss: 7500.9731 - mae: 7500.9731\n",
            "Epoch 75/100\n",
            "34/34 [==============================] - 0s 1ms/step - loss: 7299.9326 - mae: 7299.9326\n",
            "Epoch 76/100\n",
            "34/34 [==============================] - 0s 1ms/step - loss: 7125.7446 - mae: 7125.7446\n",
            "Epoch 77/100\n",
            "34/34 [==============================] - 0s 1ms/step - loss: 7343.6572 - mae: 7343.6572\n",
            "Epoch 78/100\n",
            "34/34 [==============================] - 0s 1ms/step - loss: 7394.3037 - mae: 7394.3037\n",
            "Epoch 79/100\n",
            "34/34 [==============================] - 0s 1ms/step - loss: 7603.2402 - mae: 7603.2402\n",
            "Epoch 80/100\n",
            "34/34 [==============================] - 0s 1ms/step - loss: 7161.9150 - mae: 7161.9150\n",
            "Epoch 81/100\n",
            "34/34 [==============================] - 0s 1ms/step - loss: 7197.7949 - mae: 7197.7949\n",
            "Epoch 82/100\n",
            "34/34 [==============================] - 0s 1ms/step - loss: 7232.6772 - mae: 7232.6772\n",
            "Epoch 83/100\n",
            "34/34 [==============================] - 0s 1ms/step - loss: 7507.3252 - mae: 7507.3252\n",
            "Epoch 84/100\n",
            "34/34 [==============================] - 0s 1ms/step - loss: 7194.4858 - mae: 7194.4858\n",
            "Epoch 85/100\n",
            "34/34 [==============================] - 0s 1ms/step - loss: 7338.2363 - mae: 7338.2363\n",
            "Epoch 86/100\n",
            "34/34 [==============================] - 0s 1ms/step - loss: 7534.5864 - mae: 7534.5864\n",
            "Epoch 87/100\n",
            "34/34 [==============================] - 0s 1ms/step - loss: 7355.5596 - mae: 7355.5596\n",
            "Epoch 88/100\n",
            "34/34 [==============================] - 0s 1ms/step - loss: 7220.7788 - mae: 7220.7788\n",
            "Epoch 89/100\n",
            "34/34 [==============================] - 0s 1ms/step - loss: 7205.8989 - mae: 7205.8989\n",
            "Epoch 90/100\n",
            "34/34 [==============================] - 0s 1ms/step - loss: 7110.2808 - mae: 7110.2808\n",
            "Epoch 91/100\n",
            "34/34 [==============================] - 0s 1ms/step - loss: 7360.0605 - mae: 7360.0605\n",
            "Epoch 92/100\n",
            "34/34 [==============================] - 0s 1ms/step - loss: 7355.7036 - mae: 7355.7036\n",
            "Epoch 93/100\n",
            "34/34 [==============================] - 0s 1ms/step - loss: 7478.8926 - mae: 7478.8926\n",
            "Epoch 94/100\n",
            "34/34 [==============================] - 0s 2ms/step - loss: 7259.1006 - mae: 7259.1006\n",
            "Epoch 95/100\n",
            "34/34 [==============================] - 0s 1ms/step - loss: 7146.1992 - mae: 7146.1992\n",
            "Epoch 96/100\n",
            "34/34 [==============================] - 0s 1ms/step - loss: 7213.4297 - mae: 7213.4297\n",
            "Epoch 97/100\n",
            "34/34 [==============================] - 0s 1ms/step - loss: 7158.4995 - mae: 7158.4995\n",
            "Epoch 98/100\n",
            "34/34 [==============================] - 0s 1ms/step - loss: 7437.5605 - mae: 7437.5605\n",
            "Epoch 99/100\n",
            "34/34 [==============================] - 0s 1ms/step - loss: 7252.7632 - mae: 7252.7632\n",
            "Epoch 100/100\n",
            "34/34 [==============================] - 0s 1ms/step - loss: 7217.0049 - mae: 7217.0049\n"
          ],
          "name": "stdout"
        },
        {
          "output_type": "execute_result",
          "data": {
            "text/plain": [
              "<tensorflow.python.keras.callbacks.History at 0x7fe6d15eef90>"
            ]
          },
          "metadata": {
            "tags": []
          },
          "execution_count": 64
        }
      ]
    },
    {
      "cell_type": "code",
      "metadata": {
        "colab": {
          "base_uri": "https://localhost:8080/"
        },
        "id": "OzGlaoa8iNOf",
        "outputId": "7e7e127f-eb7f-4aba-afeb-8140ba0773ea"
      },
      "source": [
        "# Evaluate model \n",
        "\n",
        "insaurance_model.evaluate(X_test,y_test)"
      ],
      "execution_count": null,
      "outputs": [
        {
          "output_type": "stream",
          "text": [
            "9/9 [==============================] - 0s 2ms/step - loss: 6984.7109 - mae: 6984.7109\n"
          ],
          "name": "stdout"
        },
        {
          "output_type": "execute_result",
          "data": {
            "text/plain": [
              "[6984.7109375, 6984.7109375]"
            ]
          },
          "metadata": {
            "tags": []
          },
          "execution_count": 66
        }
      ]
    },
    {
      "cell_type": "markdown",
      "metadata": {
        "id": "Won-J6buijvC"
      },
      "source": [
        "\n",
        "Our model didn't performed well. Let's try and improve it.\n",
        "\n",
        "To imporve we will run 2 experiments: \n",
        "\n",
        "1. Add an extra layer with more hidden units\n",
        "2. Train for longer"
      ]
    },
    {
      "cell_type": "code",
      "metadata": {
        "colab": {
          "base_uri": "https://localhost:8080/"
        },
        "id": "bf7NqmZmiZEG",
        "outputId": "9113ba6a-9f6d-47d2-aba8-cbbc95005714"
      },
      "source": [
        "tf.random.set_seed(42)\n",
        "\n",
        "insaurance_model_two = tf.keras.Sequential([\n",
        "                          tf.keras.layers.Dense(100),\n",
        "                          tf.keras.layers.Dense(10),\n",
        "                          tf.keras.layers.Dense(1)\n",
        "])\n",
        "\n",
        "insaurance_model_two.compile(loss=tf.keras.losses.mae,\n",
        "                             optimizer = tf.keras.optimizers.Adam(learning_rate=0.003),\n",
        "                             metrics=[\"mae\"])\n",
        "\n",
        "insaurance_model_two.fit(X_train, y_train, epochs=100)"
      ],
      "execution_count": null,
      "outputs": [
        {
          "output_type": "stream",
          "text": [
            "Epoch 1/100\n",
            "34/34 [==============================] - 0s 1ms/step - loss: 13105.4668 - mae: 13105.4668\n",
            "Epoch 2/100\n",
            "34/34 [==============================] - 0s 1ms/step - loss: 11623.8945 - mae: 11623.8945\n",
            "Epoch 3/100\n",
            "34/34 [==============================] - 0s 1ms/step - loss: 8296.0234 - mae: 8296.0234\n",
            "Epoch 4/100\n",
            "34/34 [==============================] - 0s 1ms/step - loss: 7446.2319 - mae: 7446.2319\n",
            "Epoch 5/100\n",
            "34/34 [==============================] - 0s 1ms/step - loss: 7369.7656 - mae: 7369.7656\n",
            "Epoch 6/100\n",
            "34/34 [==============================] - 0s 1ms/step - loss: 7319.3213 - mae: 7319.3213\n",
            "Epoch 7/100\n",
            "34/34 [==============================] - 0s 1ms/step - loss: 7246.9741 - mae: 7246.9741\n",
            "Epoch 8/100\n",
            "34/34 [==============================] - 0s 2ms/step - loss: 7182.8457 - mae: 7182.8457\n",
            "Epoch 9/100\n",
            "34/34 [==============================] - 0s 1ms/step - loss: 7115.3027 - mae: 7115.3027\n",
            "Epoch 10/100\n",
            "34/34 [==============================] - 0s 1ms/step - loss: 7044.3750 - mae: 7044.3750\n",
            "Epoch 11/100\n",
            "34/34 [==============================] - 0s 1ms/step - loss: 6970.1636 - mae: 6970.1636\n",
            "Epoch 12/100\n",
            "34/34 [==============================] - 0s 1ms/step - loss: 6880.5552 - mae: 6880.5552\n",
            "Epoch 13/100\n",
            "34/34 [==============================] - 0s 1ms/step - loss: 6785.7207 - mae: 6785.7207\n",
            "Epoch 14/100\n",
            "34/34 [==============================] - 0s 1ms/step - loss: 6689.3247 - mae: 6689.3247\n",
            "Epoch 15/100\n",
            "34/34 [==============================] - 0s 1ms/step - loss: 6591.5581 - mae: 6591.5581\n",
            "Epoch 16/100\n",
            "34/34 [==============================] - 0s 2ms/step - loss: 6512.1602 - mae: 6512.1602\n",
            "Epoch 17/100\n",
            "34/34 [==============================] - 0s 1ms/step - loss: 6457.1777 - mae: 6457.1777\n",
            "Epoch 18/100\n",
            "34/34 [==============================] - 0s 1ms/step - loss: 6414.6938 - mae: 6414.6938\n",
            "Epoch 19/100\n",
            "34/34 [==============================] - 0s 1ms/step - loss: 6375.3071 - mae: 6375.3071\n",
            "Epoch 20/100\n",
            "34/34 [==============================] - 0s 1ms/step - loss: 6334.7871 - mae: 6334.7871\n",
            "Epoch 21/100\n",
            "34/34 [==============================] - 0s 2ms/step - loss: 6289.4580 - mae: 6289.4580\n",
            "Epoch 22/100\n",
            "34/34 [==============================] - 0s 1ms/step - loss: 6250.4839 - mae: 6250.4839\n",
            "Epoch 23/100\n",
            "34/34 [==============================] - 0s 1ms/step - loss: 6202.4839 - mae: 6202.4839\n",
            "Epoch 24/100\n",
            "34/34 [==============================] - 0s 1ms/step - loss: 6152.2788 - mae: 6152.2788\n",
            "Epoch 25/100\n",
            "34/34 [==============================] - 0s 2ms/step - loss: 6100.2319 - mae: 6100.2319\n",
            "Epoch 26/100\n",
            "34/34 [==============================] - 0s 2ms/step - loss: 6037.4458 - mae: 6037.4458\n",
            "Epoch 27/100\n",
            "34/34 [==============================] - 0s 1ms/step - loss: 5974.0537 - mae: 5974.0537\n",
            "Epoch 28/100\n",
            "34/34 [==============================] - 0s 1ms/step - loss: 5898.0186 - mae: 5898.0186\n",
            "Epoch 29/100\n",
            "34/34 [==============================] - 0s 1ms/step - loss: 5822.5366 - mae: 5822.5366\n",
            "Epoch 30/100\n",
            "34/34 [==============================] - 0s 1ms/step - loss: 5739.3467 - mae: 5739.3467\n",
            "Epoch 31/100\n",
            "34/34 [==============================] - 0s 1ms/step - loss: 5634.4849 - mae: 5634.4849\n",
            "Epoch 32/100\n",
            "34/34 [==============================] - 0s 1ms/step - loss: 5529.3291 - mae: 5529.3291\n",
            "Epoch 33/100\n",
            "34/34 [==============================] - 0s 1ms/step - loss: 5394.8853 - mae: 5394.8853\n",
            "Epoch 34/100\n",
            "34/34 [==============================] - 0s 1ms/step - loss: 5248.8145 - mae: 5248.8145\n",
            "Epoch 35/100\n",
            "34/34 [==============================] - 0s 1ms/step - loss: 5085.9785 - mae: 5085.9785\n",
            "Epoch 36/100\n",
            "34/34 [==============================] - 0s 1ms/step - loss: 4910.9375 - mae: 4910.9375\n",
            "Epoch 37/100\n",
            "34/34 [==============================] - 0s 1ms/step - loss: 4666.8716 - mae: 4666.8716\n",
            "Epoch 38/100\n",
            "34/34 [==============================] - 0s 1ms/step - loss: 4480.2578 - mae: 4480.2578\n",
            "Epoch 39/100\n",
            "34/34 [==============================] - 0s 1ms/step - loss: 4211.0288 - mae: 4211.0288\n",
            "Epoch 40/100\n",
            "34/34 [==============================] - 0s 1ms/step - loss: 4004.4468 - mae: 4004.4468\n",
            "Epoch 41/100\n",
            "34/34 [==============================] - 0s 2ms/step - loss: 3932.4883 - mae: 3932.4883\n",
            "Epoch 42/100\n",
            "34/34 [==============================] - 0s 1ms/step - loss: 3874.2693 - mae: 3874.2693\n",
            "Epoch 43/100\n",
            "34/34 [==============================] - 0s 1ms/step - loss: 3840.8604 - mae: 3840.8604\n",
            "Epoch 44/100\n",
            "34/34 [==============================] - 0s 1ms/step - loss: 3812.7651 - mae: 3812.7651\n",
            "Epoch 45/100\n",
            "34/34 [==============================] - 0s 2ms/step - loss: 3781.5095 - mae: 3781.5095\n",
            "Epoch 46/100\n",
            "34/34 [==============================] - 0s 1ms/step - loss: 3772.0928 - mae: 3772.0928\n",
            "Epoch 47/100\n",
            "34/34 [==============================] - 0s 1ms/step - loss: 3791.7124 - mae: 3791.7124\n",
            "Epoch 48/100\n",
            "34/34 [==============================] - 0s 1ms/step - loss: 3761.9004 - mae: 3761.9004\n",
            "Epoch 49/100\n",
            "34/34 [==============================] - 0s 1ms/step - loss: 3760.4514 - mae: 3760.4514\n",
            "Epoch 50/100\n",
            "34/34 [==============================] - 0s 1ms/step - loss: 3758.2266 - mae: 3758.2266\n",
            "Epoch 51/100\n",
            "34/34 [==============================] - 0s 1ms/step - loss: 3751.0293 - mae: 3751.0293\n",
            "Epoch 52/100\n",
            "34/34 [==============================] - 0s 2ms/step - loss: 3747.4177 - mae: 3747.4177\n",
            "Epoch 53/100\n",
            "34/34 [==============================] - 0s 1ms/step - loss: 3756.0339 - mae: 3756.0339\n",
            "Epoch 54/100\n",
            "34/34 [==============================] - 0s 1ms/step - loss: 3747.6570 - mae: 3747.6570\n",
            "Epoch 55/100\n",
            "34/34 [==============================] - 0s 1ms/step - loss: 3739.7324 - mae: 3739.7324\n",
            "Epoch 56/100\n",
            "34/34 [==============================] - 0s 1ms/step - loss: 3720.0771 - mae: 3720.0771\n",
            "Epoch 57/100\n",
            "34/34 [==============================] - 0s 1ms/step - loss: 3721.1860 - mae: 3721.1860\n",
            "Epoch 58/100\n",
            "34/34 [==============================] - 0s 1ms/step - loss: 3732.5359 - mae: 3732.5359\n",
            "Epoch 59/100\n",
            "34/34 [==============================] - 0s 1ms/step - loss: 3712.0676 - mae: 3712.0676\n",
            "Epoch 60/100\n",
            "34/34 [==============================] - 0s 1ms/step - loss: 3714.1670 - mae: 3714.1670\n",
            "Epoch 61/100\n",
            "34/34 [==============================] - 0s 1ms/step - loss: 3709.9551 - mae: 3709.9551\n",
            "Epoch 62/100\n",
            "34/34 [==============================] - 0s 1ms/step - loss: 3715.9417 - mae: 3715.9417\n",
            "Epoch 63/100\n",
            "34/34 [==============================] - 0s 1ms/step - loss: 3725.2090 - mae: 3725.2090\n",
            "Epoch 64/100\n",
            "34/34 [==============================] - 0s 1ms/step - loss: 3688.0295 - mae: 3688.0295\n",
            "Epoch 65/100\n",
            "34/34 [==============================] - 0s 1ms/step - loss: 3691.6038 - mae: 3691.6038\n",
            "Epoch 66/100\n",
            "34/34 [==============================] - 0s 1ms/step - loss: 3689.1704 - mae: 3689.1704\n",
            "Epoch 67/100\n",
            "34/34 [==============================] - 0s 1ms/step - loss: 3681.7429 - mae: 3681.7429\n",
            "Epoch 68/100\n",
            "34/34 [==============================] - 0s 1ms/step - loss: 3686.7268 - mae: 3686.7268\n",
            "Epoch 69/100\n",
            "34/34 [==============================] - 0s 1ms/step - loss: 3676.2351 - mae: 3676.2351\n",
            "Epoch 70/100\n",
            "34/34 [==============================] - 0s 1ms/step - loss: 3668.6479 - mae: 3668.6479\n",
            "Epoch 71/100\n",
            "34/34 [==============================] - 0s 1ms/step - loss: 3662.0081 - mae: 3662.0081\n",
            "Epoch 72/100\n",
            "34/34 [==============================] - 0s 1ms/step - loss: 3658.2461 - mae: 3658.2461\n",
            "Epoch 73/100\n",
            "34/34 [==============================] - 0s 1ms/step - loss: 3655.3291 - mae: 3655.3291\n",
            "Epoch 74/100\n",
            "34/34 [==============================] - 0s 1ms/step - loss: 3681.4771 - mae: 3681.4771\n",
            "Epoch 75/100\n",
            "34/34 [==============================] - 0s 1ms/step - loss: 3657.3875 - mae: 3657.3875\n",
            "Epoch 76/100\n",
            "34/34 [==============================] - 0s 1ms/step - loss: 3663.2354 - mae: 3663.2354\n",
            "Epoch 77/100\n",
            "34/34 [==============================] - 0s 1ms/step - loss: 3633.6006 - mae: 3633.6006\n",
            "Epoch 78/100\n",
            "34/34 [==============================] - 0s 2ms/step - loss: 3646.2068 - mae: 3646.2068\n",
            "Epoch 79/100\n",
            "34/34 [==============================] - 0s 1ms/step - loss: 3649.1604 - mae: 3649.1604\n",
            "Epoch 80/100\n",
            "34/34 [==============================] - 0s 2ms/step - loss: 3643.7932 - mae: 3643.7932\n",
            "Epoch 81/100\n",
            "34/34 [==============================] - 0s 1ms/step - loss: 3638.8162 - mae: 3638.8162\n",
            "Epoch 82/100\n",
            "34/34 [==============================] - 0s 2ms/step - loss: 3653.5325 - mae: 3653.5325\n",
            "Epoch 83/100\n",
            "34/34 [==============================] - 0s 1ms/step - loss: 3621.6892 - mae: 3621.6892\n",
            "Epoch 84/100\n",
            "34/34 [==============================] - 0s 1ms/step - loss: 3661.8276 - mae: 3661.8276\n",
            "Epoch 85/100\n",
            "34/34 [==============================] - 0s 1ms/step - loss: 3605.3892 - mae: 3605.3892\n",
            "Epoch 86/100\n",
            "34/34 [==============================] - 0s 1ms/step - loss: 3615.5679 - mae: 3615.5679\n",
            "Epoch 87/100\n",
            "34/34 [==============================] - 0s 1ms/step - loss: 3588.6099 - mae: 3588.6099\n",
            "Epoch 88/100\n",
            "34/34 [==============================] - 0s 1ms/step - loss: 3595.3296 - mae: 3595.3296\n",
            "Epoch 89/100\n",
            "34/34 [==============================] - 0s 1ms/step - loss: 3586.0886 - mae: 3586.0886\n",
            "Epoch 90/100\n",
            "34/34 [==============================] - 0s 1ms/step - loss: 3589.1548 - mae: 3589.1548\n",
            "Epoch 91/100\n",
            "34/34 [==============================] - 0s 1ms/step - loss: 3584.0049 - mae: 3584.0049\n",
            "Epoch 92/100\n",
            "34/34 [==============================] - 0s 2ms/step - loss: 3596.1338 - mae: 3596.1338\n",
            "Epoch 93/100\n",
            "34/34 [==============================] - 0s 2ms/step - loss: 3594.4602 - mae: 3594.4602\n",
            "Epoch 94/100\n",
            "34/34 [==============================] - 0s 2ms/step - loss: 3557.3359 - mae: 3557.3359\n",
            "Epoch 95/100\n",
            "34/34 [==============================] - 0s 2ms/step - loss: 3557.2004 - mae: 3557.2004\n",
            "Epoch 96/100\n",
            "34/34 [==============================] - 0s 1ms/step - loss: 3584.2161 - mae: 3584.2161\n",
            "Epoch 97/100\n",
            "34/34 [==============================] - 0s 1ms/step - loss: 3563.1711 - mae: 3563.1711\n",
            "Epoch 98/100\n",
            "34/34 [==============================] - 0s 1ms/step - loss: 3589.6604 - mae: 3589.6604\n",
            "Epoch 99/100\n",
            "34/34 [==============================] - 0s 1ms/step - loss: 3575.2085 - mae: 3575.2085\n",
            "Epoch 100/100\n",
            "34/34 [==============================] - 0s 1ms/step - loss: 3540.9558 - mae: 3540.9558\n"
          ],
          "name": "stdout"
        },
        {
          "output_type": "execute_result",
          "data": {
            "text/plain": [
              "<tensorflow.python.keras.callbacks.History at 0x7fe6e0ed9990>"
            ]
          },
          "metadata": {
            "tags": []
          },
          "execution_count": 68
        }
      ]
    },
    {
      "cell_type": "code",
      "metadata": {
        "colab": {
          "base_uri": "https://localhost:8080/"
        },
        "id": "VAHEsq41jtKH",
        "outputId": "82fa340f-8577-47e3-9e08-1fb6fef3018f"
      },
      "source": [
        "#Evaluate the model \n",
        "insaurance_model_two.evaluate(X_test,y_test)"
      ],
      "execution_count": null,
      "outputs": [
        {
          "output_type": "stream",
          "text": [
            "9/9 [==============================] - 0s 3ms/step - loss: 3245.8386 - mae: 3245.8386\n"
          ],
          "name": "stdout"
        },
        {
          "output_type": "execute_result",
          "data": {
            "text/plain": [
              "[3245.838623046875, 3245.838623046875]"
            ]
          },
          "metadata": {
            "tags": []
          },
          "execution_count": 69
        }
      ]
    },
    {
      "cell_type": "markdown",
      "metadata": {
        "id": "aetqhH48k3I6"
      },
      "source": [
        "#### Insaurance model 3 with same as above arhitechture but more epochs \n",
        "\n"
      ]
    },
    {
      "cell_type": "code",
      "metadata": {
        "colab": {
          "base_uri": "https://localhost:8080/"
        },
        "id": "vN341T4QlAdw",
        "outputId": "e17388eb-4d4a-4a18-f7c8-6cd1914c6604"
      },
      "source": [
        "#Create a model\n",
        "\n",
        "tf.random.set_seed(42)\n",
        "\n",
        "insaurance_model_three = tf.keras.Sequential([\n",
        "                                              tf.keras.layers.Dense(100),\n",
        "                                              tf.keras.layers.Dense(10),\n",
        "                                              tf.keras.layers.Dense(1)\n",
        "])\n",
        "\n",
        "insaurance_model_three.compile(loss = tf.keras.losses.mae,\n",
        "                               optimizer= tf.keras.optimizers.Adam(learning_rate=0.003),\n",
        "                               metrics=[\"mae\"])\n",
        "\n",
        "history = insaurance_model_three.fit(X_train, y_train, epochs=200)"
      ],
      "execution_count": null,
      "outputs": [
        {
          "output_type": "stream",
          "text": [
            "Epoch 1/200\n",
            "34/34 [==============================] - 0s 1ms/step - loss: 13105.4668 - mae: 13105.4668\n",
            "Epoch 2/200\n",
            "34/34 [==============================] - 0s 1ms/step - loss: 11623.8945 - mae: 11623.8945\n",
            "Epoch 3/200\n",
            "34/34 [==============================] - 0s 1ms/step - loss: 8296.0234 - mae: 8296.0234\n",
            "Epoch 4/200\n",
            "34/34 [==============================] - 0s 1ms/step - loss: 7446.2319 - mae: 7446.2319\n",
            "Epoch 5/200\n",
            "34/34 [==============================] - 0s 1ms/step - loss: 7369.7656 - mae: 7369.7656\n",
            "Epoch 6/200\n",
            "34/34 [==============================] - 0s 1ms/step - loss: 7319.3213 - mae: 7319.3213\n",
            "Epoch 7/200\n",
            "34/34 [==============================] - 0s 1ms/step - loss: 7246.9741 - mae: 7246.9741\n",
            "Epoch 8/200\n",
            "34/34 [==============================] - 0s 2ms/step - loss: 7182.8457 - mae: 7182.8457\n",
            "Epoch 9/200\n",
            "34/34 [==============================] - 0s 1ms/step - loss: 7115.3027 - mae: 7115.3027\n",
            "Epoch 10/200\n",
            "34/34 [==============================] - 0s 2ms/step - loss: 7044.3750 - mae: 7044.3750\n",
            "Epoch 11/200\n",
            "34/34 [==============================] - 0s 2ms/step - loss: 6970.1636 - mae: 6970.1636\n",
            "Epoch 12/200\n",
            "34/34 [==============================] - 0s 1ms/step - loss: 6880.5552 - mae: 6880.5552\n",
            "Epoch 13/200\n",
            "34/34 [==============================] - 0s 1ms/step - loss: 6785.7207 - mae: 6785.7207\n",
            "Epoch 14/200\n",
            "34/34 [==============================] - 0s 2ms/step - loss: 6689.3247 - mae: 6689.3247\n",
            "Epoch 15/200\n",
            "34/34 [==============================] - 0s 2ms/step - loss: 6591.5581 - mae: 6591.5581\n",
            "Epoch 16/200\n",
            "34/34 [==============================] - 0s 1ms/step - loss: 6512.1602 - mae: 6512.1602\n",
            "Epoch 17/200\n",
            "34/34 [==============================] - 0s 2ms/step - loss: 6457.1777 - mae: 6457.1777\n",
            "Epoch 18/200\n",
            "34/34 [==============================] - 0s 2ms/step - loss: 6414.6938 - mae: 6414.6938\n",
            "Epoch 19/200\n",
            "34/34 [==============================] - 0s 1ms/step - loss: 6375.3071 - mae: 6375.3071\n",
            "Epoch 20/200\n",
            "34/34 [==============================] - 0s 1ms/step - loss: 6334.7871 - mae: 6334.7871\n",
            "Epoch 21/200\n",
            "34/34 [==============================] - 0s 1ms/step - loss: 6289.4580 - mae: 6289.4580\n",
            "Epoch 22/200\n",
            "34/34 [==============================] - 0s 1ms/step - loss: 6250.4839 - mae: 6250.4839\n",
            "Epoch 23/200\n",
            "34/34 [==============================] - 0s 1ms/step - loss: 6202.4839 - mae: 6202.4839\n",
            "Epoch 24/200\n",
            "34/34 [==============================] - 0s 1ms/step - loss: 6152.2788 - mae: 6152.2788\n",
            "Epoch 25/200\n",
            "34/34 [==============================] - 0s 1ms/step - loss: 6100.2319 - mae: 6100.2319\n",
            "Epoch 26/200\n",
            "34/34 [==============================] - 0s 1ms/step - loss: 6037.4458 - mae: 6037.4458\n",
            "Epoch 27/200\n",
            "34/34 [==============================] - 0s 1ms/step - loss: 5974.0537 - mae: 5974.0537\n",
            "Epoch 28/200\n",
            "34/34 [==============================] - 0s 1ms/step - loss: 5898.0186 - mae: 5898.0186\n",
            "Epoch 29/200\n",
            "34/34 [==============================] - 0s 2ms/step - loss: 5822.5366 - mae: 5822.5366\n",
            "Epoch 30/200\n",
            "34/34 [==============================] - 0s 1ms/step - loss: 5739.3467 - mae: 5739.3467\n",
            "Epoch 31/200\n",
            "34/34 [==============================] - 0s 1ms/step - loss: 5634.4849 - mae: 5634.4849\n",
            "Epoch 32/200\n",
            "34/34 [==============================] - 0s 1ms/step - loss: 5529.3291 - mae: 5529.3291\n",
            "Epoch 33/200\n",
            "34/34 [==============================] - 0s 2ms/step - loss: 5394.8853 - mae: 5394.8853\n",
            "Epoch 34/200\n",
            "34/34 [==============================] - 0s 1ms/step - loss: 5248.8145 - mae: 5248.8145\n",
            "Epoch 35/200\n",
            "34/34 [==============================] - 0s 2ms/step - loss: 5085.9785 - mae: 5085.9785\n",
            "Epoch 36/200\n",
            "34/34 [==============================] - 0s 2ms/step - loss: 4910.9375 - mae: 4910.9375\n",
            "Epoch 37/200\n",
            "34/34 [==============================] - 0s 2ms/step - loss: 4666.8716 - mae: 4666.8716\n",
            "Epoch 38/200\n",
            "34/34 [==============================] - 0s 2ms/step - loss: 4480.2578 - mae: 4480.2578\n",
            "Epoch 39/200\n",
            "34/34 [==============================] - 0s 1ms/step - loss: 4211.0288 - mae: 4211.0288\n",
            "Epoch 40/200\n",
            "34/34 [==============================] - 0s 1ms/step - loss: 4004.4468 - mae: 4004.4468\n",
            "Epoch 41/200\n",
            "34/34 [==============================] - 0s 1ms/step - loss: 3932.4883 - mae: 3932.4883\n",
            "Epoch 42/200\n",
            "34/34 [==============================] - 0s 1ms/step - loss: 3874.2693 - mae: 3874.2693\n",
            "Epoch 43/200\n",
            "34/34 [==============================] - 0s 1ms/step - loss: 3840.8604 - mae: 3840.8604\n",
            "Epoch 44/200\n",
            "34/34 [==============================] - 0s 1ms/step - loss: 3812.7651 - mae: 3812.7651\n",
            "Epoch 45/200\n",
            "34/34 [==============================] - 0s 1ms/step - loss: 3781.5095 - mae: 3781.5095\n",
            "Epoch 46/200\n",
            "34/34 [==============================] - 0s 1ms/step - loss: 3772.0928 - mae: 3772.0928\n",
            "Epoch 47/200\n",
            "34/34 [==============================] - 0s 2ms/step - loss: 3791.7124 - mae: 3791.7124\n",
            "Epoch 48/200\n",
            "34/34 [==============================] - 0s 1ms/step - loss: 3761.9004 - mae: 3761.9004\n",
            "Epoch 49/200\n",
            "34/34 [==============================] - 0s 1ms/step - loss: 3760.4514 - mae: 3760.4514\n",
            "Epoch 50/200\n",
            "34/34 [==============================] - 0s 1ms/step - loss: 3758.2266 - mae: 3758.2266\n",
            "Epoch 51/200\n",
            "34/34 [==============================] - 0s 1ms/step - loss: 3751.0293 - mae: 3751.0293\n",
            "Epoch 52/200\n",
            "34/34 [==============================] - 0s 1ms/step - loss: 3747.4177 - mae: 3747.4177\n",
            "Epoch 53/200\n",
            "34/34 [==============================] - 0s 1ms/step - loss: 3756.0339 - mae: 3756.0339\n",
            "Epoch 54/200\n",
            "34/34 [==============================] - 0s 1ms/step - loss: 3747.6570 - mae: 3747.6570\n",
            "Epoch 55/200\n",
            "34/34 [==============================] - 0s 1ms/step - loss: 3739.7324 - mae: 3739.7324\n",
            "Epoch 56/200\n",
            "34/34 [==============================] - 0s 2ms/step - loss: 3720.0771 - mae: 3720.0771\n",
            "Epoch 57/200\n",
            "34/34 [==============================] - 0s 1ms/step - loss: 3721.1860 - mae: 3721.1860\n",
            "Epoch 58/200\n",
            "34/34 [==============================] - 0s 2ms/step - loss: 3732.5359 - mae: 3732.5359\n",
            "Epoch 59/200\n",
            "34/34 [==============================] - 0s 1ms/step - loss: 3712.0676 - mae: 3712.0676\n",
            "Epoch 60/200\n",
            "34/34 [==============================] - 0s 2ms/step - loss: 3714.1670 - mae: 3714.1670\n",
            "Epoch 61/200\n",
            "34/34 [==============================] - 0s 1ms/step - loss: 3709.9551 - mae: 3709.9551\n",
            "Epoch 62/200\n",
            "34/34 [==============================] - 0s 1ms/step - loss: 3715.9417 - mae: 3715.9417\n",
            "Epoch 63/200\n",
            "34/34 [==============================] - 0s 1ms/step - loss: 3725.2090 - mae: 3725.2090\n",
            "Epoch 64/200\n",
            "34/34 [==============================] - 0s 1ms/step - loss: 3688.0295 - mae: 3688.0295\n",
            "Epoch 65/200\n",
            "34/34 [==============================] - 0s 2ms/step - loss: 3691.6038 - mae: 3691.6038\n",
            "Epoch 66/200\n",
            "34/34 [==============================] - 0s 1ms/step - loss: 3689.1704 - mae: 3689.1704\n",
            "Epoch 67/200\n",
            "34/34 [==============================] - 0s 1ms/step - loss: 3681.7429 - mae: 3681.7429\n",
            "Epoch 68/200\n",
            "34/34 [==============================] - 0s 1ms/step - loss: 3686.7268 - mae: 3686.7268\n",
            "Epoch 69/200\n",
            "34/34 [==============================] - 0s 2ms/step - loss: 3676.2351 - mae: 3676.2351\n",
            "Epoch 70/200\n",
            "34/34 [==============================] - 0s 1ms/step - loss: 3668.6479 - mae: 3668.6479\n",
            "Epoch 71/200\n",
            "34/34 [==============================] - 0s 1ms/step - loss: 3662.0081 - mae: 3662.0081\n",
            "Epoch 72/200\n",
            "34/34 [==============================] - 0s 1ms/step - loss: 3658.2461 - mae: 3658.2461\n",
            "Epoch 73/200\n",
            "34/34 [==============================] - 0s 1ms/step - loss: 3655.3291 - mae: 3655.3291\n",
            "Epoch 74/200\n",
            "34/34 [==============================] - 0s 1ms/step - loss: 3681.4771 - mae: 3681.4771\n",
            "Epoch 75/200\n",
            "34/34 [==============================] - 0s 1ms/step - loss: 3657.3875 - mae: 3657.3875\n",
            "Epoch 76/200\n",
            "34/34 [==============================] - 0s 1ms/step - loss: 3663.2354 - mae: 3663.2354\n",
            "Epoch 77/200\n",
            "34/34 [==============================] - 0s 1ms/step - loss: 3633.6006 - mae: 3633.6006\n",
            "Epoch 78/200\n",
            "34/34 [==============================] - 0s 2ms/step - loss: 3646.2068 - mae: 3646.2068\n",
            "Epoch 79/200\n",
            "34/34 [==============================] - 0s 1ms/step - loss: 3649.1604 - mae: 3649.1604\n",
            "Epoch 80/200\n",
            "34/34 [==============================] - 0s 1ms/step - loss: 3643.7932 - mae: 3643.7932\n",
            "Epoch 81/200\n",
            "34/34 [==============================] - 0s 1ms/step - loss: 3638.8162 - mae: 3638.8162\n",
            "Epoch 82/200\n",
            "34/34 [==============================] - 0s 1ms/step - loss: 3653.5325 - mae: 3653.5325\n",
            "Epoch 83/200\n",
            "34/34 [==============================] - 0s 2ms/step - loss: 3621.6892 - mae: 3621.6892\n",
            "Epoch 84/200\n",
            "34/34 [==============================] - 0s 1ms/step - loss: 3661.8276 - mae: 3661.8276\n",
            "Epoch 85/200\n",
            "34/34 [==============================] - 0s 2ms/step - loss: 3605.3892 - mae: 3605.3892\n",
            "Epoch 86/200\n",
            "34/34 [==============================] - 0s 2ms/step - loss: 3615.5679 - mae: 3615.5679\n",
            "Epoch 87/200\n",
            "34/34 [==============================] - 0s 1ms/step - loss: 3588.6099 - mae: 3588.6099\n",
            "Epoch 88/200\n",
            "34/34 [==============================] - 0s 1ms/step - loss: 3595.3296 - mae: 3595.3296\n",
            "Epoch 89/200\n",
            "34/34 [==============================] - 0s 1ms/step - loss: 3586.0886 - mae: 3586.0886\n",
            "Epoch 90/200\n",
            "34/34 [==============================] - 0s 1ms/step - loss: 3589.1548 - mae: 3589.1548\n",
            "Epoch 91/200\n",
            "34/34 [==============================] - 0s 2ms/step - loss: 3584.0049 - mae: 3584.0049\n",
            "Epoch 92/200\n",
            "34/34 [==============================] - 0s 2ms/step - loss: 3596.1338 - mae: 3596.1338\n",
            "Epoch 93/200\n",
            "34/34 [==============================] - 0s 1ms/step - loss: 3594.4602 - mae: 3594.4602\n",
            "Epoch 94/200\n",
            "34/34 [==============================] - 0s 1ms/step - loss: 3557.3359 - mae: 3557.3359\n",
            "Epoch 95/200\n",
            "34/34 [==============================] - 0s 1ms/step - loss: 3557.2004 - mae: 3557.2004\n",
            "Epoch 96/200\n",
            "34/34 [==============================] - 0s 2ms/step - loss: 3584.2161 - mae: 3584.2161\n",
            "Epoch 97/200\n",
            "34/34 [==============================] - 0s 1ms/step - loss: 3563.1711 - mae: 3563.1711\n",
            "Epoch 98/200\n",
            "34/34 [==============================] - 0s 1ms/step - loss: 3589.6604 - mae: 3589.6604\n",
            "Epoch 99/200\n",
            "34/34 [==============================] - 0s 1ms/step - loss: 3575.2085 - mae: 3575.2085\n",
            "Epoch 100/200\n",
            "34/34 [==============================] - 0s 2ms/step - loss: 3540.9558 - mae: 3540.9558\n",
            "Epoch 101/200\n",
            "34/34 [==============================] - 0s 1ms/step - loss: 3612.2324 - mae: 3612.2324\n",
            "Epoch 102/200\n",
            "34/34 [==============================] - 0s 1ms/step - loss: 3562.6658 - mae: 3562.6658\n",
            "Epoch 103/200\n",
            "34/34 [==============================] - 0s 1ms/step - loss: 3543.7200 - mae: 3543.7200\n",
            "Epoch 104/200\n",
            "34/34 [==============================] - 0s 1ms/step - loss: 3535.9917 - mae: 3535.9917\n",
            "Epoch 105/200\n",
            "34/34 [==============================] - 0s 2ms/step - loss: 3537.8340 - mae: 3537.8340\n",
            "Epoch 106/200\n",
            "34/34 [==============================] - 0s 2ms/step - loss: 3543.8276 - mae: 3543.8276\n",
            "Epoch 107/200\n",
            "34/34 [==============================] - 0s 2ms/step - loss: 3507.1292 - mae: 3507.1292\n",
            "Epoch 108/200\n",
            "34/34 [==============================] - 0s 1ms/step - loss: 3509.9775 - mae: 3509.9775\n",
            "Epoch 109/200\n",
            "34/34 [==============================] - 0s 1ms/step - loss: 3598.2424 - mae: 3598.2424\n",
            "Epoch 110/200\n",
            "34/34 [==============================] - 0s 1ms/step - loss: 3503.4226 - mae: 3503.4226\n",
            "Epoch 111/200\n",
            "34/34 [==============================] - 0s 2ms/step - loss: 3519.4202 - mae: 3519.4202\n",
            "Epoch 112/200\n",
            "34/34 [==============================] - 0s 2ms/step - loss: 3518.8413 - mae: 3518.8413\n",
            "Epoch 113/200\n",
            "34/34 [==============================] - 0s 2ms/step - loss: 3567.4570 - mae: 3567.4570\n",
            "Epoch 114/200\n",
            "34/34 [==============================] - 0s 1ms/step - loss: 3509.9360 - mae: 3509.9360\n",
            "Epoch 115/200\n",
            "34/34 [==============================] - 0s 1ms/step - loss: 3525.1741 - mae: 3525.1741\n",
            "Epoch 116/200\n",
            "34/34 [==============================] - 0s 1ms/step - loss: 3551.8613 - mae: 3551.8613\n",
            "Epoch 117/200\n",
            "34/34 [==============================] - 0s 2ms/step - loss: 3491.5088 - mae: 3491.5088\n",
            "Epoch 118/200\n",
            "34/34 [==============================] - 0s 2ms/step - loss: 3498.2676 - mae: 3498.2676\n",
            "Epoch 119/200\n",
            "34/34 [==============================] - 0s 1ms/step - loss: 3497.9492 - mae: 3497.9492\n",
            "Epoch 120/200\n",
            "34/34 [==============================] - 0s 1ms/step - loss: 3489.8892 - mae: 3489.8892\n",
            "Epoch 121/200\n",
            "34/34 [==============================] - 0s 1ms/step - loss: 3482.3821 - mae: 3482.3821\n",
            "Epoch 122/200\n",
            "34/34 [==============================] - 0s 2ms/step - loss: 3493.1721 - mae: 3493.1721\n",
            "Epoch 123/200\n",
            "34/34 [==============================] - 0s 2ms/step - loss: 3500.8909 - mae: 3500.8909\n",
            "Epoch 124/200\n",
            "34/34 [==============================] - 0s 1ms/step - loss: 3532.3291 - mae: 3532.3291\n",
            "Epoch 125/200\n",
            "34/34 [==============================] - 0s 1ms/step - loss: 3506.0366 - mae: 3506.0366\n",
            "Epoch 126/200\n",
            "34/34 [==============================] - 0s 1ms/step - loss: 3485.8987 - mae: 3485.8987\n",
            "Epoch 127/200\n",
            "34/34 [==============================] - 0s 2ms/step - loss: 3488.8474 - mae: 3488.8474\n",
            "Epoch 128/200\n",
            "34/34 [==============================] - 0s 1ms/step - loss: 3549.3157 - mae: 3549.3157\n",
            "Epoch 129/200\n",
            "34/34 [==============================] - 0s 2ms/step - loss: 3518.6287 - mae: 3518.6287\n",
            "Epoch 130/200\n",
            "34/34 [==============================] - 0s 1ms/step - loss: 3552.0950 - mae: 3552.0950\n",
            "Epoch 131/200\n",
            "34/34 [==============================] - 0s 2ms/step - loss: 3482.5645 - mae: 3482.5645\n",
            "Epoch 132/200\n",
            "34/34 [==============================] - 0s 1ms/step - loss: 3511.5793 - mae: 3511.5793\n",
            "Epoch 133/200\n",
            "34/34 [==============================] - 0s 2ms/step - loss: 3495.7615 - mae: 3495.7615\n",
            "Epoch 134/200\n",
            "34/34 [==============================] - 0s 2ms/step - loss: 3482.6626 - mae: 3482.6626\n",
            "Epoch 135/200\n",
            "34/34 [==============================] - 0s 1ms/step - loss: 3499.0229 - mae: 3499.0229\n",
            "Epoch 136/200\n",
            "34/34 [==============================] - 0s 1ms/step - loss: 3480.8750 - mae: 3480.8750\n",
            "Epoch 137/200\n",
            "34/34 [==============================] - 0s 1ms/step - loss: 3502.5100 - mae: 3502.5100\n",
            "Epoch 138/200\n",
            "34/34 [==============================] - 0s 1ms/step - loss: 3502.2039 - mae: 3502.2039\n",
            "Epoch 139/200\n",
            "34/34 [==============================] - 0s 2ms/step - loss: 3511.3728 - mae: 3511.3728\n",
            "Epoch 140/200\n",
            "34/34 [==============================] - 0s 1ms/step - loss: 3498.1399 - mae: 3498.1399\n",
            "Epoch 141/200\n",
            "34/34 [==============================] - 0s 1ms/step - loss: 3499.3875 - mae: 3499.3875\n",
            "Epoch 142/200\n",
            "34/34 [==============================] - 0s 1ms/step - loss: 3508.8811 - mae: 3508.8811\n",
            "Epoch 143/200\n",
            "34/34 [==============================] - 0s 1ms/step - loss: 3481.2644 - mae: 3481.2644\n",
            "Epoch 144/200\n",
            "34/34 [==============================] - 0s 1ms/step - loss: 3488.5298 - mae: 3488.5298\n",
            "Epoch 145/200\n",
            "34/34 [==============================] - 0s 1ms/step - loss: 3495.9973 - mae: 3495.9973\n",
            "Epoch 146/200\n",
            "34/34 [==============================] - 0s 1ms/step - loss: 3479.5291 - mae: 3479.5291\n",
            "Epoch 147/200\n",
            "34/34 [==============================] - 0s 1ms/step - loss: 3529.2729 - mae: 3529.2729\n",
            "Epoch 148/200\n",
            "34/34 [==============================] - 0s 2ms/step - loss: 3492.7300 - mae: 3492.7300\n",
            "Epoch 149/200\n",
            "34/34 [==============================] - 0s 1ms/step - loss: 3492.1318 - mae: 3492.1318\n",
            "Epoch 150/200\n",
            "34/34 [==============================] - 0s 1ms/step - loss: 3494.2996 - mae: 3494.2996\n",
            "Epoch 151/200\n",
            "34/34 [==============================] - 0s 1ms/step - loss: 3515.9058 - mae: 3515.9058\n",
            "Epoch 152/200\n",
            "34/34 [==============================] - 0s 2ms/step - loss: 3539.0952 - mae: 3539.0952\n",
            "Epoch 153/200\n",
            "34/34 [==============================] - 0s 1ms/step - loss: 3514.3433 - mae: 3514.3433\n",
            "Epoch 154/200\n",
            "34/34 [==============================] - 0s 1ms/step - loss: 3499.1228 - mae: 3499.1228\n",
            "Epoch 155/200\n",
            "34/34 [==============================] - 0s 1ms/step - loss: 3491.6470 - mae: 3491.6470\n",
            "Epoch 156/200\n",
            "34/34 [==============================] - 0s 2ms/step - loss: 3489.0168 - mae: 3489.0168\n",
            "Epoch 157/200\n",
            "34/34 [==============================] - 0s 1ms/step - loss: 3488.6191 - mae: 3488.6191\n",
            "Epoch 158/200\n",
            "34/34 [==============================] - 0s 1ms/step - loss: 3478.4365 - mae: 3478.4365\n",
            "Epoch 159/200\n",
            "34/34 [==============================] - 0s 1ms/step - loss: 3480.3738 - mae: 3480.3738\n",
            "Epoch 160/200\n",
            "34/34 [==============================] - 0s 1ms/step - loss: 3522.1992 - mae: 3522.1992\n",
            "Epoch 161/200\n",
            "34/34 [==============================] - 0s 1ms/step - loss: 3489.8333 - mae: 3489.8333\n",
            "Epoch 162/200\n",
            "34/34 [==============================] - 0s 1ms/step - loss: 3481.0857 - mae: 3481.0857\n",
            "Epoch 163/200\n",
            "34/34 [==============================] - 0s 2ms/step - loss: 3486.0063 - mae: 3486.0063\n",
            "Epoch 164/200\n",
            "34/34 [==============================] - 0s 2ms/step - loss: 3499.7627 - mae: 3499.7627\n",
            "Epoch 165/200\n",
            "34/34 [==============================] - 0s 1ms/step - loss: 3509.9307 - mae: 3509.9307\n",
            "Epoch 166/200\n",
            "34/34 [==============================] - 0s 2ms/step - loss: 3487.5547 - mae: 3487.5547\n",
            "Epoch 167/200\n",
            "34/34 [==============================] - 0s 1ms/step - loss: 3485.5933 - mae: 3485.5933\n",
            "Epoch 168/200\n",
            "34/34 [==============================] - 0s 1ms/step - loss: 3491.0076 - mae: 3491.0076\n",
            "Epoch 169/200\n",
            "34/34 [==============================] - 0s 1ms/step - loss: 3484.5957 - mae: 3484.5957\n",
            "Epoch 170/200\n",
            "34/34 [==============================] - 0s 2ms/step - loss: 3485.7241 - mae: 3485.7241\n",
            "Epoch 171/200\n",
            "34/34 [==============================] - 0s 1ms/step - loss: 3489.0925 - mae: 3489.0925\n",
            "Epoch 172/200\n",
            "34/34 [==============================] - 0s 1ms/step - loss: 3498.7671 - mae: 3498.7671\n",
            "Epoch 173/200\n",
            "34/34 [==============================] - 0s 2ms/step - loss: 3500.1086 - mae: 3500.1086\n",
            "Epoch 174/200\n",
            "34/34 [==============================] - 0s 2ms/step - loss: 3484.7012 - mae: 3484.7012\n",
            "Epoch 175/200\n",
            "34/34 [==============================] - 0s 2ms/step - loss: 3485.7405 - mae: 3485.7405\n",
            "Epoch 176/200\n",
            "34/34 [==============================] - 0s 1ms/step - loss: 3482.3132 - mae: 3482.3132\n",
            "Epoch 177/200\n",
            "34/34 [==============================] - 0s 1ms/step - loss: 3488.2861 - mae: 3488.2861\n",
            "Epoch 178/200\n",
            "34/34 [==============================] - 0s 1ms/step - loss: 3474.3384 - mae: 3474.3384\n",
            "Epoch 179/200\n",
            "34/34 [==============================] - 0s 2ms/step - loss: 3504.7712 - mae: 3504.7712\n",
            "Epoch 180/200\n",
            "34/34 [==============================] - 0s 1ms/step - loss: 3493.9231 - mae: 3493.9231\n",
            "Epoch 181/200\n",
            "34/34 [==============================] - 0s 1ms/step - loss: 3496.9351 - mae: 3496.9351\n",
            "Epoch 182/200\n",
            "34/34 [==============================] - 0s 1ms/step - loss: 3499.9382 - mae: 3499.9382\n",
            "Epoch 183/200\n",
            "34/34 [==============================] - 0s 2ms/step - loss: 3497.0417 - mae: 3497.0417\n",
            "Epoch 184/200\n",
            "34/34 [==============================] - 0s 1ms/step - loss: 3527.5002 - mae: 3527.5002\n",
            "Epoch 185/200\n",
            "34/34 [==============================] - 0s 1ms/step - loss: 3487.6287 - mae: 3487.6287\n",
            "Epoch 186/200\n",
            "34/34 [==============================] - 0s 1ms/step - loss: 3527.8167 - mae: 3527.8167\n",
            "Epoch 187/200\n",
            "34/34 [==============================] - 0s 2ms/step - loss: 3503.9355 - mae: 3503.9355\n",
            "Epoch 188/200\n",
            "34/34 [==============================] - 0s 2ms/step - loss: 3485.7983 - mae: 3485.7983\n",
            "Epoch 189/200\n",
            "34/34 [==============================] - 0s 2ms/step - loss: 3488.8936 - mae: 3488.8936\n",
            "Epoch 190/200\n",
            "34/34 [==============================] - 0s 2ms/step - loss: 3483.4038 - mae: 3483.4038\n",
            "Epoch 191/200\n",
            "34/34 [==============================] - 0s 1ms/step - loss: 3477.0769 - mae: 3477.0769\n",
            "Epoch 192/200\n",
            "34/34 [==============================] - 0s 1ms/step - loss: 3503.7581 - mae: 3503.7581\n",
            "Epoch 193/200\n",
            "34/34 [==============================] - 0s 1ms/step - loss: 3509.4800 - mae: 3509.4800\n",
            "Epoch 194/200\n",
            "34/34 [==============================] - 0s 2ms/step - loss: 3498.5037 - mae: 3498.5037\n",
            "Epoch 195/200\n",
            "34/34 [==============================] - 0s 2ms/step - loss: 3487.3162 - mae: 3487.3162\n",
            "Epoch 196/200\n",
            "34/34 [==============================] - 0s 2ms/step - loss: 3504.4009 - mae: 3504.4009\n",
            "Epoch 197/200\n",
            "34/34 [==============================] - 0s 1ms/step - loss: 3501.5957 - mae: 3501.5957\n",
            "Epoch 198/200\n",
            "34/34 [==============================] - 0s 2ms/step - loss: 3483.9604 - mae: 3483.9604\n",
            "Epoch 199/200\n",
            "34/34 [==============================] - 0s 1ms/step - loss: 3478.4661 - mae: 3478.4661\n",
            "Epoch 200/200\n",
            "34/34 [==============================] - 0s 1ms/step - loss: 3487.4949 - mae: 3487.4949\n"
          ],
          "name": "stdout"
        }
      ]
    },
    {
      "cell_type": "code",
      "metadata": {
        "colab": {
          "base_uri": "https://localhost:8080/"
        },
        "id": "oAJCR_nllqqy",
        "outputId": "7ae7fb31-709d-4f69-9ed9-2398c6a54893"
      },
      "source": [
        "#evaluate our model \n",
        "\n",
        "insaurance_model_three.evaluate(X_test, y_test)"
      ],
      "execution_count": null,
      "outputs": [
        {
          "output_type": "stream",
          "text": [
            "9/9 [==============================] - 0s 2ms/step - loss: 3161.8723 - mae: 3161.8723\n"
          ],
          "name": "stdout"
        },
        {
          "output_type": "execute_result",
          "data": {
            "text/plain": [
              "[3161.872314453125, 3161.872314453125]"
            ]
          },
          "metadata": {
            "tags": []
          },
          "execution_count": 71
        }
      ]
    },
    {
      "cell_type": "code",
      "metadata": {
        "colab": {
          "base_uri": "https://localhost:8080/",
          "height": 296
        },
        "id": "XHfnVZ5AmOnO",
        "outputId": "1c04cde2-2ae4-4d4a-e567-f4975d2b21e1"
      },
      "source": [
        "#Plot history (also known as loss curve or training curve)\n",
        "\n",
        "pd.DataFrame(history.history).plot()\n",
        "plt.ylabel(\"loss\")\n",
        "plt.xlabel(\"epochs\")"
      ],
      "execution_count": null,
      "outputs": [
        {
          "output_type": "execute_result",
          "data": {
            "text/plain": [
              "Text(0.5, 0, 'epochs')"
            ]
          },
          "metadata": {
            "tags": []
          },
          "execution_count": 73
        },
        {
          "output_type": "display_data",
          "data": {
            "image/png": "[encoded data removed]",
            "text/plain": [
              "<Figure size 432x288 with 1 Axes>"
            ]
          },
          "metadata": {
            "tags": [],
            "needs_background": "light"
          }
        }
      ]
    },
    {
      "cell_type": "markdown",
      "metadata": {
        "id": "KrrCYvmlmhcb"
      },
      "source": [
        "> How long you should train for \n",
        "\n",
        "It depends on the problem you are working on. \n",
        "For solution there is [EarlyStopping Callback](https://www.tensorflow.org/api_docs/python/tf/keras/callbacks/EarlyStopping) which can be added to your model.\n",
        "\n"
      ]
    },
    {
      "cell_type": "markdown",
      "metadata": {
        "id": "J48n9px4oWdW"
      },
      "source": [
        "### Preprocessing data(normalization and standardization)\n",
        "\n",
        "in terms of scalling values, neural networks tends to prefer normalization. \n",
        "\n",
        "If you are not sure which one to use, you can try both and check performance. "
      ]
    },
    {
      "cell_type": "code",
      "metadata": {
        "colab": {
          "base_uri": "https://localhost:8080/",
          "height": 422
        },
        "id": "fsOuVrvfoly8",
        "outputId": "890d865c-2b70-4131-fc60-8039fb7cd370"
      },
      "source": [
        "X\n"
      ],
      "execution_count": null,
      "outputs": [
        {
          "output_type": "execute_result",
          "data": {
            "text/html": [
              "<div>\n",
              "<style scoped>\n",
              "    .dataframe tbody tr th:only-of-type {\n",
              "        vertical-align: middle;\n",
              "    }\n",
              "\n",
              "    .dataframe tbody tr th {\n",
              "        vertical-align: top;\n",
              "    }\n",
              "\n",
              "    .dataframe thead th {\n",
              "        text-align: right;\n",
              "    }\n",
              "</style>\n",
              "<table border=\"1\" class=\"dataframe\">\n",
              "  <thead>\n",
              "    <tr style=\"text-align: right;\">\n",
              "      <th></th>\n",
              "      <th>age</th>\n",
              "      <th>bmi</th>\n",
              "      <th>children</th>\n",
              "      <th>sex_female</th>\n",
              "      <th>sex_male</th>\n",
              "      <th>smoker_no</th>\n",
              "      <th>smoker_yes</th>\n",
              "      <th>region_northeast</th>\n",
              "      <th>region_northwest</th>\n",
              "      <th>region_southeast</th>\n",
              "      <th>region_southwest</th>\n",
              "    </tr>\n",
              "  </thead>\n",
              "  <tbody>\n",
              "    <tr>\n",
              "      <th>0</th>\n",
              "      <td>19</td>\n",
              "      <td>27.900</td>\n",
              "      <td>0</td>\n",
              "      <td>1</td>\n",
              "      <td>0</td>\n",
              "      <td>0</td>\n",
              "      <td>1</td>\n",
              "      <td>0</td>\n",
              "      <td>0</td>\n",
              "      <td>0</td>\n",
              "      <td>1</td>\n",
              "    </tr>\n",
              "    <tr>\n",
              "      <th>1</th>\n",
              "      <td>18</td>\n",
              "      <td>33.770</td>\n",
              "      <td>1</td>\n",
              "      <td>0</td>\n",
              "      <td>1</td>\n",
              "      <td>1</td>\n",
              "      <td>0</td>\n",
              "      <td>0</td>\n",
              "      <td>0</td>\n",
              "      <td>1</td>\n",
              "      <td>0</td>\n",
              "    </tr>\n",
              "    <tr>\n",
              "      <th>2</th>\n",
              "      <td>28</td>\n",
              "      <td>33.000</td>\n",
              "      <td>3</td>\n",
              "      <td>0</td>\n",
              "      <td>1</td>\n",
              "      <td>1</td>\n",
              "      <td>0</td>\n",
              "      <td>0</td>\n",
              "      <td>0</td>\n",
              "      <td>1</td>\n",
              "      <td>0</td>\n",
              "    </tr>\n",
              "    <tr>\n",
              "      <th>3</th>\n",
              "      <td>33</td>\n",
              "      <td>22.705</td>\n",
              "      <td>0</td>\n",
              "      <td>0</td>\n",
              "      <td>1</td>\n",
              "      <td>1</td>\n",
              "      <td>0</td>\n",
              "      <td>0</td>\n",
              "      <td>1</td>\n",
              "      <td>0</td>\n",
              "      <td>0</td>\n",
              "    </tr>\n",
              "    <tr>\n",
              "      <th>4</th>\n",
              "      <td>32</td>\n",
              "      <td>28.880</td>\n",
              "      <td>0</td>\n",
              "      <td>0</td>\n",
              "      <td>1</td>\n",
              "      <td>1</td>\n",
              "      <td>0</td>\n",
              "      <td>0</td>\n",
              "      <td>1</td>\n",
              "      <td>0</td>\n",
              "      <td>0</td>\n",
              "    </tr>\n",
              "    <tr>\n",
              "      <th>...</th>\n",
              "      <td>...</td>\n",
              "      <td>...</td>\n",
              "      <td>...</td>\n",
              "      <td>...</td>\n",
              "      <td>...</td>\n",
              "      <td>...</td>\n",
              "      <td>...</td>\n",
              "      <td>...</td>\n",
              "      <td>...</td>\n",
              "      <td>...</td>\n",
              "      <td>...</td>\n",
              "    </tr>\n",
              "    <tr>\n",
              "      <th>1333</th>\n",
              "      <td>50</td>\n",
              "      <td>30.970</td>\n",
              "      <td>3</td>\n",
              "      <td>0</td>\n",
              "      <td>1</td>\n",
              "      <td>1</td>\n",
              "      <td>0</td>\n",
              "      <td>0</td>\n",
              "      <td>1</td>\n",
              "      <td>0</td>\n",
              "      <td>0</td>\n",
              "    </tr>\n",
              "    <tr>\n",
              "      <th>1334</th>\n",
              "      <td>18</td>\n",
              "      <td>31.920</td>\n",
              "      <td>0</td>\n",
              "      <td>1</td>\n",
              "      <td>0</td>\n",
              "      <td>1</td>\n",
              "      <td>0</td>\n",
              "      <td>1</td>\n",
              "      <td>0</td>\n",
              "      <td>0</td>\n",
              "      <td>0</td>\n",
              "    </tr>\n",
              "    <tr>\n",
              "      <th>1335</th>\n",
              "      <td>18</td>\n",
              "      <td>36.850</td>\n",
              "      <td>0</td>\n",
              "      <td>1</td>\n",
              "      <td>0</td>\n",
              "      <td>1</td>\n",
              "      <td>0</td>\n",
              "      <td>0</td>\n",
              "      <td>0</td>\n",
              "      <td>1</td>\n",
              "      <td>0</td>\n",
              "    </tr>\n",
              "    <tr>\n",
              "      <th>1336</th>\n",
              "      <td>21</td>\n",
              "      <td>25.800</td>\n",
              "      <td>0</td>\n",
              "      <td>1</td>\n",
              "      <td>0</td>\n",
              "      <td>1</td>\n",
              "      <td>0</td>\n",
              "      <td>0</td>\n",
              "      <td>0</td>\n",
              "      <td>0</td>\n",
              "      <td>1</td>\n",
              "    </tr>\n",
              "    <tr>\n",
              "      <th>1337</th>\n",
              "      <td>61</td>\n",
              "      <td>29.070</td>\n",
              "      <td>0</td>\n",
              "      <td>1</td>\n",
              "      <td>0</td>\n",
              "      <td>0</td>\n",
              "      <td>1</td>\n",
              "      <td>0</td>\n",
              "      <td>1</td>\n",
              "      <td>0</td>\n",
              "      <td>0</td>\n",
              "    </tr>\n",
              "  </tbody>\n",
              "</table>\n",
              "<p>1338 rows × 11 columns</p>\n",
              "</div>"
            ],
            "text/plain": [
              "      age     bmi  ...  region_southeast  region_southwest\n",
              "0      19  27.900  ...                 0                 1\n",
              "1      18  33.770  ...                 1                 0\n",
              "2      28  33.000  ...                 1                 0\n",
              "3      33  22.705  ...                 0                 0\n",
              "4      32  28.880  ...                 0                 0\n",
              "...   ...     ...  ...               ...               ...\n",
              "1333   50  30.970  ...                 0                 0\n",
              "1334   18  31.920  ...                 0                 0\n",
              "1335   18  36.850  ...                 1                 0\n",
              "1336   21  25.800  ...                 0                 1\n",
              "1337   61  29.070  ...                 0                 0\n",
              "\n",
              "[1338 rows x 11 columns]"
            ]
          },
          "metadata": {
            "tags": []
          },
          "execution_count": 74
        }
      ]
    },
    {
      "cell_type": "code",
      "metadata": {
        "colab": {
          "base_uri": "https://localhost:8080/",
          "height": 282
        },
        "id": "NCXLCIGj6hOX",
        "outputId": "6b65f32d-6918-4527-ee98-8e37d99656a7"
      },
      "source": [
        "\n",
        "X['age'].plot(kind='hist')"
      ],
      "execution_count": null,
      "outputs": [
        {
          "output_type": "execute_result",
          "data": {
            "text/plain": [
              "<matplotlib.axes._subplots.AxesSubplot at 0x7fe6e05f3510>"
            ]
          },
          "metadata": {
            "tags": []
          },
          "execution_count": 76
        },
        {
          "output_type": "display_data",
          "data": {
            "image/png": "[encoded data removed]",
            "text/plain": [
              "<Figure size 432x288 with 1 Axes>"
            ]
          },
          "metadata": {
            "tags": [],
            "needs_background": "light"
          }
        }
      ]
    },
    {
      "cell_type": "code",
      "metadata": {
        "colab": {
          "base_uri": "https://localhost:8080/",
          "height": 282
        },
        "id": "iL4cTDEz6oiL",
        "outputId": "0e053cb5-5ab8-45ab-8c54-b7c4930ffc6d"
      },
      "source": [
        "X['bmi'].plot(kind='hist')"
      ],
      "execution_count": null,
      "outputs": [
        {
          "output_type": "execute_result",
          "data": {
            "text/plain": [
              "<matplotlib.axes._subplots.AxesSubplot at 0x7fe6e053eed0>"
            ]
          },
          "metadata": {
            "tags": []
          },
          "execution_count": 78
        },
        {
          "output_type": "display_data",
          "data": {
            "image/png": "[encoded data removed]",
            "text/plain": [
              "<Figure size 432x288 with 1 Axes>"
            ]
          },
          "metadata": {
            "tags": [],
            "needs_background": "light"
          }
        }
      ]
    },
    {
      "cell_type": "code",
      "metadata": {
        "id": "-OJhPEOg6s-Y"
      },
      "source": [
        "import pandas as pd \n",
        "import tensorflow as tf\n",
        "\n",
        "import matplotlib.pyplot as plt"
      ],
      "execution_count": null,
      "outputs": []
    },
    {
      "cell_type": "code",
      "metadata": {
        "colab": {
          "base_uri": "https://localhost:8080/",
          "height": 422
        },
        "id": "Ggn1JIwU7U5n",
        "outputId": "a0301d31-e3dc-42f8-8bb2-7c480f5c3723"
      },
      "source": [
        "insaurance = pd.read_csv(\"https://raw.githubusercontent.com/stedy/Machine-Learning-with-R-datasets/master/insurance.csv\")\n",
        "insaurance"
      ],
      "execution_count": null,
      "outputs": [
        {
          "output_type": "execute_result",
          "data": {
            "text/html": [
              "<div>\n",
              "<style scoped>\n",
              "    .dataframe tbody tr th:only-of-type {\n",
              "        vertical-align: middle;\n",
              "    }\n",
              "\n",
              "    .dataframe tbody tr th {\n",
              "        vertical-align: top;\n",
              "    }\n",
              "\n",
              "    .dataframe thead th {\n",
              "        text-align: right;\n",
              "    }\n",
              "</style>\n",
              "<table border=\"1\" class=\"dataframe\">\n",
              "  <thead>\n",
              "    <tr style=\"text-align: right;\">\n",
              "      <th></th>\n",
              "      <th>age</th>\n",
              "      <th>sex</th>\n",
              "      <th>bmi</th>\n",
              "      <th>children</th>\n",
              "      <th>smoker</th>\n",
              "      <th>region</th>\n",
              "      <th>charges</th>\n",
              "    </tr>\n",
              "  </thead>\n",
              "  <tbody>\n",
              "    <tr>\n",
              "      <th>0</th>\n",
              "      <td>19</td>\n",
              "      <td>female</td>\n",
              "      <td>27.900</td>\n",
              "      <td>0</td>\n",
              "      <td>yes</td>\n",
              "      <td>southwest</td>\n",
              "      <td>16884.92400</td>\n",
              "    </tr>\n",
              "    <tr>\n",
              "      <th>1</th>\n",
              "      <td>18</td>\n",
              "      <td>male</td>\n",
              "      <td>33.770</td>\n",
              "      <td>1</td>\n",
              "      <td>no</td>\n",
              "      <td>southeast</td>\n",
              "      <td>1725.55230</td>\n",
              "    </tr>\n",
              "    <tr>\n",
              "      <th>2</th>\n",
              "      <td>28</td>\n",
              "      <td>male</td>\n",
              "      <td>33.000</td>\n",
              "      <td>3</td>\n",
              "      <td>no</td>\n",
              "      <td>southeast</td>\n",
              "      <td>4449.46200</td>\n",
              "    </tr>\n",
              "    <tr>\n",
              "      <th>3</th>\n",
              "      <td>33</td>\n",
              "      <td>male</td>\n",
              "      <td>22.705</td>\n",
              "      <td>0</td>\n",
              "      <td>no</td>\n",
              "      <td>northwest</td>\n",
              "      <td>21984.47061</td>\n",
              "    </tr>\n",
              "    <tr>\n",
              "      <th>4</th>\n",
              "      <td>32</td>\n",
              "      <td>male</td>\n",
              "      <td>28.880</td>\n",
              "      <td>0</td>\n",
              "      <td>no</td>\n",
              "      <td>northwest</td>\n",
              "      <td>3866.85520</td>\n",
              "    </tr>\n",
              "    <tr>\n",
              "      <th>...</th>\n",
              "      <td>...</td>\n",
              "      <td>...</td>\n",
              "      <td>...</td>\n",
              "      <td>...</td>\n",
              "      <td>...</td>\n",
              "      <td>...</td>\n",
              "      <td>...</td>\n",
              "    </tr>\n",
              "    <tr>\n",
              "      <th>1333</th>\n",
              "      <td>50</td>\n",
              "      <td>male</td>\n",
              "      <td>30.970</td>\n",
              "      <td>3</td>\n",
              "      <td>no</td>\n",
              "      <td>northwest</td>\n",
              "      <td>10600.54830</td>\n",
              "    </tr>\n",
              "    <tr>\n",
              "      <th>1334</th>\n",
              "      <td>18</td>\n",
              "      <td>female</td>\n",
              "      <td>31.920</td>\n",
              "      <td>0</td>\n",
              "      <td>no</td>\n",
              "      <td>northeast</td>\n",
              "      <td>2205.98080</td>\n",
              "    </tr>\n",
              "    <tr>\n",
              "      <th>1335</th>\n",
              "      <td>18</td>\n",
              "      <td>female</td>\n",
              "      <td>36.850</td>\n",
              "      <td>0</td>\n",
              "      <td>no</td>\n",
              "      <td>southeast</td>\n",
              "      <td>1629.83350</td>\n",
              "    </tr>\n",
              "    <tr>\n",
              "      <th>1336</th>\n",
              "      <td>21</td>\n",
              "      <td>female</td>\n",
              "      <td>25.800</td>\n",
              "      <td>0</td>\n",
              "      <td>no</td>\n",
              "      <td>southwest</td>\n",
              "      <td>2007.94500</td>\n",
              "    </tr>\n",
              "    <tr>\n",
              "      <th>1337</th>\n",
              "      <td>61</td>\n",
              "      <td>female</td>\n",
              "      <td>29.070</td>\n",
              "      <td>0</td>\n",
              "      <td>yes</td>\n",
              "      <td>northwest</td>\n",
              "      <td>29141.36030</td>\n",
              "    </tr>\n",
              "  </tbody>\n",
              "</table>\n",
              "<p>1338 rows × 7 columns</p>\n",
              "</div>"
            ],
            "text/plain": [
              "      age     sex     bmi  children smoker     region      charges\n",
              "0      19  female  27.900         0    yes  southwest  16884.92400\n",
              "1      18    male  33.770         1     no  southeast   1725.55230\n",
              "2      28    male  33.000         3     no  southeast   4449.46200\n",
              "3      33    male  22.705         0     no  northwest  21984.47061\n",
              "4      32    male  28.880         0     no  northwest   3866.85520\n",
              "...   ...     ...     ...       ...    ...        ...          ...\n",
              "1333   50    male  30.970         3     no  northwest  10600.54830\n",
              "1334   18  female  31.920         0     no  northeast   2205.98080\n",
              "1335   18  female  36.850         0     no  southeast   1629.83350\n",
              "1336   21  female  25.800         0     no  southwest   2007.94500\n",
              "1337   61  female  29.070         0    yes  northwest  29141.36030\n",
              "\n",
              "[1338 rows x 7 columns]"
            ]
          },
          "metadata": {
            "tags": []
          },
          "execution_count": 80
        }
      ]
    },
    {
      "cell_type": "markdown",
      "metadata": {
        "id": "pFJDluBg7gUf"
      },
      "source": [
        "To prepare our data, we can borrow a few classes from Scikitlearn"
      ]
    },
    {
      "cell_type": "code",
      "metadata": {
        "id": "GlKq1Jdo7ygm"
      },
      "source": [
        "from sklearn.compose import make_column_transformer\n",
        "from sklearn.preprocessing import MinMaxScaler, OneHotEncoder\n",
        "from sklearn.model_selection import train_test_split\n",
        "\n",
        "#create a columns transformer \n",
        "\n",
        "ct = make_column_transformer(\n",
        "    (MinMaxScaler(), [\"age\",\"bmi\",\"children\"]),\n",
        "    (OneHotEncoder(handle_unknown=\"ignore\"),[\"sex\",\"smoker\",\"region\"])\n",
        ")\n",
        "\n",
        "# Create X & Y values\n",
        "X = insaurance.drop(\"charges\", axis=1)\n",
        "y = insaurance['charges']\n",
        "\n",
        "#Build our train and test set\n",
        "X_train, X_test, y_train, y_test = train_test_split(X,y, test_size=0.2, random_state=42)\n",
        "\n",
        "#Fit the column transformer to our training data\n",
        "ct.fit(X_train)\n",
        "\n",
        "#Tranform training and test\n",
        "X_train_normal = ct.transform(X_train)\n",
        "X_test_normal = ct.transform(X_test)"
      ],
      "execution_count": null,
      "outputs": []
    },
    {
      "cell_type": "code",
      "metadata": {
        "colab": {
          "base_uri": "https://localhost:8080/"
        },
        "id": "YfYTYbw_8daH",
        "outputId": "fe7d2095-46cd-4954-b5f0-82c9419d1037"
      },
      "source": [
        "X_train.loc[0] #Before data"
      ],
      "execution_count": null,
      "outputs": [
        {
          "output_type": "execute_result",
          "data": {
            "text/plain": [
              "age                19\n",
              "sex            female\n",
              "bmi              27.9\n",
              "children            0\n",
              "smoker            yes\n",
              "region      southwest\n",
              "Name: 0, dtype: object"
            ]
          },
          "metadata": {
            "tags": []
          },
          "execution_count": 83
        }
      ]
    },
    {
      "cell_type": "code",
      "metadata": {
        "colab": {
          "base_uri": "https://localhost:8080/"
        },
        "id": "cvVLjS5h_-CD",
        "outputId": "a114ede4-80a7-413a-e169-0a189f420dd2"
      },
      "source": [
        "X_train_normal[0] # Tranformed data"
      ],
      "execution_count": null,
      "outputs": [
        {
          "output_type": "execute_result",
          "data": {
            "text/plain": [
              "array([0.60869565, 0.10734463, 0.4       , 1.        , 0.        ,\n",
              "       1.        , 0.        , 0.        , 1.        , 0.        ,\n",
              "       0.        ])"
            ]
          },
          "metadata": {
            "tags": []
          },
          "execution_count": 86
        }
      ]
    },
    {
      "cell_type": "code",
      "metadata": {
        "colab": {
          "base_uri": "https://localhost:8080/"
        },
        "id": "hWd7ebjSABxL",
        "outputId": "de6d5581-28bc-4318-a85f-1d48fe46fa73"
      },
      "source": [
        "#let check the shape \n",
        "\n",
        "X_train.shape , X_train_normal.shape"
      ],
      "execution_count": null,
      "outputs": [
        {
          "output_type": "execute_result",
          "data": {
            "text/plain": [
              "((1070, 6), (1070, 11))"
            ]
          },
          "metadata": {
            "tags": []
          },
          "execution_count": 87
        }
      ]
    },
    {
      "cell_type": "markdown",
      "metadata": {
        "id": "nBbzqpFZASnD"
      },
      "source": [
        "Beautiful! Our data has been normalized and one hot encoded. Now let's build a neural networks model on this data. "
      ]
    },
    {
      "cell_type": "code",
      "metadata": {
        "colab": {
          "base_uri": "https://localhost:8080/"
        },
        "id": "7EisI-jRAhQe",
        "outputId": "f5a741c2-3bda-45ba-c24b-09a659a97b7b"
      },
      "source": [
        "tf.random.set_seed(42)\n",
        "# 1. Build a model \n",
        "\n",
        "insaurance_model_4 = tf.keras.Sequential([\n",
        "                tf.keras.layers.Dense(100),\n",
        "                tf.keras.layers.Dense(10),\n",
        "                tf.keras.layers.Dense(1)\n",
        "])\n",
        "# 2. Compile the model\n",
        "insaurance_model_4.compile(loss= tf.keras.losses.mae, \n",
        "                   optimizer = tf.keras.optimizers.Adam(learning_rate=0.003),\n",
        "                   metrics=[\"mae\"])\n",
        "\n",
        "#3. Fit model on the data\n",
        "history = insaurance_model_4.fit(X_train_normal, y_train, epochs=200)"
      ],
      "execution_count": null,
      "outputs": [
        {
          "output_type": "stream",
          "text": [
            "Epoch 1/200\n",
            "34/34 [==============================] - 0s 2ms/step - loss: 13333.4199 - mae: 13333.4199\n",
            "Epoch 2/200\n",
            "34/34 [==============================] - 0s 1ms/step - loss: 13241.6611 - mae: 13241.6611\n",
            "Epoch 3/200\n",
            "34/34 [==============================] - 0s 1ms/step - loss: 12900.9150 - mae: 12900.9150\n",
            "Epoch 4/200\n",
            "34/34 [==============================] - 0s 1ms/step - loss: 12065.0410 - mae: 12065.0410\n",
            "Epoch 5/200\n",
            "34/34 [==============================] - 0s 1ms/step - loss: 10652.5215 - mae: 10652.5215\n",
            "Epoch 6/200\n",
            "34/34 [==============================] - 0s 1ms/step - loss: 9156.8223 - mae: 9156.8223\n",
            "Epoch 7/200\n",
            "34/34 [==============================] - 0s 1ms/step - loss: 8214.4463 - mae: 8214.4463\n",
            "Epoch 8/200\n",
            "34/34 [==============================] - 0s 1ms/step - loss: 7891.6348 - mae: 7891.6348\n",
            "Epoch 9/200\n",
            "34/34 [==============================] - 0s 2ms/step - loss: 7745.9634 - mae: 7745.9634\n",
            "Epoch 10/200\n",
            "34/34 [==============================] - 0s 1ms/step - loss: 7615.1323 - mae: 7615.1323\n",
            "Epoch 11/200\n",
            "34/34 [==============================] - 0s 1ms/step - loss: 7486.6543 - mae: 7486.6543\n",
            "Epoch 12/200\n",
            "34/34 [==============================] - 0s 2ms/step - loss: 7341.4116 - mae: 7341.4116\n",
            "Epoch 13/200\n",
            "34/34 [==============================] - 0s 1ms/step - loss: 7193.7129 - mae: 7193.7129\n",
            "Epoch 14/200\n",
            "34/34 [==============================] - 0s 1ms/step - loss: 7022.5068 - mae: 7022.5063\n",
            "Epoch 15/200\n",
            "34/34 [==============================] - 0s 2ms/step - loss: 6837.9575 - mae: 6837.9575\n",
            "Epoch 16/200\n",
            "34/34 [==============================] - 0s 1ms/step - loss: 6627.7261 - mae: 6627.7261\n",
            "Epoch 17/200\n",
            "34/34 [==============================] - 0s 1ms/step - loss: 6389.1440 - mae: 6389.1440\n",
            "Epoch 18/200\n",
            "34/34 [==============================] - 0s 1ms/step - loss: 6114.2480 - mae: 6114.2480\n",
            "Epoch 19/200\n",
            "34/34 [==============================] - 0s 1ms/step - loss: 5799.8047 - mae: 5799.8047\n",
            "Epoch 20/200\n",
            "34/34 [==============================] - 0s 2ms/step - loss: 5440.1016 - mae: 5440.1016\n",
            "Epoch 21/200\n",
            "34/34 [==============================] - 0s 2ms/step - loss: 5056.6284 - mae: 5056.6284\n",
            "Epoch 22/200\n",
            "34/34 [==============================] - 0s 1ms/step - loss: 4668.6279 - mae: 4668.6279\n",
            "Epoch 23/200\n",
            "34/34 [==============================] - 0s 1ms/step - loss: 4314.0669 - mae: 4314.0669\n",
            "Epoch 24/200\n",
            "34/34 [==============================] - 0s 1ms/step - loss: 4034.1799 - mae: 4034.1799\n",
            "Epoch 25/200\n",
            "34/34 [==============================] - 0s 1ms/step - loss: 3832.8887 - mae: 3832.8887\n",
            "Epoch 26/200\n",
            "34/34 [==============================] - 0s 1ms/step - loss: 3729.6184 - mae: 3729.6184\n",
            "Epoch 27/200\n",
            "34/34 [==============================] - 0s 1ms/step - loss: 3681.6226 - mae: 3681.6226\n",
            "Epoch 28/200\n",
            "34/34 [==============================] - 0s 1ms/step - loss: 3668.9890 - mae: 3668.9890\n",
            "Epoch 29/200\n",
            "34/34 [==============================] - 0s 1ms/step - loss: 3658.3887 - mae: 3658.3887\n",
            "Epoch 30/200\n",
            "34/34 [==============================] - 0s 2ms/step - loss: 3665.1152 - mae: 3665.1152\n",
            "Epoch 31/200\n",
            "34/34 [==============================] - 0s 1ms/step - loss: 3653.7727 - mae: 3653.7727\n",
            "Epoch 32/200\n",
            "34/34 [==============================] - 0s 2ms/step - loss: 3644.0933 - mae: 3644.0933\n",
            "Epoch 33/200\n",
            "34/34 [==============================] - 0s 1ms/step - loss: 3648.5129 - mae: 3648.5129\n",
            "Epoch 34/200\n",
            "34/34 [==============================] - 0s 1ms/step - loss: 3633.1304 - mae: 3633.1304\n",
            "Epoch 35/200\n",
            "34/34 [==============================] - 0s 2ms/step - loss: 3633.1558 - mae: 3633.1558\n",
            "Epoch 36/200\n",
            "34/34 [==============================] - 0s 2ms/step - loss: 3629.0374 - mae: 3629.0374\n",
            "Epoch 37/200\n",
            "34/34 [==============================] - 0s 2ms/step - loss: 3618.1877 - mae: 3618.1877\n",
            "Epoch 38/200\n",
            "34/34 [==============================] - 0s 1ms/step - loss: 3619.3579 - mae: 3619.3579\n",
            "Epoch 39/200\n",
            "34/34 [==============================] - 0s 1ms/step - loss: 3607.1460 - mae: 3607.1460\n",
            "Epoch 40/200\n",
            "34/34 [==============================] - 0s 1ms/step - loss: 3608.2212 - mae: 3608.2212\n",
            "Epoch 41/200\n",
            "34/34 [==============================] - 0s 1ms/step - loss: 3593.1829 - mae: 3593.1829\n",
            "Epoch 42/200\n",
            "34/34 [==============================] - 0s 1ms/step - loss: 3599.5229 - mae: 3599.5229\n",
            "Epoch 43/200\n",
            "34/34 [==============================] - 0s 1ms/step - loss: 3594.6099 - mae: 3594.6099\n",
            "Epoch 44/200\n",
            "34/34 [==============================] - 0s 2ms/step - loss: 3579.1924 - mae: 3579.1924\n",
            "Epoch 45/200\n",
            "34/34 [==============================] - 0s 1ms/step - loss: 3570.6150 - mae: 3570.6150\n",
            "Epoch 46/200\n",
            "34/34 [==============================] - 0s 2ms/step - loss: 3570.0815 - mae: 3570.0815\n",
            "Epoch 47/200\n",
            "34/34 [==============================] - 0s 2ms/step - loss: 3567.6865 - mae: 3567.6865\n",
            "Epoch 48/200\n",
            "34/34 [==============================] - 0s 1ms/step - loss: 3557.3115 - mae: 3557.3115\n",
            "Epoch 49/200\n",
            "34/34 [==============================] - 0s 1ms/step - loss: 3561.6687 - mae: 3561.6687\n",
            "Epoch 50/200\n",
            "34/34 [==============================] - 0s 1ms/step - loss: 3547.6008 - mae: 3547.6008\n",
            "Epoch 51/200\n",
            "34/34 [==============================] - 0s 2ms/step - loss: 3549.2280 - mae: 3549.2280\n",
            "Epoch 52/200\n",
            "34/34 [==============================] - 0s 2ms/step - loss: 3543.2607 - mae: 3543.2607\n",
            "Epoch 53/200\n",
            "34/34 [==============================] - 0s 2ms/step - loss: 3539.1270 - mae: 3539.1270\n",
            "Epoch 54/200\n",
            "34/34 [==============================] - 0s 2ms/step - loss: 3543.2974 - mae: 3543.2974\n",
            "Epoch 55/200\n",
            "34/34 [==============================] - 0s 2ms/step - loss: 3544.8689 - mae: 3544.8689\n",
            "Epoch 56/200\n",
            "34/34 [==============================] - 0s 1ms/step - loss: 3526.8184 - mae: 3526.8184\n",
            "Epoch 57/200\n",
            "34/34 [==============================] - 0s 1ms/step - loss: 3522.5320 - mae: 3522.5320\n",
            "Epoch 58/200\n",
            "34/34 [==============================] - 0s 1ms/step - loss: 3517.8257 - mae: 3517.8257\n",
            "Epoch 59/200\n",
            "34/34 [==============================] - 0s 1ms/step - loss: 3517.7185 - mae: 3517.7185\n",
            "Epoch 60/200\n",
            "34/34 [==============================] - 0s 1ms/step - loss: 3513.3621 - mae: 3513.3621\n",
            "Epoch 61/200\n",
            "34/34 [==============================] - 0s 1ms/step - loss: 3509.4722 - mae: 3509.4722\n",
            "Epoch 62/200\n",
            "34/34 [==============================] - 0s 1ms/step - loss: 3501.8892 - mae: 3501.8892\n",
            "Epoch 63/200\n",
            "34/34 [==============================] - 0s 2ms/step - loss: 3498.2634 - mae: 3498.2634\n",
            "Epoch 64/200\n",
            "34/34 [==============================] - 0s 2ms/step - loss: 3496.9810 - mae: 3496.9810\n",
            "Epoch 65/200\n",
            "34/34 [==============================] - 0s 1ms/step - loss: 3499.5432 - mae: 3499.5432\n",
            "Epoch 66/200\n",
            "34/34 [==============================] - 0s 1ms/step - loss: 3488.2637 - mae: 3488.2637\n",
            "Epoch 67/200\n",
            "34/34 [==============================] - 0s 1ms/step - loss: 3484.5188 - mae: 3484.5188\n",
            "Epoch 68/200\n",
            "34/34 [==============================] - 0s 1ms/step - loss: 3486.6709 - mae: 3486.6709\n",
            "Epoch 69/200\n",
            "34/34 [==============================] - 0s 1ms/step - loss: 3480.1694 - mae: 3480.1694\n",
            "Epoch 70/200\n",
            "34/34 [==============================] - 0s 1ms/step - loss: 3484.9375 - mae: 3484.9375\n",
            "Epoch 71/200\n",
            "34/34 [==============================] - 0s 1ms/step - loss: 3481.0579 - mae: 3481.0579\n",
            "Epoch 72/200\n",
            "34/34 [==============================] - 0s 1ms/step - loss: 3487.2229 - mae: 3487.2229\n",
            "Epoch 73/200\n",
            "34/34 [==============================] - 0s 1ms/step - loss: 3481.0437 - mae: 3481.0437\n",
            "Epoch 74/200\n",
            "34/34 [==============================] - 0s 2ms/step - loss: 3476.5432 - mae: 3476.5432\n",
            "Epoch 75/200\n",
            "34/34 [==============================] - 0s 1ms/step - loss: 3475.5535 - mae: 3475.5535\n",
            "Epoch 76/200\n",
            "34/34 [==============================] - 0s 1ms/step - loss: 3477.8418 - mae: 3477.8418\n",
            "Epoch 77/200\n",
            "34/34 [==============================] - 0s 1ms/step - loss: 3477.1970 - mae: 3477.1970\n",
            "Epoch 78/200\n",
            "34/34 [==============================] - 0s 1ms/step - loss: 3477.0564 - mae: 3477.0564\n",
            "Epoch 79/200\n",
            "34/34 [==============================] - 0s 1ms/step - loss: 3478.1702 - mae: 3478.1702\n",
            "Epoch 80/200\n",
            "34/34 [==============================] - 0s 1ms/step - loss: 3478.2478 - mae: 3478.2478\n",
            "Epoch 81/200\n",
            "34/34 [==============================] - 0s 2ms/step - loss: 3478.1091 - mae: 3478.1091\n",
            "Epoch 82/200\n",
            "34/34 [==============================] - 0s 2ms/step - loss: 3477.2388 - mae: 3477.2388\n",
            "Epoch 83/200\n",
            "34/34 [==============================] - 0s 1ms/step - loss: 3477.2109 - mae: 3477.2109\n",
            "Epoch 84/200\n",
            "34/34 [==============================] - 0s 1ms/step - loss: 3478.9648 - mae: 3478.9648\n",
            "Epoch 85/200\n",
            "34/34 [==============================] - 0s 2ms/step - loss: 3473.5203 - mae: 3473.5203\n",
            "Epoch 86/200\n",
            "34/34 [==============================] - 0s 1ms/step - loss: 3474.6162 - mae: 3474.6162\n",
            "Epoch 87/200\n",
            "34/34 [==============================] - 0s 1ms/step - loss: 3478.4011 - mae: 3478.4011\n",
            "Epoch 88/200\n",
            "34/34 [==============================] - 0s 2ms/step - loss: 3478.3147 - mae: 3478.3147\n",
            "Epoch 89/200\n",
            "34/34 [==============================] - 0s 2ms/step - loss: 3476.9265 - mae: 3476.9265\n",
            "Epoch 90/200\n",
            "34/34 [==============================] - 0s 2ms/step - loss: 3477.7173 - mae: 3477.7173\n",
            "Epoch 91/200\n",
            "34/34 [==============================] - 0s 1ms/step - loss: 3474.1675 - mae: 3474.1675\n",
            "Epoch 92/200\n",
            "34/34 [==============================] - 0s 1ms/step - loss: 3478.1826 - mae: 3478.1826\n",
            "Epoch 93/200\n",
            "34/34 [==============================] - 0s 1ms/step - loss: 3473.9985 - mae: 3473.9985\n",
            "Epoch 94/200\n",
            "34/34 [==============================] - 0s 2ms/step - loss: 3476.7642 - mae: 3476.7642\n",
            "Epoch 95/200\n",
            "34/34 [==============================] - 0s 2ms/step - loss: 3477.7192 - mae: 3477.7192\n",
            "Epoch 96/200\n",
            "34/34 [==============================] - 0s 1ms/step - loss: 3478.8262 - mae: 3478.8262\n",
            "Epoch 97/200\n",
            "34/34 [==============================] - 0s 1ms/step - loss: 3481.5332 - mae: 3481.5332\n",
            "Epoch 98/200\n",
            "34/34 [==============================] - 0s 2ms/step - loss: 3475.1545 - mae: 3475.1545\n",
            "Epoch 99/200\n",
            "34/34 [==============================] - 0s 1ms/step - loss: 3477.8645 - mae: 3477.8645\n",
            "Epoch 100/200\n",
            "34/34 [==============================] - 0s 2ms/step - loss: 3482.3320 - mae: 3482.3320\n",
            "Epoch 101/200\n",
            "34/34 [==============================] - 0s 2ms/step - loss: 3477.5186 - mae: 3477.5186\n",
            "Epoch 102/200\n",
            "34/34 [==============================] - 0s 1ms/step - loss: 3476.8418 - mae: 3476.8418\n",
            "Epoch 103/200\n",
            "34/34 [==============================] - 0s 2ms/step - loss: 3477.7039 - mae: 3477.7039\n",
            "Epoch 104/200\n",
            "34/34 [==============================] - 0s 1ms/step - loss: 3475.6130 - mae: 3475.6130\n",
            "Epoch 105/200\n",
            "34/34 [==============================] - 0s 1ms/step - loss: 3481.2815 - mae: 3481.2815\n",
            "Epoch 106/200\n",
            "34/34 [==============================] - 0s 2ms/step - loss: 3477.1279 - mae: 3477.1279\n",
            "Epoch 107/200\n",
            "34/34 [==============================] - 0s 1ms/step - loss: 3479.9260 - mae: 3479.9260\n",
            "Epoch 108/200\n",
            "34/34 [==============================] - 0s 2ms/step - loss: 3476.3350 - mae: 3476.3350\n",
            "Epoch 109/200\n",
            "34/34 [==============================] - 0s 2ms/step - loss: 3480.6846 - mae: 3480.6846\n",
            "Epoch 110/200\n",
            "34/34 [==============================] - 0s 2ms/step - loss: 3472.5957 - mae: 3472.5957\n",
            "Epoch 111/200\n",
            "34/34 [==============================] - 0s 1ms/step - loss: 3481.3508 - mae: 3481.3508\n",
            "Epoch 112/200\n",
            "34/34 [==============================] - 0s 1ms/step - loss: 3479.7058 - mae: 3479.7058\n",
            "Epoch 113/200\n",
            "34/34 [==============================] - 0s 1ms/step - loss: 3480.5305 - mae: 3480.5305\n",
            "Epoch 114/200\n",
            "34/34 [==============================] - 0s 1ms/step - loss: 3488.3323 - mae: 3488.3323\n",
            "Epoch 115/200\n",
            "34/34 [==============================] - 0s 2ms/step - loss: 3479.0105 - mae: 3479.0105\n",
            "Epoch 116/200\n",
            "34/34 [==============================] - 0s 1ms/step - loss: 3479.1157 - mae: 3479.1157\n",
            "Epoch 117/200\n",
            "34/34 [==============================] - 0s 2ms/step - loss: 3484.8220 - mae: 3484.8220\n",
            "Epoch 118/200\n",
            "34/34 [==============================] - 0s 2ms/step - loss: 3475.7786 - mae: 3475.7786\n",
            "Epoch 119/200\n",
            "34/34 [==============================] - 0s 2ms/step - loss: 3482.0171 - mae: 3482.0171\n",
            "Epoch 120/200\n",
            "34/34 [==============================] - 0s 2ms/step - loss: 3474.7859 - mae: 3474.7859\n",
            "Epoch 121/200\n",
            "34/34 [==============================] - 0s 1ms/step - loss: 3481.4243 - mae: 3481.4243\n",
            "Epoch 122/200\n",
            "34/34 [==============================] - 0s 2ms/step - loss: 3478.5510 - mae: 3478.5510\n",
            "Epoch 123/200\n",
            "34/34 [==============================] - 0s 2ms/step - loss: 3478.0649 - mae: 3478.0649\n",
            "Epoch 124/200\n",
            "34/34 [==============================] - 0s 1ms/step - loss: 3474.9265 - mae: 3474.9265\n",
            "Epoch 125/200\n",
            "34/34 [==============================] - 0s 1ms/step - loss: 3477.4956 - mae: 3477.4956\n",
            "Epoch 126/200\n",
            "34/34 [==============================] - 0s 1ms/step - loss: 3476.2039 - mae: 3476.2039\n",
            "Epoch 127/200\n",
            "34/34 [==============================] - 0s 1ms/step - loss: 3481.5837 - mae: 3481.5837\n",
            "Epoch 128/200\n",
            "34/34 [==============================] - 0s 1ms/step - loss: 3480.6870 - mae: 3480.6870\n",
            "Epoch 129/200\n",
            "34/34 [==============================] - 0s 1ms/step - loss: 3482.8423 - mae: 3482.8423\n",
            "Epoch 130/200\n",
            "34/34 [==============================] - 0s 2ms/step - loss: 3475.6636 - mae: 3475.6636\n",
            "Epoch 131/200\n",
            "34/34 [==============================] - 0s 2ms/step - loss: 3477.7224 - mae: 3477.7224\n",
            "Epoch 132/200\n",
            "34/34 [==============================] - 0s 2ms/step - loss: 3476.1230 - mae: 3476.1230\n",
            "Epoch 133/200\n",
            "34/34 [==============================] - 0s 1ms/step - loss: 3475.0237 - mae: 3475.0237\n",
            "Epoch 134/200\n",
            "34/34 [==============================] - 0s 1ms/step - loss: 3475.4812 - mae: 3475.4812\n",
            "Epoch 135/200\n",
            "34/34 [==============================] - 0s 1ms/step - loss: 3475.8953 - mae: 3475.8953\n",
            "Epoch 136/200\n",
            "34/34 [==============================] - 0s 1ms/step - loss: 3474.7075 - mae: 3474.7075\n",
            "Epoch 137/200\n",
            "34/34 [==============================] - 0s 1ms/step - loss: 3477.8723 - mae: 3477.8723\n",
            "Epoch 138/200\n",
            "34/34 [==============================] - 0s 2ms/step - loss: 3478.4473 - mae: 3478.4473\n",
            "Epoch 139/200\n",
            "34/34 [==============================] - 0s 2ms/step - loss: 3479.4368 - mae: 3479.4368\n",
            "Epoch 140/200\n",
            "34/34 [==============================] - 0s 2ms/step - loss: 3476.2749 - mae: 3476.2749\n",
            "Epoch 141/200\n",
            "34/34 [==============================] - 0s 2ms/step - loss: 3483.6631 - mae: 3483.6631\n",
            "Epoch 142/200\n",
            "34/34 [==============================] - 0s 2ms/step - loss: 3481.1082 - mae: 3481.1082\n",
            "Epoch 143/200\n",
            "34/34 [==============================] - 0s 2ms/step - loss: 3477.0576 - mae: 3477.0576\n",
            "Epoch 144/200\n",
            "34/34 [==============================] - 0s 2ms/step - loss: 3479.5288 - mae: 3479.5288\n",
            "Epoch 145/200\n",
            "34/34 [==============================] - 0s 2ms/step - loss: 3478.7024 - mae: 3478.7024\n",
            "Epoch 146/200\n",
            "34/34 [==============================] - 0s 1ms/step - loss: 3484.3350 - mae: 3484.3350\n",
            "Epoch 147/200\n",
            "34/34 [==============================] - 0s 2ms/step - loss: 3477.7095 - mae: 3477.7095\n",
            "Epoch 148/200\n",
            "34/34 [==============================] - 0s 2ms/step - loss: 3478.9939 - mae: 3478.9939\n",
            "Epoch 149/200\n",
            "34/34 [==============================] - 0s 1ms/step - loss: 3474.6096 - mae: 3474.6096\n",
            "Epoch 150/200\n",
            "34/34 [==============================] - 0s 1ms/step - loss: 3474.9470 - mae: 3474.9470\n",
            "Epoch 151/200\n",
            "34/34 [==============================] - 0s 2ms/step - loss: 3480.3496 - mae: 3480.3496\n",
            "Epoch 152/200\n",
            "34/34 [==============================] - 0s 1ms/step - loss: 3480.9478 - mae: 3480.9478\n",
            "Epoch 153/200\n",
            "34/34 [==============================] - 0s 1ms/step - loss: 3474.0771 - mae: 3474.0771\n",
            "Epoch 154/200\n",
            "34/34 [==============================] - 0s 2ms/step - loss: 3477.4661 - mae: 3477.4661\n",
            "Epoch 155/200\n",
            "34/34 [==============================] - 0s 2ms/step - loss: 3477.6677 - mae: 3477.6677\n",
            "Epoch 156/200\n",
            "34/34 [==============================] - 0s 1ms/step - loss: 3479.9998 - mae: 3479.9998\n",
            "Epoch 157/200\n",
            "34/34 [==============================] - 0s 2ms/step - loss: 3478.0918 - mae: 3478.0918\n",
            "Epoch 158/200\n",
            "34/34 [==============================] - 0s 1ms/step - loss: 3478.9678 - mae: 3478.9678\n",
            "Epoch 159/200\n",
            "34/34 [==============================] - 0s 2ms/step - loss: 3474.6814 - mae: 3474.6814\n",
            "Epoch 160/200\n",
            "34/34 [==============================] - 0s 2ms/step - loss: 3478.5361 - mae: 3478.5361\n",
            "Epoch 161/200\n",
            "34/34 [==============================] - 0s 2ms/step - loss: 3478.1719 - mae: 3478.1719\n",
            "Epoch 162/200\n",
            "34/34 [==============================] - 0s 2ms/step - loss: 3475.4185 - mae: 3475.4185\n",
            "Epoch 163/200\n",
            "34/34 [==============================] - 0s 2ms/step - loss: 3474.8542 - mae: 3474.8542\n",
            "Epoch 164/200\n",
            "34/34 [==============================] - 0s 1ms/step - loss: 3480.5308 - mae: 3480.5308\n",
            "Epoch 165/200\n",
            "34/34 [==============================] - 0s 2ms/step - loss: 3475.5408 - mae: 3475.5408\n",
            "Epoch 166/200\n",
            "34/34 [==============================] - 0s 2ms/step - loss: 3477.6467 - mae: 3477.6467\n",
            "Epoch 167/200\n",
            "34/34 [==============================] - 0s 1ms/step - loss: 3476.0117 - mae: 3476.0117\n",
            "Epoch 168/200\n",
            "34/34 [==============================] - 0s 2ms/step - loss: 3475.9387 - mae: 3475.9387\n",
            "Epoch 169/200\n",
            "34/34 [==============================] - 0s 2ms/step - loss: 3473.8958 - mae: 3473.8958\n",
            "Epoch 170/200\n",
            "34/34 [==============================] - 0s 1ms/step - loss: 3477.6423 - mae: 3477.6423\n",
            "Epoch 171/200\n",
            "34/34 [==============================] - 0s 1ms/step - loss: 3475.7922 - mae: 3475.7922\n",
            "Epoch 172/200\n",
            "34/34 [==============================] - 0s 1ms/step - loss: 3479.0435 - mae: 3479.0435\n",
            "Epoch 173/200\n",
            "34/34 [==============================] - 0s 1ms/step - loss: 3475.7620 - mae: 3475.7620\n",
            "Epoch 174/200\n",
            "34/34 [==============================] - 0s 2ms/step - loss: 3478.7766 - mae: 3478.7766\n",
            "Epoch 175/200\n",
            "34/34 [==============================] - 0s 1ms/step - loss: 3476.3369 - mae: 3476.3369\n",
            "Epoch 176/200\n",
            "34/34 [==============================] - 0s 1ms/step - loss: 3484.0334 - mae: 3484.0334\n",
            "Epoch 177/200\n",
            "34/34 [==============================] - 0s 2ms/step - loss: 3481.1113 - mae: 3481.1113\n",
            "Epoch 178/200\n",
            "34/34 [==============================] - 0s 1ms/step - loss: 3481.3662 - mae: 3481.3662\n",
            "Epoch 179/200\n",
            "34/34 [==============================] - 0s 1ms/step - loss: 3482.2246 - mae: 3482.2246\n",
            "Epoch 180/200\n",
            "34/34 [==============================] - 0s 2ms/step - loss: 3481.6074 - mae: 3481.6074\n",
            "Epoch 181/200\n",
            "34/34 [==============================] - 0s 1ms/step - loss: 3478.1560 - mae: 3478.1560\n",
            "Epoch 182/200\n",
            "34/34 [==============================] - 0s 2ms/step - loss: 3479.0947 - mae: 3479.0947\n",
            "Epoch 183/200\n",
            "34/34 [==============================] - 0s 2ms/step - loss: 3477.0159 - mae: 3477.0159\n",
            "Epoch 184/200\n",
            "34/34 [==============================] - 0s 2ms/step - loss: 3479.3401 - mae: 3479.3401\n",
            "Epoch 185/200\n",
            "34/34 [==============================] - 0s 2ms/step - loss: 3479.7405 - mae: 3479.7405\n",
            "Epoch 186/200\n",
            "34/34 [==============================] - 0s 2ms/step - loss: 3477.7751 - mae: 3477.7751\n",
            "Epoch 187/200\n",
            "34/34 [==============================] - 0s 2ms/step - loss: 3476.0574 - mae: 3476.0574\n",
            "Epoch 188/200\n",
            "34/34 [==============================] - 0s 1ms/step - loss: 3476.3159 - mae: 3476.3159\n",
            "Epoch 189/200\n",
            "34/34 [==============================] - 0s 1ms/step - loss: 3474.9614 - mae: 3474.9614\n",
            "Epoch 190/200\n",
            "34/34 [==============================] - 0s 2ms/step - loss: 3478.7632 - mae: 3478.7632\n",
            "Epoch 191/200\n",
            "34/34 [==============================] - 0s 2ms/step - loss: 3493.3357 - mae: 3493.3357\n",
            "Epoch 192/200\n",
            "34/34 [==============================] - 0s 1ms/step - loss: 3483.5181 - mae: 3483.5181\n",
            "Epoch 193/200\n",
            "34/34 [==============================] - 0s 2ms/step - loss: 3479.6707 - mae: 3479.6707\n",
            "Epoch 194/200\n",
            "34/34 [==============================] - 0s 2ms/step - loss: 3476.2751 - mae: 3476.2751\n",
            "Epoch 195/200\n",
            "34/34 [==============================] - 0s 1ms/step - loss: 3473.8394 - mae: 3473.8394\n",
            "Epoch 196/200\n",
            "34/34 [==============================] - 0s 2ms/step - loss: 3481.2317 - mae: 3481.2317\n",
            "Epoch 197/200\n",
            "34/34 [==============================] - 0s 1ms/step - loss: 3474.0706 - mae: 3474.0706\n",
            "Epoch 198/200\n",
            "34/34 [==============================] - 0s 2ms/step - loss: 3483.4805 - mae: 3483.4805\n",
            "Epoch 199/200\n",
            "34/34 [==============================] - 0s 2ms/step - loss: 3475.5830 - mae: 3475.5830\n",
            "Epoch 200/200\n",
            "34/34 [==============================] - 0s 2ms/step - loss: 3479.0332 - mae: 3479.0332\n"
          ],
          "name": "stdout"
        }
      ]
    },
    {
      "cell_type": "code",
      "metadata": {
        "colab": {
          "base_uri": "https://localhost:8080/"
        },
        "id": "Lh_1woHjBmbC",
        "outputId": "ad3bc833-cb93-455f-d15c-e5a1a0b23c8c"
      },
      "source": [
        "## Evaluate our model \n",
        "\n",
        "insaurance_model_4.evaluate(X_test_normal,y_test)"
      ],
      "execution_count": null,
      "outputs": [
        {
          "output_type": "stream",
          "text": [
            "9/9 [==============================] - 0s 2ms/step - loss: 3182.5317 - mae: 3182.5317\n"
          ],
          "name": "stdout"
        },
        {
          "output_type": "execute_result",
          "data": {
            "text/plain": [
              "[3182.53173828125, 3182.53173828125]"
            ]
          },
          "metadata": {
            "tags": []
          },
          "execution_count": 91
        }
      ]
    },
    {
      "cell_type": "code",
      "metadata": {
        "id": "W82rekL_BvGa"
      },
      "source": [
        "# Insaurance model two\n",
        "## 9/9 [==============================] - 0s 3ms/step - loss: 3245.8386 - mae: 3245.8386 "
      ],
      "execution_count": null,
      "outputs": []
    },
    {
      "cell_type": "code",
      "metadata": {
        "colab": {
          "base_uri": "https://localhost:8080/",
          "height": 296
        },
        "id": "-i8XZASmC1E4",
        "outputId": "510e6a45-969b-48be-c9b6-90a84d149ea8"
      },
      "source": [
        "pd.DataFrame(history.history).plot()\n",
        "plt.xlabel(\"epochs\")\n",
        "plt.ylabel(\"loss\")"
      ],
      "execution_count": null,
      "outputs": [
        {
          "output_type": "execute_result",
          "data": {
            "text/plain": [
              "Text(0, 0.5, 'loss')"
            ]
          },
          "metadata": {
            "tags": []
          },
          "execution_count": 93
        },
        {
          "output_type": "display_data",
          "data": {
            "image/png": "[encoded data removed]",
            "text/plain": [
              "<Figure size 432x288 with 1 Axes>"
            ]
          },
          "metadata": {
            "tags": [],
            "needs_background": "light"
          }
        }
      ]
    },
    {
      "cell_type": "code",
      "metadata": {
        "id": "YXUGVV9ODDpQ"
      },
      "source": [
        ""
      ],
      "execution_count": null,
      "outputs": []
    }
  ]
}